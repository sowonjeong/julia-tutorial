{
 "cells": [
  {
   "cell_type": "code",
   "execution_count": 3,
   "metadata": {},
   "outputs": [],
   "source": [
    "import Pkg"
   ]
  },
  {
   "cell_type": "code",
   "execution_count": 2,
   "metadata": {},
   "outputs": [
    {
     "ename": "LoadError",
     "evalue": "ArgumentError: Package Convex not found in current path:\n- Run `import Pkg; Pkg.add(\"Convex\")` to install the Convex package.\n",
     "output_type": "error",
     "traceback": [
      "ArgumentError: Package Convex not found in current path:\n- Run `import Pkg; Pkg.add(\"Convex\")` to install the Convex package.\n",
      "",
      "Stacktrace:",
      " [1] require(into::Module, mod::Symbol)",
      "   @ Base ./loading.jl:893",
      " [2] eval",
      "   @ ./boot.jl:360 [inlined]",
      " [3] include_string(mapexpr::typeof(REPL.softscope), mod::Module, code::String, filename::String)",
      "   @ Base ./loading.jl:1116"
     ]
    }
   ],
   "source": [
    "using Pkg\n",
    "Pkg.add(\"Convex\")\n",
    "using Convex\n",
    "Pkg.add(\"SCS\")\n",
    "using SCS\n",
    "Pkg.add(\"SCS\")\n",
    "using XLSX\n",
    "Pkg.add(\"SCS\")\n",
    "using DataFrames\n",
    "Pkg.add(\"SCS\")\n",
    "using Plots\n",
    "Pkg.add(\"SCS\")\n",
    "using CSV\n",
    "Pkg.add(\"SCS\")\n",
    "using Statistics\n",
    "Pkg.add(\"SCS\")\n",
    "using Images\n",
    "Pkg.add(\"SCS\")\n",
    "using DelimitedFiles"
   ]
  },
  {
   "cell_type": "markdown",
   "metadata": {},
   "source": [
    "## Example1: Portfolio investment\n",
    "\n",
    "Our first problem will be an investment problem. We will look at stock prices from three companies and decide how to spend an amount of $1000 on these three companies. Let's first load some data."
   ]
  },
  {
   "cell_type": "code",
   "execution_count": null,
   "metadata": {},
   "outputs": [],
   "source": []
  }
 ],
 "metadata": {
  "kernelspec": {
   "display_name": "Julia 1.6.7",
   "language": "julia",
   "name": "julia-1.6"
  },
  "language_info": {
   "file_extension": ".jl",
   "mimetype": "application/julia",
   "name": "julia",
   "version": "1.6.7"
  }
 },
 "nbformat": 4,
 "nbformat_minor": 2
}
