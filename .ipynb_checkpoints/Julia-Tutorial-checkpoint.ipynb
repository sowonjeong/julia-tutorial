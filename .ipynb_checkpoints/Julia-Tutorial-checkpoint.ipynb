{
 "cells": [
  {
   "cell_type": "markdown",
   "metadata": {
    "slideshow": {
     "slide_type": "slide"
    }
   },
   "source": [
    "# Getting started\n",
    "Topics:\n",
    "\n",
    "    1.How to print\n",
    "    2. How to assign variables\n",
    "    3. How to comment\n",
    "    4. Syntax for basic math"
   ]
  },
  {
   "cell_type": "markdown",
   "metadata": {
    "slideshow": {
     "slide_type": "subslide"
    }
   },
   "source": [
    "## How to print\n",
    "In Julia we usually use `println` to print"
   ]
  },
  {
   "cell_type": "code",
   "execution_count": 1,
   "metadata": {},
   "outputs": [
    {
     "name": "stdout",
     "output_type": "stream",
     "text": [
      "I'm excited to learn Julia\n"
     ]
    }
   ],
   "source": [
    "println(\"I'm excited to learn Julia\")"
   ]
  },
  {
   "cell_type": "markdown",
   "metadata": {},
   "source": [
    "If you're new to jupyter notebooks, note that the last line of a cell prints when you execute that cell."
   ]
  },
  {
   "cell_type": "code",
   "execution_count": 2,
   "metadata": {},
   "outputs": [
    {
     "data": {
      "text/plain": [
       "456"
      ]
     },
     "execution_count": 2,
     "metadata": {},
     "output_type": "execute_result"
    }
   ],
   "source": [
    "123\n",
    "456"
   ]
  },
  {
   "cell_type": "markdown",
   "metadata": {},
   "source": [
    "## How to assign variables\n",
    "All we need is a variable name, value and an equal's sign!\n",
    "Julia will figure out types for us."
   ]
  },
  {
   "cell_type": "code",
   "execution_count": 3,
   "metadata": {},
   "outputs": [
    {
     "data": {
      "text/plain": [
       "Int64"
      ]
     },
     "execution_count": 3,
     "metadata": {},
     "output_type": "execute_result"
    }
   ],
   "source": [
    "my_answer = 42\n",
    "typeof(my_answer)"
   ]
  },
  {
   "cell_type": "code",
   "execution_count": 4,
   "metadata": {},
   "outputs": [
    {
     "data": {
      "text/plain": [
       "Float64"
      ]
     },
     "execution_count": 4,
     "metadata": {},
     "output_type": "execute_result"
    }
   ],
   "source": [
    "my_pi = 3.141592\n",
    "typeof(my_pi)"
   ]
  },
  {
   "cell_type": "code",
   "execution_count": 5,
   "metadata": {},
   "outputs": [
    {
     "data": {
      "text/plain": [
       "String"
      ]
     },
     "execution_count": 5,
     "metadata": {},
     "output_type": "execute_result"
    }
   ],
   "source": [
    "my_name = \"Jane\"\n",
    "typeof(my_name)"
   ]
  },
  {
   "cell_type": "markdown",
   "metadata": {},
   "source": [
    "After assigning a value to a variable we can reassign a value of a different type to that variable without any issue."
   ]
  },
  {
   "cell_type": "code",
   "execution_count": 6,
   "metadata": {},
   "outputs": [
    {
     "data": {
      "text/plain": [
       "\"Jane\""
      ]
     },
     "execution_count": 6,
     "metadata": {},
     "output_type": "execute_result"
    }
   ],
   "source": [
    "my_answer = my_name"
   ]
  },
  {
   "cell_type": "code",
   "execution_count": 7,
   "metadata": {},
   "outputs": [
    {
     "data": {
      "text/plain": [
       "String"
      ]
     },
     "execution_count": 7,
     "metadata": {},
     "output_type": "execute_result"
    }
   ],
   "source": [
    "typeof(my_answer)"
   ]
  },
  {
   "cell_type": "markdown",
   "metadata": {},
   "source": [
    "## How to comment"
   ]
  },
  {
   "cell_type": "code",
   "execution_count": 8,
   "metadata": {},
   "outputs": [],
   "source": [
    "# You can leave comments on a single line using the pound/hash"
   ]
  },
  {
   "cell_type": "code",
   "execution_count": 9,
   "metadata": {},
   "outputs": [],
   "source": [
    "#=\n",
    "\n",
    "For multi-line comments,\n",
    "use the '#= =#' sequence.\n",
    "\n",
    "=#"
   ]
  },
  {
   "cell_type": "markdown",
   "metadata": {},
   "source": [
    "## Syntax for basic math"
   ]
  },
  {
   "cell_type": "code",
   "execution_count": 10,
   "metadata": {},
   "outputs": [
    {
     "data": {
      "text/plain": [
       "10"
      ]
     },
     "execution_count": 10,
     "metadata": {},
     "output_type": "execute_result"
    }
   ],
   "source": [
    "sum = 3 +7"
   ]
  },
  {
   "cell_type": "code",
   "execution_count": 11,
   "metadata": {},
   "outputs": [
    {
     "data": {
      "text/plain": [
       "7"
      ]
     },
     "execution_count": 11,
     "metadata": {},
     "output_type": "execute_result"
    }
   ],
   "source": [
    "difference = 10 -3"
   ]
  },
  {
   "cell_type": "code",
   "execution_count": 12,
   "metadata": {},
   "outputs": [
    {
     "data": {
      "text/plain": [
       "100"
      ]
     },
     "execution_count": 12,
     "metadata": {},
     "output_type": "execute_result"
    }
   ],
   "source": [
    "product = 20 * 5"
   ]
  },
  {
   "cell_type": "code",
   "execution_count": 13,
   "metadata": {},
   "outputs": [
    {
     "data": {
      "text/plain": [
       "10.0"
      ]
     },
     "execution_count": 13,
     "metadata": {},
     "output_type": "execute_result"
    }
   ],
   "source": [
    "quotient = 100/10"
   ]
  },
  {
   "cell_type": "code",
   "execution_count": 14,
   "metadata": {},
   "outputs": [
    {
     "data": {
      "text/plain": [
       "100"
      ]
     },
     "execution_count": 14,
     "metadata": {},
     "output_type": "execute_result"
    }
   ],
   "source": [
    "power = 10 ^ 2"
   ]
  },
  {
   "cell_type": "code",
   "execution_count": 15,
   "metadata": {},
   "outputs": [
    {
     "data": {
      "text/plain": [
       "1"
      ]
     },
     "execution_count": 15,
     "metadata": {},
     "output_type": "execute_result"
    }
   ],
   "source": [
    "modulus = 101 % 2"
   ]
  },
  {
   "cell_type": "markdown",
   "metadata": {},
   "source": [
    "# Strings\n",
    "Topics:\n",
    "\n",
    "    1. How to get a string\n",
    "    2. String interpolation\n",
    "    3. String concatenation"
   ]
  },
  {
   "cell_type": "markdown",
   "metadata": {},
   "source": [
    "## How to get a string\n",
    "Enclose your characters in \"\" or \"\"\" \"\"\"!"
   ]
  },
  {
   "cell_type": "code",
   "execution_count": 16,
   "metadata": {},
   "outputs": [
    {
     "data": {
      "text/plain": [
       "\"I am string.\""
      ]
     },
     "execution_count": 16,
     "metadata": {},
     "output_type": "execute_result"
    }
   ],
   "source": [
    "s1 = \"I am string.\""
   ]
  },
  {
   "cell_type": "code",
   "execution_count": 17,
   "metadata": {},
   "outputs": [
    {
     "data": {
      "text/plain": [
       "\"I am also a string!\""
      ]
     },
     "execution_count": 17,
     "metadata": {},
     "output_type": "execute_result"
    }
   ],
   "source": [
    "s2 = \"\"\"I am also a string!\"\"\""
   ]
  },
  {
   "cell_type": "markdown",
   "metadata": {},
   "source": [
    "There are a couple functional differences between strings enclosed in single and triple quotes. One differnece is that, in the latter case, you can use quotation marks within your string. "
   ]
  },
  {
   "cell_type": "code",
   "execution_count": 18,
   "metadata": {},
   "outputs": [
    {
     "ename": "LoadError",
     "evalue": "syntax: cannot juxtapose string literal",
     "output_type": "error",
     "traceback": [
      "syntax: cannot juxtapose string literal",
      "",
      "Stacktrace:",
      " [1] top-level scope",
      "   @ In[18]:1",
      " [2] eval",
      "   @ ./boot.jl:360 [inlined]",
      " [3] include_string(mapexpr::typeof(REPL.softscope), mod::Module, code::String, filename::String)",
      "   @ Base ./loading.jl:1116"
     ]
    }
   ],
   "source": [
    "\"Here, we get an \"error\" because it's ambiguous where the string ends\""
   ]
  },
  {
   "cell_type": "code",
   "execution_count": 19,
   "metadata": {},
   "outputs": [
    {
     "data": {
      "text/plain": [
       "\"Look, Mom, no \\\"erros\\\"!!! \""
      ]
     },
     "execution_count": 19,
     "metadata": {},
     "output_type": "execute_result"
    }
   ],
   "source": [
    "\"\"\"Look, Mom, no \"erros\"!!! \"\"\""
   ]
  },
  {
   "cell_type": "code",
   "execution_count": 20,
   "metadata": {},
   "outputs": [
    {
     "data": {
      "text/plain": [
       "Char"
      ]
     },
     "execution_count": 20,
     "metadata": {},
     "output_type": "execute_result"
    }
   ],
   "source": [
    "typeof('a')"
   ]
  },
  {
   "cell_type": "code",
   "execution_count": 21,
   "metadata": {},
   "outputs": [
    {
     "ename": "LoadError",
     "evalue": "syntax: character literal contains multiple characters",
     "output_type": "error",
     "traceback": [
      "syntax: character literal contains multiple characters",
      "",
      "Stacktrace:",
      " [1] top-level scope",
      "   @ In[21]:1",
      " [2] eval",
      "   @ ./boot.jl:360 [inlined]",
      " [3] include_string(mapexpr::typeof(REPL.softscope), mod::Module, code::String, filename::String)",
      "   @ Base ./loading.jl:1116"
     ]
    }
   ],
   "source": [
    "'We will get an error here'"
   ]
  },
  {
   "cell_type": "markdown",
   "metadata": {},
   "source": [
    "## String interpolation\n",
    "We can use the $ sign to insert existing variables into a string and to evaluate expressions within a string.\n",
    "Below is an example that contains some highly sensitive personal information"
   ]
  },
  {
   "cell_type": "code",
   "execution_count": 22,
   "metadata": {},
   "outputs": [
    {
     "name": "stdout",
     "output_type": "stream",
     "text": [
      "Hello, my name is Jane\n",
      "I have 10 fingers and 10 toes. That is 20 digits in all!!\n"
     ]
    }
   ],
   "source": [
    "name = \"Jane\"\n",
    "num_fingers = 10\n",
    "num_toes = 10\n",
    "\n",
    "println(\"Hello, my name is $name\")\n",
    "println(\"I have $num_fingers fingers and $num_toes toes. That is $(num_fingers+num_toes) digits in all!!\")"
   ]
  },
  {
   "cell_type": "markdown",
   "metadata": {},
   "source": [
    "## String concatenation \n",
    "Below are three ways we can concatenate strings!\n",
    "\n",
    "The first way is to use the `string()` function.\n",
    "`string()` converts non-string inputs to strings."
   ]
  },
  {
   "cell_type": "code",
   "execution_count": 23,
   "metadata": {},
   "outputs": [
    {
     "data": {
      "text/plain": [
       "\"How many catsare too many cats?\""
      ]
     },
     "execution_count": 23,
     "metadata": {},
     "output_type": "execute_result"
    }
   ],
   "source": [
    "string(\"How many cats\",\"are too many cats?\")"
   ]
  },
  {
   "cell_type": "code",
   "execution_count": 24,
   "metadata": {},
   "outputs": [
    {
     "data": {
      "text/plain": [
       "\"I don't know, but10 are too few.\""
      ]
     },
     "execution_count": 24,
     "metadata": {},
     "output_type": "execute_result"
    }
   ],
   "source": [
    "string(\"I don't know, but\", 10, \" are too few.\")"
   ]
  },
  {
   "cell_type": "markdown",
   "metadata": {},
   "source": [
    "We also can use `*` or string interpolation!"
   ]
  },
  {
   "cell_type": "code",
   "execution_count": 25,
   "metadata": {},
   "outputs": [],
   "source": [
    "s3 = \"How many cats \";\n",
    "s4 = \"are too many cats?\";"
   ]
  },
  {
   "cell_type": "code",
   "execution_count": 26,
   "metadata": {},
   "outputs": [
    {
     "data": {
      "text/plain": [
       "\"How many cats are too many cats?\""
      ]
     },
     "execution_count": 26,
     "metadata": {},
     "output_type": "execute_result"
    }
   ],
   "source": [
    "s3*s4"
   ]
  },
  {
   "cell_type": "code",
   "execution_count": 27,
   "metadata": {},
   "outputs": [
    {
     "data": {
      "text/plain": [
       "\"How many cats are too many cats?\""
      ]
     },
     "execution_count": 27,
     "metadata": {},
     "output_type": "execute_result"
    }
   ],
   "source": [
    "\"$s3$s4\""
   ]
  },
  {
   "cell_type": "markdown",
   "metadata": {},
   "source": [
    "# Data Structures\n",
    "Once we start working with many pieces of data at once, it will be convenient for us to store data in structures like arrays or dictionaries (rather than just relying on variables).\n",
    "\n",
    "Types of data structures covered:\n",
    "\n",
    "    1. Dictionaries\n",
    "    2. Tuples\n",
    "    3. Arrays\n",
    "    \n",
    "As an overview, tuples and arrays are both ordered sequences of elements (so we can index into them). Dictionaries and arrays are both mutable. We'll explain this more below!"
   ]
  },
  {
   "cell_type": "markdown",
   "metadata": {},
   "source": [
    "## Dictionaries\n",
    "\n",
    "If we have sets of data related to one another, we may choose to store that data in a dictionary. A good example is a contacts list, where we associate names with phone numbers."
   ]
  },
  {
   "cell_type": "code",
   "execution_count": 28,
   "metadata": {},
   "outputs": [
    {
     "data": {
      "text/plain": [
       "Dict{String, String} with 2 entries:\n",
       "  \"Jenny\"        => \"867-5309\"\n",
       "  \"Ghostbusters\" => \"555-2368\""
      ]
     },
     "execution_count": 28,
     "metadata": {},
     "output_type": "execute_result"
    }
   ],
   "source": [
    "myphonebook = Dict(\"Jenny\"=>\"867-5309\",\"Ghostbusters\" => \"555-2368\")"
   ]
  },
  {
   "cell_type": "markdown",
   "metadata": {},
   "source": [
    "We can add another entry to this dictionary as follows"
   ]
  },
  {
   "cell_type": "code",
   "execution_count": 29,
   "metadata": {},
   "outputs": [
    {
     "data": {
      "text/plain": [
       "\"555-FILK\""
      ]
     },
     "execution_count": 29,
     "metadata": {},
     "output_type": "execute_result"
    }
   ],
   "source": [
    "myphonebook[\"Kramer\"] = \"555-FILK\""
   ]
  },
  {
   "cell_type": "markdown",
   "metadata": {},
   "source": [
    "Let's check what our phonebook looks like now..."
   ]
  },
  {
   "cell_type": "code",
   "execution_count": 30,
   "metadata": {},
   "outputs": [
    {
     "data": {
      "text/plain": [
       "Dict{String, String} with 3 entries:\n",
       "  \"Jenny\"        => \"867-5309\"\n",
       "  \"Kramer\"       => \"555-FILK\"\n",
       "  \"Ghostbusters\" => \"555-2368\""
      ]
     },
     "execution_count": 30,
     "metadata": {},
     "output_type": "execute_result"
    }
   ],
   "source": [
    "myphonebook"
   ]
  },
  {
   "cell_type": "markdown",
   "metadata": {},
   "source": [
    "In this example, each name and number is a \"key\" and \"value\" pair. We can grap Kramer's number(a value) using the associated key."
   ]
  },
  {
   "cell_type": "code",
   "execution_count": 31,
   "metadata": {},
   "outputs": [
    {
     "data": {
      "text/plain": [
       "\"555-FILK\""
      ]
     },
     "execution_count": 31,
     "metadata": {},
     "output_type": "execute_result"
    }
   ],
   "source": [
    "myphonebook[\"Kramer\"]"
   ]
  },
  {
   "cell_type": "markdown",
   "metadata": {},
   "source": [
    "We can also get Kramer's number -and simultaneously delete him from our contact list -by using `pop!`"
   ]
  },
  {
   "cell_type": "code",
   "execution_count": 32,
   "metadata": {},
   "outputs": [
    {
     "data": {
      "text/plain": [
       "\"555-FILK\""
      ]
     },
     "execution_count": 32,
     "metadata": {},
     "output_type": "execute_result"
    }
   ],
   "source": [
    "pop!(myphonebook,\"Kramer\")"
   ]
  },
  {
   "cell_type": "code",
   "execution_count": 33,
   "metadata": {},
   "outputs": [
    {
     "data": {
      "text/plain": [
       "Dict{String, String} with 2 entries:\n",
       "  \"Jenny\"        => \"867-5309\"\n",
       "  \"Ghostbusters\" => \"555-2368\""
      ]
     },
     "execution_count": 33,
     "metadata": {},
     "output_type": "execute_result"
    }
   ],
   "source": [
    "myphonebook"
   ]
  },
  {
   "cell_type": "markdown",
   "metadata": {},
   "source": [
    "Unlike tuples and arrays, dictionaries are not ordered. So we can't index into them."
   ]
  },
  {
   "cell_type": "code",
   "execution_count": 34,
   "metadata": {},
   "outputs": [
    {
     "ename": "LoadError",
     "evalue": "KeyError: key 1 not found",
     "output_type": "error",
     "traceback": [
      "KeyError: key 1 not found",
      "",
      "Stacktrace:",
      " [1] getindex(h::Dict{String, String}, key::Int64)",
      "   @ Base ./dict.jl:482",
      " [2] top-level scope",
      "   @ In[34]:1",
      " [3] eval",
      "   @ ./boot.jl:360 [inlined]",
      " [4] include_string(mapexpr::typeof(REPL.softscope), mod::Module, code::String, filename::String)",
      "   @ Base ./loading.jl:1116"
     ]
    }
   ],
   "source": [
    "myphonebook[1]"
   ]
  },
  {
   "cell_type": "markdown",
   "metadata": {},
   "source": [
    "## Tuples\n",
    "\n",
    "We can create a tuple by enclosing an ordered sequence of elements in `()`."
   ]
  },
  {
   "cell_type": "code",
   "execution_count": 35,
   "metadata": {},
   "outputs": [
    {
     "data": {
      "text/plain": [
       "(\"penguins\", \"cats\", \"sugargliders\")"
      ]
     },
     "execution_count": 35,
     "metadata": {},
     "output_type": "execute_result"
    }
   ],
   "source": [
    "myfavoriteanimals = (\"penguins\", \"cats\", \"sugargliders\")"
   ]
  },
  {
   "cell_type": "markdown",
   "metadata": {},
   "source": [
    "We can index into this tuple,"
   ]
  },
  {
   "cell_type": "code",
   "execution_count": 36,
   "metadata": {},
   "outputs": [
    {
     "data": {
      "text/plain": [
       "\"penguins\""
      ]
     },
     "execution_count": 36,
     "metadata": {},
     "output_type": "execute_result"
    }
   ],
   "source": [
    "myfavoriteanimals[1]"
   ]
  },
  {
   "cell_type": "markdown",
   "metadata": {},
   "source": [
    "but since tuples are immutable, we can't update it."
   ]
  },
  {
   "cell_type": "code",
   "execution_count": 37,
   "metadata": {},
   "outputs": [
    {
     "ename": "LoadError",
     "evalue": "MethodError: no method matching setindex!(::Tuple{String, String, String}, ::String, ::Int64)",
     "output_type": "error",
     "traceback": [
      "MethodError: no method matching setindex!(::Tuple{String, String, String}, ::String, ::Int64)",
      "",
      "Stacktrace:",
      " [1] top-level scope",
      "   @ In[37]:1",
      " [2] eval",
      "   @ ./boot.jl:360 [inlined]",
      " [3] include_string(mapexpr::typeof(REPL.softscope), mod::Module, code::String, filename::String)",
      "   @ Base ./loading.jl:1116"
     ]
    }
   ],
   "source": [
    "myfavoriteanimals[1] = \"otters\""
   ]
  },
  {
   "cell_type": "markdown",
   "metadata": {},
   "source": [
    "## Arrays\n",
    "\n",
    "Unlike tuples, arrays are mutable. Unlike dictionaries, arrays contain ordered sequence of elements.\n",
    "We can create an array by enclosing this sequence of elemtns in `[]`.\n",
    "\n",
    "For example we might create an array to keep track of my friends:"
   ]
  },
  {
   "cell_type": "code",
   "execution_count": 38,
   "metadata": {},
   "outputs": [
    {
     "data": {
      "text/plain": [
       "5-element Vector{String}:\n",
       " \"Ted\"\n",
       " \"Robyn\"\n",
       " \"Barney\"\n",
       " \"Lily\"\n",
       " \"Marshall\""
      ]
     },
     "execution_count": 38,
     "metadata": {},
     "output_type": "execute_result"
    }
   ],
   "source": [
    "myfriends = [\"Ted\",\"Robyn\",\"Barney\",\"Lily\",\"Marshall\"]"
   ]
  },
  {
   "cell_type": "markdown",
   "metadata": {},
   "source": [
    "or to store a sequence of numbers"
   ]
  },
  {
   "cell_type": "code",
   "execution_count": 39,
   "metadata": {},
   "outputs": [
    {
     "data": {
      "text/plain": [
       "7-element Vector{Int64}:\n",
       "  1\n",
       "  1\n",
       "  2\n",
       "  3\n",
       "  4\n",
       "  8\n",
       " 13"
      ]
     },
     "execution_count": 39,
     "metadata": {},
     "output_type": "execute_result"
    }
   ],
   "source": [
    "fibonacci = [1,1,2,3,4,8,13]"
   ]
  },
  {
   "cell_type": "code",
   "execution_count": 40,
   "metadata": {},
   "outputs": [
    {
     "data": {
      "text/plain": [
       "4-element Vector{Any}:\n",
       " 1\n",
       " 2\n",
       " 3.0\n",
       "  \"hi\""
      ]
     },
     "execution_count": 40,
     "metadata": {},
     "output_type": "execute_result"
    }
   ],
   "source": [
    "mix = [1,2,3.0,\"hi\"]"
   ]
  },
  {
   "cell_type": "markdown",
   "metadata": {},
   "source": [
    "Once we have an array, we can grab individual pieces of data from inside that array by indexing into the array. For example, if we want the third friend listed in `myfriends`, we write"
   ]
  },
  {
   "cell_type": "code",
   "execution_count": 41,
   "metadata": {},
   "outputs": [
    {
     "data": {
      "text/plain": [
       "\"Barney\""
      ]
     },
     "execution_count": 41,
     "metadata": {},
     "output_type": "execute_result"
    }
   ],
   "source": [
    "myfriends[3]"
   ]
  },
  {
   "cell_type": "markdown",
   "metadata": {},
   "source": [
    "We can use indexing to edit an existing element of an array"
   ]
  },
  {
   "cell_type": "code",
   "execution_count": 42,
   "metadata": {},
   "outputs": [
    {
     "data": {
      "text/plain": [
       "\"Baby Bop\""
      ]
     },
     "execution_count": 42,
     "metadata": {},
     "output_type": "execute_result"
    }
   ],
   "source": [
    "myfriends[3] = \"Baby Bop\""
   ]
  },
  {
   "cell_type": "markdown",
   "metadata": {},
   "source": [
    "We can also edit the array by using the `push!` and `pop!` functions. `push!` adds an element to the end of an array and `pop!` removes the last element of an array.\n",
    "\n",
    "We can add another number to our fibonnaci sequence"
   ]
  },
  {
   "cell_type": "code",
   "execution_count": 43,
   "metadata": {},
   "outputs": [
    {
     "data": {
      "text/plain": [
       "8-element Vector{Int64}:\n",
       "  1\n",
       "  1\n",
       "  2\n",
       "  3\n",
       "  4\n",
       "  8\n",
       " 13\n",
       " 21"
      ]
     },
     "execution_count": 43,
     "metadata": {},
     "output_type": "execute_result"
    }
   ],
   "source": [
    "push!(fibonacci, 21)"
   ]
  },
  {
   "cell_type": "markdown",
   "metadata": {},
   "source": [
    "and then remove it"
   ]
  },
  {
   "cell_type": "code",
   "execution_count": 44,
   "metadata": {},
   "outputs": [
    {
     "data": {
      "text/plain": [
       "21"
      ]
     },
     "execution_count": 44,
     "metadata": {},
     "output_type": "execute_result"
    }
   ],
   "source": [
    "pop!(fibonacci)"
   ]
  },
  {
   "cell_type": "code",
   "execution_count": 45,
   "metadata": {},
   "outputs": [
    {
     "data": {
      "text/plain": [
       "7-element Vector{Int64}:\n",
       "  1\n",
       "  1\n",
       "  2\n",
       "  3\n",
       "  4\n",
       "  8\n",
       " 13"
      ]
     },
     "execution_count": 45,
     "metadata": {},
     "output_type": "execute_result"
    }
   ],
   "source": [
    "fibonacci"
   ]
  },
  {
   "cell_type": "markdown",
   "metadata": {},
   "source": [
    "So far I've given examples of only 1D arrays of scalars, but arrays can have an arbitrary number of dimensions and can also store other arrays. \n",
    "\n",
    "For example, the following are arrays of arrays:"
   ]
  },
  {
   "cell_type": "code",
   "execution_count": 46,
   "metadata": {},
   "outputs": [
    {
     "data": {
      "text/plain": [
       "2-element Vector{Vector{String}}:\n",
       " [\"koobideh\", \"chocolate\", \"eggs\"]\n",
       " [\"penguins\", \"cats\", \"sugargliders\"]"
      ]
     },
     "execution_count": 46,
     "metadata": {},
     "output_type": "execute_result"
    }
   ],
   "source": [
    "favorites = [[\"koobideh\",\"chocolate\",\"eggs\"],[\"penguins\",\"cats\",\"sugargliders\"]]"
   ]
  },
  {
   "cell_type": "code",
   "execution_count": 47,
   "metadata": {},
   "outputs": [
    {
     "data": {
      "text/plain": [
       "3-element Vector{Vector{Int64}}:\n",
       " [1, 2, 3]\n",
       " [4, 5]\n",
       " [6, 7, 8, 9]"
      ]
     },
     "execution_count": 47,
     "metadata": {},
     "output_type": "execute_result"
    }
   ],
   "source": [
    "numbers = [[1,2,3],[4,5],[6,7,8,9]]"
   ]
  },
  {
   "cell_type": "markdown",
   "metadata": {},
   "source": [
    "Below are examples of 2D and 3D arrays populated with random variables."
   ]
  },
  {
   "cell_type": "code",
   "execution_count": 48,
   "metadata": {},
   "outputs": [
    {
     "data": {
      "text/plain": [
       "4×3 Matrix{Float64}:\n",
       " 0.957485  0.649989  0.898138\n",
       " 0.599631  0.250681  0.571793\n",
       " 0.853796  0.29309   0.691767\n",
       " 0.54668   0.910905  0.259373"
      ]
     },
     "execution_count": 48,
     "metadata": {},
     "output_type": "execute_result"
    }
   ],
   "source": [
    "rand(4,3)"
   ]
  },
  {
   "cell_type": "code",
   "execution_count": 49,
   "metadata": {},
   "outputs": [
    {
     "data": {
      "text/plain": [
       "4×3×2 Array{Float64, 3}:\n",
       "[:, :, 1] =\n",
       " 0.974248  0.969536  0.849488\n",
       " 0.415857  0.830316  0.854112\n",
       " 0.604807  0.455493  0.276139\n",
       " 0.506374  0.151592  0.525653\n",
       "\n",
       "[:, :, 2] =\n",
       " 0.287142  0.786093  0.618394\n",
       " 0.153945  0.62352   0.541699\n",
       " 0.841495  0.296323  0.717747\n",
       " 0.260975  0.8865    0.616261"
      ]
     },
     "execution_count": 49,
     "metadata": {},
     "output_type": "execute_result"
    }
   ],
   "source": [
    "rand(4,3,2)"
   ]
  },
  {
   "cell_type": "markdown",
   "metadata": {},
   "source": [
    "# Loops\n",
    "\n",
    "Topics: \n",
    "\n",
    "    1. `while` loops\n",
    "    2. `for` loops"
   ]
  },
  {
   "cell_type": "markdown",
   "metadata": {},
   "source": [
    "## while loops\n",
    "\n",
    "The syntax for a `while` is\n",
    "\n",
    "    while *condition*\n",
    "        *loop body*\n",
    "    end\n",
    "    \n",
    "For example, we can use `while` to count or iterate over an array."
   ]
  },
  {
   "cell_type": "code",
   "execution_count": 50,
   "metadata": {},
   "outputs": [
    {
     "name": "stdout",
     "output_type": "stream",
     "text": [
      "1\n",
      "2\n",
      "3\n",
      "4\n",
      "5\n",
      "6\n",
      "7\n",
      "8\n",
      "9\n",
      "10\n"
     ]
    }
   ],
   "source": [
    "n = 0\n",
    "while n < 10\n",
    "    n += 1\n",
    "    println(n)\n",
    "end"
   ]
  },
  {
   "cell_type": "code",
   "execution_count": 51,
   "metadata": {},
   "outputs": [
    {
     "name": "stdout",
     "output_type": "stream",
     "text": [
      "Hi Ted, it's great to see you!\n",
      "Hi Robyn, it's great to see you!\n",
      "Hi Barney, it's great to see you!\n",
      "Hi Marshall, it's great to see you!\n"
     ]
    }
   ],
   "source": [
    "myfriends = [\"Ted\",\"Robyn\",\"Barney\",\"Marshall\"]\n",
    "\n",
    "i = 1\n",
    "while i <= length(myfriends)\n",
    "    friend = myfriends[i]\n",
    "    println(\"Hi $friend, it's great to see you!\")\n",
    "    i += 1\n",
    "end"
   ]
  },
  {
   "cell_type": "markdown",
   "metadata": {},
   "source": [
    "## for loops\n",
    "\n",
    "The syntax for a `for` loop is\n",
    "\n",
    "    for *var* in *loop iterable*\n",
    "        *loop body*\n",
    "    end\n",
    "    \n",
    "We could use a for loop to generate the same results as either of the examples above:"
   ]
  },
  {
   "cell_type": "code",
   "execution_count": 52,
   "metadata": {},
   "outputs": [
    {
     "name": "stdout",
     "output_type": "stream",
     "text": [
      "1\n",
      "2\n",
      "3\n",
      "4\n",
      "5\n",
      "6\n",
      "7\n",
      "8\n",
      "9\n",
      "10\n"
     ]
    }
   ],
   "source": [
    "for n in 1:10\n",
    "    println(n)\n",
    "end"
   ]
  },
  {
   "cell_type": "code",
   "execution_count": 53,
   "metadata": {},
   "outputs": [
    {
     "name": "stdout",
     "output_type": "stream",
     "text": [
      "Hi Ted, it's great to see you!\n",
      "Hi Robyn, it's great to see you!\n",
      "Hi Barney, it's great to see you!\n",
      "Hi Marshall, it's great to see you!\n"
     ]
    }
   ],
   "source": [
    "for friend in myfriends\n",
    "    println(\"Hi $friend, it's great to see you!\")\n",
    "end"
   ]
  },
  {
   "cell_type": "markdown",
   "metadata": {},
   "source": [
    "Note that we could replace `in`  with either `=` or $\\in$"
   ]
  },
  {
   "cell_type": "code",
   "execution_count": 54,
   "metadata": {},
   "outputs": [
    {
     "name": "stdout",
     "output_type": "stream",
     "text": [
      "1\n",
      "2\n",
      "3\n",
      "4\n",
      "5\n",
      "6\n",
      "7\n",
      "8\n",
      "9\n",
      "10\n"
     ]
    }
   ],
   "source": [
    "for n = 1:10\n",
    "    println(n)\n",
    "end"
   ]
  },
  {
   "cell_type": "markdown",
   "metadata": {},
   "source": [
    "Now let's use `for` loops to create some addition tables, where the value of every entry is the sum of its row and column indices.\n",
    "\n",
    "First we initialize an array with zeros."
   ]
  },
  {
   "cell_type": "code",
   "execution_count": 55,
   "metadata": {},
   "outputs": [
    {
     "data": {
      "text/plain": [
       "5×5 Matrix{Float64}:\n",
       " 0.0  0.0  0.0  0.0  0.0\n",
       " 0.0  0.0  0.0  0.0  0.0\n",
       " 0.0  0.0  0.0  0.0  0.0\n",
       " 0.0  0.0  0.0  0.0  0.0\n",
       " 0.0  0.0  0.0  0.0  0.0"
      ]
     },
     "execution_count": 55,
     "metadata": {},
     "output_type": "execute_result"
    }
   ],
   "source": [
    "m,n = 5, 5\n",
    "A = zeros(m,n)"
   ]
  },
  {
   "cell_type": "code",
   "execution_count": 56,
   "metadata": {},
   "outputs": [
    {
     "data": {
      "text/plain": [
       "5×5 Matrix{Float64}:\n",
       " 2.0  3.0  4.0  5.0   6.0\n",
       " 3.0  4.0  5.0  6.0   7.0\n",
       " 4.0  5.0  6.0  7.0   8.0\n",
       " 5.0  6.0  7.0  8.0   9.0\n",
       " 6.0  7.0  8.0  9.0  10.0"
      ]
     },
     "execution_count": 56,
     "metadata": {},
     "output_type": "execute_result"
    }
   ],
   "source": [
    "for i in 1:m\n",
    "    for j in 1:n\n",
    "        A[i,j] = i+j\n",
    "    end\n",
    "end\n",
    "\n",
    "A"
   ]
  },
  {
   "cell_type": "markdown",
   "metadata": {},
   "source": [
    "Here's some syntactic sugar for the same nested `for` loop"
   ]
  },
  {
   "cell_type": "code",
   "execution_count": 57,
   "metadata": {},
   "outputs": [
    {
     "data": {
      "text/plain": [
       "5×5 Matrix{Float64}:\n",
       " 0.0  0.0  0.0  0.0  0.0\n",
       " 0.0  0.0  0.0  0.0  0.0\n",
       " 0.0  0.0  0.0  0.0  0.0\n",
       " 0.0  0.0  0.0  0.0  0.0\n",
       " 0.0  0.0  0.0  0.0  0.0"
      ]
     },
     "execution_count": 57,
     "metadata": {},
     "output_type": "execute_result"
    }
   ],
   "source": [
    "B = zeros(m,n)"
   ]
  },
  {
   "cell_type": "code",
   "execution_count": 58,
   "metadata": {},
   "outputs": [
    {
     "data": {
      "text/plain": [
       "5×5 Matrix{Float64}:\n",
       " 2.0  3.0  4.0  5.0   6.0\n",
       " 3.0  4.0  5.0  6.0   7.0\n",
       " 4.0  5.0  6.0  7.0   8.0\n",
       " 5.0  6.0  7.0  8.0   9.0\n",
       " 6.0  7.0  8.0  9.0  10.0"
      ]
     },
     "execution_count": 58,
     "metadata": {},
     "output_type": "execute_result"
    }
   ],
   "source": [
    "for i in 1:m, j in 1:n\n",
    "    B[i,j] = i+j\n",
    "end\n",
    "B"
   ]
  },
  {
   "cell_type": "markdown",
   "metadata": {},
   "source": [
    "The more \"Julia\" way to create this addition table would have been with an *array comprehension*"
   ]
  },
  {
   "cell_type": "code",
   "execution_count": 59,
   "metadata": {},
   "outputs": [
    {
     "data": {
      "text/plain": [
       "5×5 Matrix{Int64}:\n",
       " 2  3  4  5   6\n",
       " 3  4  5  6   7\n",
       " 4  5  6  7   8\n",
       " 5  6  7  8   9\n",
       " 6  7  8  9  10"
      ]
     },
     "execution_count": 59,
     "metadata": {},
     "output_type": "execute_result"
    }
   ],
   "source": [
    "C = [i + j for i in 1:m, j in 1:n]"
   ]
  },
  {
   "cell_type": "markdown",
   "metadata": {},
   "source": [
    "In the next example, we embed an array comprehension in a `for` loop, generating addition tables of growing size."
   ]
  },
  {
   "cell_type": "code",
   "execution_count": 60,
   "metadata": {},
   "outputs": [
    {
     "data": {
      "text/plain": [
       "1×1 Matrix{Int64}:\n",
       " 2"
      ]
     },
     "metadata": {},
     "output_type": "display_data"
    },
    {
     "data": {
      "text/plain": [
       "2×2 Matrix{Int64}:\n",
       " 2  3\n",
       " 3  4"
      ]
     },
     "metadata": {},
     "output_type": "display_data"
    },
    {
     "data": {
      "text/plain": [
       "3×3 Matrix{Int64}:\n",
       " 2  3  4\n",
       " 3  4  5\n",
       " 4  5  6"
      ]
     },
     "metadata": {},
     "output_type": "display_data"
    },
    {
     "data": {
      "text/plain": [
       "4×4 Matrix{Int64}:\n",
       " 2  3  4  5\n",
       " 3  4  5  6\n",
       " 4  5  6  7\n",
       " 5  6  7  8"
      ]
     },
     "metadata": {},
     "output_type": "display_data"
    },
    {
     "data": {
      "text/plain": [
       "5×5 Matrix{Int64}:\n",
       " 2  3  4  5   6\n",
       " 3  4  5  6   7\n",
       " 4  5  6  7   8\n",
       " 5  6  7  8   9\n",
       " 6  7  8  9  10"
      ]
     },
     "metadata": {},
     "output_type": "display_data"
    },
    {
     "data": {
      "text/plain": [
       "6×6 Matrix{Int64}:\n",
       " 2  3  4   5   6   7\n",
       " 3  4  5   6   7   8\n",
       " 4  5  6   7   8   9\n",
       " 5  6  7   8   9  10\n",
       " 6  7  8   9  10  11\n",
       " 7  8  9  10  11  12"
      ]
     },
     "metadata": {},
     "output_type": "display_data"
    },
    {
     "data": {
      "text/plain": [
       "7×7 Matrix{Int64}:\n",
       " 2  3   4   5   6   7   8\n",
       " 3  4   5   6   7   8   9\n",
       " 4  5   6   7   8   9  10\n",
       " 5  6   7   8   9  10  11\n",
       " 6  7   8   9  10  11  12\n",
       " 7  8   9  10  11  12  13\n",
       " 8  9  10  11  12  13  14"
      ]
     },
     "metadata": {},
     "output_type": "display_data"
    },
    {
     "data": {
      "text/plain": [
       "8×8 Matrix{Int64}:\n",
       " 2   3   4   5   6   7   8   9\n",
       " 3   4   5   6   7   8   9  10\n",
       " 4   5   6   7   8   9  10  11\n",
       " 5   6   7   8   9  10  11  12\n",
       " 6   7   8   9  10  11  12  13\n",
       " 7   8   9  10  11  12  13  14\n",
       " 8   9  10  11  12  13  14  15\n",
       " 9  10  11  12  13  14  15  16"
      ]
     },
     "metadata": {},
     "output_type": "display_data"
    },
    {
     "data": {
      "text/plain": [
       "9×9 Matrix{Int64}:\n",
       "  2   3   4   5   6   7   8   9  10\n",
       "  3   4   5   6   7   8   9  10  11\n",
       "  4   5   6   7   8   9  10  11  12\n",
       "  5   6   7   8   9  10  11  12  13\n",
       "  6   7   8   9  10  11  12  13  14\n",
       "  7   8   9  10  11  12  13  14  15\n",
       "  8   9  10  11  12  13  14  15  16\n",
       "  9  10  11  12  13  14  15  16  17\n",
       " 10  11  12  13  14  15  16  17  18"
      ]
     },
     "metadata": {},
     "output_type": "display_data"
    },
    {
     "data": {
      "text/plain": [
       "10×10 Matrix{Int64}:\n",
       "  2   3   4   5   6   7   8   9  10  11\n",
       "  3   4   5   6   7   8   9  10  11  12\n",
       "  4   5   6   7   8   9  10  11  12  13\n",
       "  5   6   7   8   9  10  11  12  13  14\n",
       "  6   7   8   9  10  11  12  13  14  15\n",
       "  7   8   9  10  11  12  13  14  15  16\n",
       "  8   9  10  11  12  13  14  15  16  17\n",
       "  9  10  11  12  13  14  15  16  17  18\n",
       " 10  11  12  13  14  15  16  17  18  19\n",
       " 11  12  13  14  15  16  17  18  19  20"
      ]
     },
     "metadata": {},
     "output_type": "display_data"
    }
   ],
   "source": [
    "for n in 1:10\n",
    "    A = [i+j for i in 1:n, j in 1:n]\n",
    "    display(A)\n",
    "end"
   ]
  },
  {
   "cell_type": "markdown",
   "metadata": {},
   "source": [
    "# Conditionals\n",
    "\n",
    "In Julia, the syntax\n",
    "\n",
    "    if *condition 1*\n",
    "        *option 1*\n",
    "    elseif *condition 2*\n",
    "        *option 2*\n",
    "    else \n",
    "        *option 3*\n",
    "    end\n",
    "    \n",
    "allow us to conditionally evaluate one of our options.\n",
    "\n",
    "For example, we might want to compare the size of two numbers."
   ]
  },
  {
   "cell_type": "code",
   "execution_count": 61,
   "metadata": {},
   "outputs": [],
   "source": [
    "x = 1\n",
    "y = 500;"
   ]
  },
  {
   "cell_type": "code",
   "execution_count": 62,
   "metadata": {},
   "outputs": [
    {
     "name": "stdout",
     "output_type": "stream",
     "text": [
      "500 is larger than 1\n"
     ]
    }
   ],
   "source": [
    "if x > y\n",
    "    println(\"$x is larger than $y\")\n",
    "elseif y > x\n",
    "    println(\"$y is larger than $x\")\n",
    "else \n",
    "    println(\"$x and $y are equal!\")\n",
    "end"
   ]
  },
  {
   "cell_type": "markdown",
   "metadata": {},
   "source": [
    "Let's say we want to return the larger of the two numbers."
   ]
  },
  {
   "cell_type": "code",
   "execution_count": 63,
   "metadata": {},
   "outputs": [
    {
     "data": {
      "text/plain": [
       "500"
      ]
     },
     "execution_count": 63,
     "metadata": {},
     "output_type": "execute_result"
    }
   ],
   "source": [
    "if x > y \n",
    "    x\n",
    "else y\n",
    "end"
   ]
  },
  {
   "cell_type": "markdown",
   "metadata": {},
   "source": [
    "For the last block, we could instead use the ternary operator with the syntax\n",
    "\n",
    "`a ? b : c`\n",
    "which equates to \n",
    "\n",
    "    if a\n",
    "        b\n",
    "    else\n",
    "        c\n",
    "    end"
   ]
  },
  {
   "cell_type": "code",
   "execution_count": 64,
   "metadata": {},
   "outputs": [
    {
     "data": {
      "text/plain": [
       "500"
      ]
     },
     "execution_count": 64,
     "metadata": {},
     "output_type": "execute_result"
    }
   ],
   "source": [
    "(x > y) ? x : y"
   ]
  },
  {
   "cell_type": "markdown",
   "metadata": {},
   "source": [
    "A fun related trick is short-circuit evaluation with the syntax \n",
    "`a && b`"
   ]
  },
  {
   "cell_type": "code",
   "execution_count": 65,
   "metadata": {},
   "outputs": [
    {
     "data": {
      "text/plain": [
       "false"
      ]
     },
     "execution_count": 65,
     "metadata": {},
     "output_type": "execute_result"
    }
   ],
   "source": [
    "(x > y) && println(\"$x is larger than $y\")"
   ]
  },
  {
   "cell_type": "code",
   "execution_count": 66,
   "metadata": {},
   "outputs": [
    {
     "name": "stdout",
     "output_type": "stream",
     "text": [
      "1 is smaller than 500\n"
     ]
    }
   ],
   "source": [
    "(x < y) && println(\"$x is smaller than $y\")"
   ]
  },
  {
   "cell_type": "markdown",
   "metadata": {},
   "source": [
    "When we use `&&`, `b` executes only if `a` evaluates to `true`.\n",
    "If `a` evaluates to `false`, the expression `a && b` returns `false`."
   ]
  },
  {
   "cell_type": "markdown",
   "metadata": {},
   "source": [
    "# Functions\n",
    "\n",
    "Topics:\n",
    "\n",
    "    1. How to decalre a function\n",
    "    2. Duck-typing in Julia\n",
    "    3. Mutating vs. non-mutating Functions\n",
    "    4. Broadcasting"
   ]
  },
  {
   "cell_type": "markdown",
   "metadata": {},
   "source": [
    "## How to declare a function\n",
    "\n",
    "Julia gives us a few different ways to write a function. The first requires the `function` and `end` keywords."
   ]
  },
  {
   "cell_type": "code",
   "execution_count": 67,
   "metadata": {},
   "outputs": [
    {
     "data": {
      "text/plain": [
       "sayhi (generic function with 1 method)"
      ]
     },
     "execution_count": 67,
     "metadata": {},
     "output_type": "execute_result"
    }
   ],
   "source": [
    "function sayhi(name)\n",
    "    println(\"Hi $name, it's a great to see you!\")\n",
    "end"
   ]
  },
  {
   "cell_type": "code",
   "execution_count": 68,
   "metadata": {},
   "outputs": [
    {
     "data": {
      "text/plain": [
       "f (generic function with 1 method)"
      ]
     },
     "execution_count": 68,
     "metadata": {},
     "output_type": "execute_result"
    }
   ],
   "source": [
    "function f(x)\n",
    "    x^2\n",
    "end"
   ]
  },
  {
   "cell_type": "markdown",
   "metadata": {},
   "source": [
    "We can call either of these functions like this:"
   ]
  },
  {
   "cell_type": "code",
   "execution_count": 69,
   "metadata": {},
   "outputs": [
    {
     "name": "stdout",
     "output_type": "stream",
     "text": [
      "Hi Chicago, it's a great to see you!\n"
     ]
    }
   ],
   "source": [
    "sayhi(\"Chicago\")"
   ]
  },
  {
   "cell_type": "code",
   "execution_count": 70,
   "metadata": {},
   "outputs": [
    {
     "data": {
      "text/plain": [
       "1764"
      ]
     },
     "execution_count": 70,
     "metadata": {},
     "output_type": "execute_result"
    }
   ],
   "source": [
    "f(42)"
   ]
  },
  {
   "cell_type": "markdown",
   "metadata": {},
   "source": [
    "Alternatively, we could have declared either of these functions in a single line"
   ]
  },
  {
   "cell_type": "code",
   "execution_count": 71,
   "metadata": {},
   "outputs": [
    {
     "data": {
      "text/plain": [
       "sayhi2 (generic function with 1 method)"
      ]
     },
     "execution_count": 71,
     "metadata": {},
     "output_type": "execute_result"
    }
   ],
   "source": [
    "sayhi2(name) = println(\"Hi $name, it's great to see you!\")"
   ]
  },
  {
   "cell_type": "code",
   "execution_count": 72,
   "metadata": {},
   "outputs": [
    {
     "data": {
      "text/plain": [
       "f2 (generic function with 1 method)"
      ]
     },
     "execution_count": 72,
     "metadata": {},
     "output_type": "execute_result"
    }
   ],
   "source": [
    "f2(x) = x^2"
   ]
  },
  {
   "cell_type": "code",
   "execution_count": 73,
   "metadata": {},
   "outputs": [
    {
     "name": "stdout",
     "output_type": "stream",
     "text": [
      "Hi Chicago, it's great to see you!\n"
     ]
    }
   ],
   "source": [
    "sayhi2(\"Chicago\")"
   ]
  },
  {
   "cell_type": "code",
   "execution_count": 74,
   "metadata": {},
   "outputs": [
    {
     "data": {
      "text/plain": [
       "1764"
      ]
     },
     "execution_count": 74,
     "metadata": {},
     "output_type": "execute_result"
    }
   ],
   "source": [
    "f2(42)"
   ]
  },
  {
   "cell_type": "markdown",
   "metadata": {},
   "source": [
    "Finally, we could have declared these as \"anonymous\" functions"
   ]
  },
  {
   "cell_type": "code",
   "execution_count": 75,
   "metadata": {},
   "outputs": [
    {
     "data": {
      "text/plain": [
       "#5 (generic function with 1 method)"
      ]
     },
     "execution_count": 75,
     "metadata": {},
     "output_type": "execute_result"
    }
   ],
   "source": [
    "sayhi3 = name -> println(\"Hi $name, it's great to see you!\")"
   ]
  },
  {
   "cell_type": "code",
   "execution_count": 76,
   "metadata": {},
   "outputs": [
    {
     "data": {
      "text/plain": [
       "#7 (generic function with 1 method)"
      ]
     },
     "execution_count": 76,
     "metadata": {},
     "output_type": "execute_result"
    }
   ],
   "source": [
    "f3 = x -> x^2"
   ]
  },
  {
   "cell_type": "code",
   "execution_count": 77,
   "metadata": {},
   "outputs": [
    {
     "name": "stdout",
     "output_type": "stream",
     "text": [
      "Hi Chewbacca, it's great to see you!\n"
     ]
    }
   ],
   "source": [
    "sayhi3(\"Chewbacca\")"
   ]
  },
  {
   "cell_type": "code",
   "execution_count": 78,
   "metadata": {},
   "outputs": [
    {
     "data": {
      "text/plain": [
       "42"
      ]
     },
     "execution_count": 78,
     "metadata": {},
     "output_type": "execute_result"
    }
   ],
   "source": [
    "f3 = 42"
   ]
  },
  {
   "cell_type": "markdown",
   "metadata": {},
   "source": [
    "## Duck-typing in Julia\n",
    "\n",
    "\"If it quacks like a duck, it's a duck,\"\n",
    "\n",
    "Julia functions will just work on whatever inputs make sense.\n",
    "\n",
    "For example, `sayhi` works on the name of this minor tv character, written as an integer..."
   ]
  },
  {
   "cell_type": "code",
   "execution_count": 79,
   "metadata": {},
   "outputs": [
    {
     "name": "stdout",
     "output_type": "stream",
     "text": [
      "Hi 44494572, it's a great to see you!\n"
     ]
    }
   ],
   "source": [
    "sayhi(44494572)"
   ]
  },
  {
   "cell_type": "markdown",
   "metadata": {},
   "source": [
    "And `f` will work on a matrix"
   ]
  },
  {
   "cell_type": "code",
   "execution_count": 80,
   "metadata": {},
   "outputs": [
    {
     "data": {
      "text/plain": [
       "3×3 Matrix{Float64}:\n",
       " 0.558619  0.441636  0.921366\n",
       " 0.860536  0.176693  0.188847\n",
       " 0.235442  0.827179  0.577401"
      ]
     },
     "execution_count": 80,
     "metadata": {},
     "output_type": "execute_result"
    }
   ],
   "source": [
    "A = rand(3,3)\n",
    "A"
   ]
  },
  {
   "cell_type": "code",
   "execution_count": 81,
   "metadata": {},
   "outputs": [
    {
     "data": {
      "text/plain": [
       "3×3 Matrix{Float64}:\n",
       " 0.909028  1.08688   1.13009\n",
       " 0.677225  0.567475  0.935277\n",
       " 0.979284  0.727751  0.706531"
      ]
     },
     "execution_count": 81,
     "metadata": {},
     "output_type": "execute_result"
    }
   ],
   "source": [
    "f(A)"
   ]
  },
  {
   "cell_type": "markdown",
   "metadata": {},
   "source": [
    "On the other hand, `f` will not work on a vector. Unlike `A^2`, which is well-defined, the meaning of `v^2` for a vector, `v` is ambiguous."
   ]
  },
  {
   "cell_type": "code",
   "execution_count": 82,
   "metadata": {},
   "outputs": [
    {
     "data": {
      "text/plain": [
       "3-element Vector{Float64}:\n",
       " 0.4460884429588463\n",
       " 0.469502392885349\n",
       " 0.3938019341645178"
      ]
     },
     "execution_count": 82,
     "metadata": {},
     "output_type": "execute_result"
    }
   ],
   "source": [
    "v = rand(3)"
   ]
  },
  {
   "cell_type": "code",
   "execution_count": 83,
   "metadata": {},
   "outputs": [
    {
     "ename": "LoadError",
     "evalue": "MethodError: no method matching ^(::Vector{Float64}, ::Int64)\n\u001b[0mClosest candidates are:\n\u001b[0m  ^(\u001b[91m::Union{AbstractChar, AbstractString}\u001b[39m, ::Integer) at strings/basic.jl:718\n\u001b[0m  ^(\u001b[91m::Complex{var\"#s77\"} where var\"#s77\"<:AbstractFloat\u001b[39m, ::Integer) at complex.jl:818\n\u001b[0m  ^(\u001b[91m::Complex{var\"#s77\"} where var\"#s77\"<:Integer\u001b[39m, ::Integer) at complex.jl:820\n\u001b[0m  ...",
     "output_type": "error",
     "traceback": [
      "MethodError: no method matching ^(::Vector{Float64}, ::Int64)\n\u001b[0mClosest candidates are:\n\u001b[0m  ^(\u001b[91m::Union{AbstractChar, AbstractString}\u001b[39m, ::Integer) at strings/basic.jl:718\n\u001b[0m  ^(\u001b[91m::Complex{var\"#s77\"} where var\"#s77\"<:AbstractFloat\u001b[39m, ::Integer) at complex.jl:818\n\u001b[0m  ^(\u001b[91m::Complex{var\"#s77\"} where var\"#s77\"<:Integer\u001b[39m, ::Integer) at complex.jl:820\n\u001b[0m  ...",
      "",
      "Stacktrace:",
      " [1] macro expansion",
      "   @ ./none:0 [inlined]",
      " [2] literal_pow",
      "   @ ./none:0 [inlined]",
      " [3] f(x::Vector{Float64})",
      "   @ Main ./In[68]:2",
      " [4] top-level scope",
      "   @ In[83]:1",
      " [5] eval",
      "   @ ./boot.jl:360 [inlined]",
      " [6] include_string(mapexpr::typeof(REPL.softscope), mod::Module, code::String, filename::String)",
      "   @ Base ./loading.jl:1116"
     ]
    }
   ],
   "source": [
    "f(v)"
   ]
  },
  {
   "cell_type": "markdown",
   "metadata": {},
   "source": [
    "## Mutating vs. Non-mutating Function\n",
    "\n",
    "By convention, functions followed by `!` alter their contents and functions lacking `!` do not.\n",
    "\n",
    "For example, let's look at the difference between `sort` and `sort!`"
   ]
  },
  {
   "cell_type": "code",
   "execution_count": 84,
   "metadata": {},
   "outputs": [
    {
     "data": {
      "text/plain": [
       "3-element Vector{Int64}:\n",
       " 3\n",
       " 5\n",
       " 2"
      ]
     },
     "execution_count": 84,
     "metadata": {},
     "output_type": "execute_result"
    }
   ],
   "source": [
    "v = [3,5,2]"
   ]
  },
  {
   "cell_type": "code",
   "execution_count": 85,
   "metadata": {},
   "outputs": [
    {
     "data": {
      "text/plain": [
       "3-element Vector{Int64}:\n",
       " 2\n",
       " 3\n",
       " 5"
      ]
     },
     "execution_count": 85,
     "metadata": {},
     "output_type": "execute_result"
    }
   ],
   "source": [
    "sort(v)"
   ]
  },
  {
   "cell_type": "code",
   "execution_count": 86,
   "metadata": {},
   "outputs": [
    {
     "data": {
      "text/plain": [
       "3-element Vector{Int64}:\n",
       " 3\n",
       " 5\n",
       " 2"
      ]
     },
     "execution_count": 86,
     "metadata": {},
     "output_type": "execute_result"
    }
   ],
   "source": [
    "v"
   ]
  },
  {
   "cell_type": "markdown",
   "metadata": {},
   "source": [
    "`sort(v)` returns a sorted array that contains the same elements as `v`, but `v` is left unchanged.\n",
    "\n",
    "On the other hand, when we run `sort!(v)`, the contents of v are sorted within the array `v`"
   ]
  },
  {
   "cell_type": "code",
   "execution_count": 87,
   "metadata": {},
   "outputs": [
    {
     "data": {
      "text/plain": [
       "3-element Vector{Int64}:\n",
       " 2\n",
       " 3\n",
       " 5"
      ]
     },
     "execution_count": 87,
     "metadata": {},
     "output_type": "execute_result"
    }
   ],
   "source": [
    "sort!(v)"
   ]
  },
  {
   "cell_type": "code",
   "execution_count": 88,
   "metadata": {},
   "outputs": [
    {
     "data": {
      "text/plain": [
       "3-element Vector{Int64}:\n",
       " 2\n",
       " 3\n",
       " 5"
      ]
     },
     "execution_count": 88,
     "metadata": {},
     "output_type": "execute_result"
    }
   ],
   "source": [
    "v"
   ]
  },
  {
   "cell_type": "markdown",
   "metadata": {},
   "source": [
    "## Broadcasting\n",
    "\n",
    "By placing a `.` between any function name and its argument list, we tell that function to broadcast over the elements of the input objects.\n",
    "\n",
    "Let's look at the difference in behaviour between `f()` and `f.()`.\n",
    "\n",
    "First, we will define a new matrix `A` that will make the difference easier to illustrate."
   ]
  },
  {
   "cell_type": "code",
   "execution_count": 89,
   "metadata": {},
   "outputs": [
    {
     "data": {
      "text/plain": [
       "3×3 Matrix{Int64}:\n",
       " 1  2  3\n",
       " 4  5  6\n",
       " 7  8  9"
      ]
     },
     "execution_count": 89,
     "metadata": {},
     "output_type": "execute_result"
    }
   ],
   "source": [
    "A = [i + 3j for j in 0:2, i in 1:3]"
   ]
  },
  {
   "cell_type": "code",
   "execution_count": 90,
   "metadata": {},
   "outputs": [
    {
     "data": {
      "text/plain": [
       "3×3 Matrix{Int64}:\n",
       "  30   36   42\n",
       "  66   81   96\n",
       " 102  126  150"
      ]
     },
     "execution_count": 90,
     "metadata": {},
     "output_type": "execute_result"
    }
   ],
   "source": [
    "f(A)"
   ]
  },
  {
   "cell_type": "markdown",
   "metadata": {},
   "source": [
    "As before we see that for a matrix, `A`,\n",
    "\n",
    "    f(A) = A^2 = A*A\n",
    "    \n",
    "`f.(A)` on the other hand will return an object that holds the square of `A[i, j]` at its corresponding entry"
   ]
  },
  {
   "cell_type": "code",
   "execution_count": 91,
   "metadata": {},
   "outputs": [
    {
     "data": {
      "text/plain": [
       "3×3 Matrix{Int64}:\n",
       "  1   4   9\n",
       " 16  25  36\n",
       " 49  64  81"
      ]
     },
     "execution_count": 91,
     "metadata": {},
     "output_type": "execute_result"
    }
   ],
   "source": [
    "f.(A)"
   ]
  },
  {
   "cell_type": "markdown",
   "metadata": {},
   "source": [
    "This means that, for a vector `v`, `f.(v)` is defined, though `f(v)` is not:"
   ]
  },
  {
   "cell_type": "code",
   "execution_count": 92,
   "metadata": {},
   "outputs": [
    {
     "data": {
      "text/plain": [
       "3-element Vector{Int64}:\n",
       " 1\n",
       " 2\n",
       " 3"
      ]
     },
     "execution_count": 92,
     "metadata": {},
     "output_type": "execute_result"
    }
   ],
   "source": [
    "v = [1,2,3]"
   ]
  },
  {
   "cell_type": "code",
   "execution_count": 93,
   "metadata": {},
   "outputs": [
    {
     "ename": "LoadError",
     "evalue": "MethodError: no method matching ^(::Vector{Int64}, ::Int64)\n\u001b[0mClosest candidates are:\n\u001b[0m  ^(\u001b[91m::Union{AbstractChar, AbstractString}\u001b[39m, ::Integer) at strings/basic.jl:718\n\u001b[0m  ^(\u001b[91m::Complex{var\"#s77\"} where var\"#s77\"<:AbstractFloat\u001b[39m, ::Integer) at complex.jl:818\n\u001b[0m  ^(\u001b[91m::Complex{var\"#s77\"} where var\"#s77\"<:Integer\u001b[39m, ::Integer) at complex.jl:820\n\u001b[0m  ...",
     "output_type": "error",
     "traceback": [
      "MethodError: no method matching ^(::Vector{Int64}, ::Int64)\n\u001b[0mClosest candidates are:\n\u001b[0m  ^(\u001b[91m::Union{AbstractChar, AbstractString}\u001b[39m, ::Integer) at strings/basic.jl:718\n\u001b[0m  ^(\u001b[91m::Complex{var\"#s77\"} where var\"#s77\"<:AbstractFloat\u001b[39m, ::Integer) at complex.jl:818\n\u001b[0m  ^(\u001b[91m::Complex{var\"#s77\"} where var\"#s77\"<:Integer\u001b[39m, ::Integer) at complex.jl:820\n\u001b[0m  ...",
      "",
      "Stacktrace:",
      " [1] macro expansion",
      "   @ ./none:0 [inlined]",
      " [2] literal_pow",
      "   @ ./none:0 [inlined]",
      " [3] f(x::Vector{Int64})",
      "   @ Main ./In[68]:2",
      " [4] top-level scope",
      "   @ In[93]:1",
      " [5] eval",
      "   @ ./boot.jl:360 [inlined]",
      " [6] include_string(mapexpr::typeof(REPL.softscope), mod::Module, code::String, filename::String)",
      "   @ Base ./loading.jl:1116"
     ]
    }
   ],
   "source": [
    "f(v)"
   ]
  },
  {
   "cell_type": "code",
   "execution_count": 94,
   "metadata": {},
   "outputs": [
    {
     "data": {
      "text/plain": [
       "3-element Vector{Int64}:\n",
       " 1\n",
       " 4\n",
       " 9"
      ]
     },
     "execution_count": 94,
     "metadata": {},
     "output_type": "execute_result"
    }
   ],
   "source": [
    "f.(v)"
   ]
  },
  {
   "cell_type": "markdown",
   "metadata": {},
   "source": [
    "# Packages\n",
    "\n",
    "To see all available packages, check out https://juliapackages.com/packages\n",
    "\n",
    "For now, let's learn how to use a packages.\n",
    "\n",
    "The first time you use a package on a given Julia installation, you need to explicilty add it:"
   ]
  },
  {
   "cell_type": "code",
   "execution_count": 95,
   "metadata": {},
   "outputs": [],
   "source": [
    "using Pkg"
   ]
  },
  {
   "cell_type": "code",
   "execution_count": 96,
   "metadata": {},
   "outputs": [
    {
     "name": "stderr",
     "output_type": "stream",
     "text": [
      "\u001b[32m\u001b[1m    Updating\u001b[22m\u001b[39m registry at `~/.julia/registries/General`\n",
      "\u001b[32m\u001b[1m   Resolving\u001b[22m\u001b[39m package versions...\n",
      "\u001b[32m\u001b[1m   Installed\u001b[22m\u001b[39m Example ─ v0.5.3\n",
      "\u001b[32m\u001b[1m    Updating\u001b[22m\u001b[39m `~/.julia/environments/v1.6/Project.toml`\n",
      " \u001b[90m [7876af07] \u001b[39m\u001b[92m+ Example v0.5.3\u001b[39m\n",
      "\u001b[32m\u001b[1m    Updating\u001b[22m\u001b[39m `~/.julia/environments/v1.6/Manifest.toml`\n",
      " \u001b[90m [7876af07] \u001b[39m\u001b[92m+ Example v0.5.3\u001b[39m\n",
      "\u001b[32m\u001b[1mPrecompiling\u001b[22m\u001b[39m project...\n",
      "\u001b[32m  ✓ \u001b[39mExample\n",
      "  1 dependency successfully precompiled in 2 seconds (15 already precompiled)\n"
     ]
    }
   ],
   "source": [
    "Pkg.add(\"Example\")"
   ]
  },
  {
   "cell_type": "markdown",
   "metadata": {},
   "source": [
    "Every time use Julia (start a new session at the REPL, or open a notebook for the first time, for example), you load the package with the `using` keyword"
   ]
  },
  {
   "cell_type": "code",
   "execution_count": 97,
   "metadata": {},
   "outputs": [],
   "source": [
    "using Example"
   ]
  },
  {
   "cell_type": "markdown",
   "metadata": {},
   "source": [
    "In the source code of `Example.jl` at https://github.com/JuliaLang/Example.jl/blob/master/src/Example.jl , we see the following function declared\n",
    "\n",
    "    hello(who::String) = \"Hello, $who\"\n",
    "    \n",
    "Having loaded `Example`, we should now be able to call `hello`"
   ]
  },
  {
   "cell_type": "code",
   "execution_count": 98,
   "metadata": {},
   "outputs": [
    {
     "data": {
      "text/plain": [
       "\"Hello, it's me. I was wondering if after all these years you'd like to meet\""
      ]
     },
     "execution_count": 98,
     "metadata": {},
     "output_type": "execute_result"
    }
   ],
   "source": [
    "hello(\"it's me. I was wondering if after all these years you'd like to meet\")"
   ]
  },
  {
   "cell_type": "code",
   "execution_count": 99,
   "metadata": {},
   "outputs": [
    {
     "name": "stderr",
     "output_type": "stream",
     "text": [
      "\u001b[32m\u001b[1m   Resolving\u001b[22m\u001b[39m package versions...\n",
      "\u001b[32m\u001b[1m   Installed\u001b[22m\u001b[39m FixedPointNumbers ─ v0.8.4\n",
      "\u001b[32m\u001b[1m   Installed\u001b[22m\u001b[39m Reexport ────────── v1.2.2\n",
      "\u001b[32m\u001b[1m   Installed\u001b[22m\u001b[39m ColorTypes ──────── v0.11.4\n",
      "\u001b[32m\u001b[1m   Installed\u001b[22m\u001b[39m Colors ──────────── v0.12.8\n",
      "\u001b[32m\u001b[1m    Updating\u001b[22m\u001b[39m `~/.julia/environments/v1.6/Project.toml`\n",
      " \u001b[90m [5ae59095] \u001b[39m\u001b[92m+ Colors v0.12.8\u001b[39m\n",
      "\u001b[32m\u001b[1m    Updating\u001b[22m\u001b[39m `~/.julia/environments/v1.6/Manifest.toml`\n",
      " \u001b[90m [3da002f7] \u001b[39m\u001b[92m+ ColorTypes v0.11.4\u001b[39m\n",
      " \u001b[90m [5ae59095] \u001b[39m\u001b[92m+ Colors v0.12.8\u001b[39m\n",
      " \u001b[90m [53c48c17] \u001b[39m\u001b[92m+ FixedPointNumbers v0.8.4\u001b[39m\n",
      " \u001b[90m [189a3867] \u001b[39m\u001b[92m+ Reexport v1.2.2\u001b[39m\n",
      " \u001b[90m [37e2e46d] \u001b[39m\u001b[92m+ LinearAlgebra\u001b[39m\n",
      " \u001b[90m [2f01184e] \u001b[39m\u001b[92m+ SparseArrays\u001b[39m\n",
      " \u001b[90m [10745b16] \u001b[39m\u001b[92m+ Statistics\u001b[39m\n",
      "\u001b[32m\u001b[1mPrecompiling\u001b[22m\u001b[39m project...\n",
      "\u001b[32m  ✓ \u001b[39m\u001b[90mReexport\u001b[39m\n",
      "\u001b[32m  ✓ \u001b[39m\u001b[90mFixedPointNumbers\u001b[39m\n",
      "\u001b[32m  ✓ \u001b[39m\u001b[90mColorTypes\u001b[39m\n",
      "\u001b[32m  ✓ \u001b[39mColors\n",
      "  4 dependencies successfully precompiled in 7 seconds (16 already precompiled)\n"
     ]
    }
   ],
   "source": [
    "Pkg.add(\"Colors\")"
   ]
  },
  {
   "cell_type": "code",
   "execution_count": 100,
   "metadata": {},
   "outputs": [],
   "source": [
    "using Colors"
   ]
  },
  {
   "cell_type": "markdown",
   "metadata": {},
   "source": [
    "Let's create a palette of 100 different colors."
   ]
  },
  {
   "cell_type": "code",
   "execution_count": 101,
   "metadata": {},
   "outputs": [
    {
     "data": {
      "image/svg+xml": [
       "<?xml version=\"1.0\" encoding=\"UTF-8\"?>\n",
       "<!DOCTYPE svg PUBLIC \"-//W3C//DTD SVG 1.1//EN\"\n",
       " \"http://www.w3.org/Graphics/SVG/1.1/DTD/svg11.dtd\">\n",
       "<svg xmlns=\"http://www.w3.org/2000/svg\" version=\"1.1\"\n",
       "     width=\"180mm\" height=\"25mm\"\n",
       "     viewBox=\"0 0 100 1\" preserveAspectRatio=\"none\"\n",
       "     shape-rendering=\"crispEdges\" stroke=\"none\">\n",
       "<rect width=\"1\" height=\".96\" x=\"0\" y=\"0\" fill=\"#000000\" />\n",
       "<rect width=\"1\" height=\".96\" x=\"1\" y=\"0\" fill=\"#FFFF74\" />\n",
       "<rect width=\"1\" height=\".96\" x=\"2\" y=\"0\" fill=\"#FF9BFF\" />\n",
       "<rect width=\"1\" height=\".96\" x=\"3\" y=\"0\" fill=\"#00D3FF\" />\n",
       "<rect width=\"1\" height=\".96\" x=\"4\" y=\"0\" fill=\"#E2630D\" />\n",
       "<rect width=\"1\" height=\".96\" x=\"5\" y=\"0\" fill=\"#007E00\" />\n",
       "<rect width=\"1\" height=\".96\" x=\"6\" y=\"0\" fill=\"#0050E6\" />\n",
       "<rect width=\"1\" height=\".96\" x=\"7\" y=\"0\" fill=\"#AC0047\" />\n",
       "<rect width=\"1\" height=\".96\" x=\"8\" y=\"0\" fill=\"#00FFC8\" />\n",
       "<rect width=\"1\" height=\".96\" x=\"9\" y=\"0\" fill=\"#006468\" />\n",
       "<rect width=\"1\" height=\".96\" x=\"10\" y=\"0\" fill=\"#FFD5C4\" />\n",
       "<rect width=\"1\" height=\".96\" x=\"11\" y=\"0\" fill=\"#6C5200\" />\n",
       "<rect width=\"1\" height=\".96\" x=\"12\" y=\"0\" fill=\"#7A7581\" />\n",
       "<rect width=\"1\" height=\".96\" x=\"13\" y=\"0\" fill=\"#44005C\" />\n",
       "<rect width=\"1\" height=\".96\" x=\"14\" y=\"0\" fill=\"#9E9E77\" />\n",
       "<rect width=\"1\" height=\".96\" x=\"15\" y=\"0\" fill=\"#FF5C78\" />\n",
       "<rect width=\"1\" height=\".96\" x=\"16\" y=\"0\" fill=\"#8197F1\" />\n",
       "<rect width=\"1\" height=\".96\" x=\"17\" y=\"0\" fill=\"#003200\" />\n",
       "<rect width=\"1\" height=\".96\" x=\"18\" y=\"0\" fill=\"#C721DD\" />\n",
       "<rect width=\"1\" height=\".96\" x=\"19\" y=\"0\" fill=\"#FFAD07\" />\n",
       "<rect width=\"1\" height=\".96\" x=\"20\" y=\"0\" fill=\"#611C00\" />\n",
       "<rect width=\"1\" height=\".96\" x=\"21\" y=\"0\" fill=\"#F3FFFA\" />\n",
       "<rect width=\"1\" height=\".96\" x=\"22\" y=\"0\" fill=\"#009E88\" />\n",
       "<rect width=\"1\" height=\".96\" x=\"23\" y=\"0\" fill=\"#5EC700\" />\n",
       "<rect width=\"1\" height=\".96\" x=\"24\" y=\"0\" fill=\"#002D54\" />\n",
       "<rect width=\"1\" height=\".96\" x=\"25\" y=\"0\" fill=\"#553C4A\" />\n",
       "<rect width=\"1\" height=\".96\" x=\"26\" y=\"0\" fill=\"#444439\" />\n",
       "<rect width=\"1\" height=\".96\" x=\"27\" y=\"0\" fill=\"#008FB6\" />\n",
       "<rect width=\"1\" height=\".96\" x=\"28\" y=\"0\" fill=\"#CFD4FD\" />\n",
       "<rect width=\"1\" height=\".96\" x=\"29\" y=\"0\" fill=\"#C40000\" />\n",
       "<rect width=\"1\" height=\".96\" x=\"30\" y=\"0\" fill=\"#A4675C\" />\n",
       "<rect width=\"1\" height=\".96\" x=\"31\" y=\"0\" fill=\"#BB8FA8\" />\n",
       "<rect width=\"1\" height=\".96\" x=\"32\" y=\"0\" fill=\"#290001\" />\n",
       "<rect width=\"1\" height=\".96\" x=\"33\" y=\"0\" fill=\"#A78600\" />\n",
       "<rect width=\"1\" height=\".96\" x=\"34\" y=\"0\" fill=\"#002D30\" />\n",
       "<rect width=\"1\" height=\".96\" x=\"35\" y=\"0\" fill=\"#C7DEAA\" />\n",
       "<rect width=\"1\" height=\".96\" x=\"36\" y=\"0\" fill=\"#8D9FA3\" />\n",
       "<rect width=\"1\" height=\".96\" x=\"37\" y=\"0\" fill=\"#6F5B95\" />\n",
       "<rect width=\"1\" height=\".96\" x=\"38\" y=\"0\" fill=\"#A1FFFF\" />\n",
       "<rect width=\"1\" height=\".96\" x=\"39\" y=\"0\" fill=\"#B39688\" />\n",
       "<rect width=\"1\" height=\".96\" x=\"40\" y=\"0\" fill=\"#4E6D50\" />\n",
       "<rect width=\"1\" height=\".96\" x=\"41\" y=\"0\" fill=\"#FF977B\" />\n",
       "<rect width=\"1\" height=\".96\" x=\"42\" y=\"0\" fill=\"#FFD1EC\" />\n",
       "<rect width=\"1\" height=\".96\" x=\"43\" y=\"0\" fill=\"#9E5100\" />\n",
       "<rect width=\"1\" height=\".96\" x=\"44\" y=\"0\" fill=\"#AE5B8E\" />\n",
       "<rect width=\"1\" height=\".96\" x=\"45\" y=\"0\" fill=\"#799400\" />\n",
       "<rect width=\"1\" height=\".96\" x=\"46\" y=\"0\" fill=\"#362200\" />\n",
       "<rect width=\"1\" height=\".96\" x=\"47\" y=\"0\" fill=\"#0E0026\" />\n",
       "<rect width=\"1\" height=\".96\" x=\"48\" y=\"0\" fill=\"#80765F\" />\n",
       "<rect width=\"1\" height=\".96\" x=\"49\" y=\"0\" fill=\"#485C00\" />\n",
       "<rect width=\"1\" height=\".96\" x=\"50\" y=\"0\" fill=\"#C8C2B5\" />\n",
       "<rect width=\"1\" height=\".96\" x=\"51\" y=\"0\" fill=\"#8800A1\" />\n",
       "<rect width=\"1\" height=\".96\" x=\"52\" y=\"0\" fill=\"#00A853\" />\n",
       "<rect width=\"1\" height=\".96\" x=\"53\" y=\"0\" fill=\"#FFE1AA\" />\n",
       "<rect width=\"1\" height=\".96\" x=\"54\" y=\"0\" fill=\"#674F42\" />\n",
       "<rect width=\"1\" height=\".96\" x=\"55\" y=\"0\" fill=\"#FF342D\" />\n",
       "<rect width=\"1\" height=\".96\" x=\"56\" y=\"0\" fill=\"#6B0041\" />\n",
       "<rect width=\"1\" height=\".96\" x=\"57\" y=\"0\" fill=\"#0806B1\" />\n",
       "<rect width=\"1\" height=\".96\" x=\"58\" y=\"0\" fill=\"#986DFF\" />\n",
       "<rect width=\"1\" height=\".96\" x=\"59\" y=\"0\" fill=\"#FF4EC7\" />\n",
       "<rect width=\"1\" height=\".96\" x=\"60\" y=\"0\" fill=\"#8AB9A2\" />\n",
       "<rect width=\"1\" height=\".96\" x=\"61\" y=\"0\" fill=\"#2EFF71\" />\n",
       "<rect width=\"1\" height=\".96\" x=\"62\" y=\"0\" fill=\"#005577\" />\n",
       "<rect width=\"1\" height=\".96\" x=\"63\" y=\"0\" fill=\"#0078E3\" />\n",
       "<rect width=\"1\" height=\".96\" x=\"64\" y=\"0\" fill=\"#B2ADB9\" />\n",
       "<rect width=\"1\" height=\".96\" x=\"65\" y=\"0\" fill=\"#00C3C6\" />\n",
       "<rect width=\"1\" height=\".96\" x=\"66\" y=\"0\" fill=\"#00AEFF\" />\n",
       "<rect width=\"1\" height=\".96\" x=\"67\" y=\"0\" fill=\"#4E545F\" />\n",
       "<rect width=\"1\" height=\".96\" x=\"68\" y=\"0\" fill=\"#FF9BB0\" />\n",
       "<rect width=\"1\" height=\".96\" x=\"69\" y=\"0\" fill=\"#FED206\" />\n",
       "<rect width=\"1\" height=\".96\" x=\"70\" y=\"0\" fill=\"#687B7A\" />\n",
       "<rect width=\"1\" height=\".96\" x=\"71\" y=\"0\" fill=\"#B1DCFC\" />\n",
       "<rect width=\"1\" height=\".96\" x=\"72\" y=\"0\" fill=\"#FFF6FF\" />\n",
       "<rect width=\"1\" height=\".96\" x=\"73\" y=\"0\" fill=\"#620019\" />\n",
       "<rect width=\"1\" height=\".96\" x=\"74\" y=\"0\" fill=\"#C79253\" />\n",
       "<rect width=\"1\" height=\".96\" x=\"75\" y=\"0\" fill=\"#A891CF\" />\n",
       "<rect width=\"1\" height=\".96\" x=\"76\" y=\"0\" fill=\"#EF007A\" />\n",
       "<rect width=\"1\" height=\".96\" x=\"77\" y=\"0\" fill=\"#B8CE00\" />\n",
       "<rect width=\"1\" height=\".96\" x=\"78\" y=\"0\" fill=\"#001700\" />\n",
       "<rect width=\"1\" height=\".96\" x=\"79\" y=\"0\" fill=\"#204B39\" />\n",
       "<rect width=\"1\" height=\".96\" x=\"80\" y=\"0\" fill=\"#875866\" />\n",
       "<rect width=\"1\" height=\".96\" x=\"81\" y=\"0\" fill=\"#B5FF4E\" />\n",
       "<rect width=\"1\" height=\".96\" x=\"82\" y=\"0\" fill=\"#B40080\" />\n",
       "<rect width=\"1\" height=\".96\" x=\"83\" y=\"0\" fill=\"#853F34\" />\n",
       "<rect width=\"1\" height=\".96\" x=\"84\" y=\"0\" fill=\"#69936B\" />\n",
       "<rect width=\"1\" height=\".96\" x=\"85\" y=\"0\" fill=\"#FFBC80\" />\n",
       "<rect width=\"1\" height=\".96\" x=\"86\" y=\"0\" fill=\"#4C3779\" />\n",
       "<rect width=\"1\" height=\".96\" x=\"87\" y=\"0\" fill=\"#323606\" />\n",
       "<rect width=\"1\" height=\".96\" x=\"88\" y=\"0\" fill=\"#008E94\" />\n",
       "<rect width=\"1\" height=\".96\" x=\"89\" y=\"0\" fill=\"#CAAC51\" />\n",
       "<rect width=\"1\" height=\".96\" x=\"90\" y=\"0\" fill=\"#787B3B\" />\n",
       "<rect width=\"1\" height=\".96\" x=\"91\" y=\"0\" fill=\"#B6F9D9\" />\n",
       "<rect width=\"1\" height=\".96\" x=\"92\" y=\"0\" fill=\"#DA003F\" />\n",
       "<rect width=\"1\" height=\".96\" x=\"93\" y=\"0\" fill=\"#2E2124\" />\n",
       "<rect width=\"1\" height=\".96\" x=\"94\" y=\"0\" fill=\"#005815\" />\n",
       "<rect width=\"1\" height=\".96\" x=\"95\" y=\"0\" fill=\"#FF8E1D\" />\n",
       "<rect width=\"1\" height=\".96\" x=\"96\" y=\"0\" fill=\"#6674B1\" />\n",
       "<rect width=\"1\" height=\".96\" x=\"97\" y=\"0\" fill=\"#00CDAD\" />\n",
       "<rect width=\"1\" height=\".96\" x=\"98\" y=\"0\" fill=\"#007F63\" />\n",
       "<rect width=\"1\" height=\".96\" x=\"99\" y=\"0\" fill=\"#996F3D\" />\n",
       "</svg>"
      ],
      "text/plain": [
       "100-element Array{RGB{N0f8},1} with eltype RGB{FixedPointNumbers.N0f8}:\n",
       " RGB{N0f8}(0.0,0.0,0.0)\n",
       " RGB{N0f8}(1.0,1.0,0.455)\n",
       " RGB{N0f8}(1.0,0.608,1.0)\n",
       " RGB{N0f8}(0.0,0.827,1.0)\n",
       " RGB{N0f8}(0.886,0.388,0.051)\n",
       " RGB{N0f8}(0.0,0.494,0.0)\n",
       " RGB{N0f8}(0.0,0.314,0.902)\n",
       " RGB{N0f8}(0.675,0.0,0.278)\n",
       " RGB{N0f8}(0.0,1.0,0.784)\n",
       " RGB{N0f8}(0.0,0.392,0.408)\n",
       " RGB{N0f8}(1.0,0.835,0.769)\n",
       " RGB{N0f8}(0.424,0.322,0.0)\n",
       " RGB{N0f8}(0.478,0.459,0.506)\n",
       " ⋮\n",
       " RGB{N0f8}(0.0,0.557,0.58)\n",
       " RGB{N0f8}(0.792,0.675,0.318)\n",
       " RGB{N0f8}(0.471,0.482,0.231)\n",
       " RGB{N0f8}(0.714,0.976,0.851)\n",
       " RGB{N0f8}(0.855,0.0,0.247)\n",
       " RGB{N0f8}(0.18,0.129,0.141)\n",
       " RGB{N0f8}(0.0,0.345,0.082)\n",
       " RGB{N0f8}(1.0,0.557,0.114)\n",
       " RGB{N0f8}(0.4,0.455,0.694)\n",
       " RGB{N0f8}(0.0,0.804,0.678)\n",
       " RGB{N0f8}(0.0,0.498,0.388)\n",
       " RGB{N0f8}(0.6,0.435,0.239)"
      ]
     },
     "execution_count": 101,
     "metadata": {},
     "output_type": "execute_result"
    }
   ],
   "source": [
    "palette = distinguishable_colors(100)"
   ]
  },
  {
   "cell_type": "markdown",
   "metadata": {},
   "source": [
    "and then we can create a randomly checkered matrix using the `rand` command."
   ]
  },
  {
   "cell_type": "code",
   "execution_count": 102,
   "metadata": {},
   "outputs": [],
   "source": [
    "# Pkg.add(\"Random\")\n",
    "using Random"
   ]
  },
  {
   "cell_type": "code",
   "execution_count": 103,
   "metadata": {},
   "outputs": [
    {
     "data": {
      "image/svg+xml": [
       "<?xml version=\"1.0\" encoding=\"UTF-8\"?>\n",
       "<!DOCTYPE svg PUBLIC \"-//W3C//DTD SVG 1.1//EN\"\n",
       " \"http://www.w3.org/Graphics/SVG/1.1/DTD/svg11.dtd\">\n",
       "<svg xmlns=\"http://www.w3.org/2000/svg\" version=\"1.1\"\n",
       "     width=\"75mm\" height=\"75mm\"\n",
       "     viewBox=\"0 0 3 3\" preserveAspectRatio=\"none\"\n",
       "     shape-rendering=\"crispEdges\" stroke=\"none\">\n",
       "<rect width=\".96\" height=\".96\" x=\"0\" y=\"0\" fill=\"#620019\" />\n",
       "<rect width=\".96\" height=\".96\" x=\"1\" y=\"0\" fill=\"#69936B\" />\n",
       "<rect width=\".96\" height=\".96\" x=\"2\" y=\"0\" fill=\"#6C5200\" />\n",
       "<rect width=\".96\" height=\".96\" x=\"0\" y=\"1\" fill=\"#000000\" />\n",
       "<rect width=\".96\" height=\".96\" x=\"1\" y=\"1\" fill=\"#00FFC8\" />\n",
       "<rect width=\".96\" height=\".96\" x=\"2\" y=\"1\" fill=\"#00A853\" />\n",
       "<rect width=\".96\" height=\".96\" x=\"0\" y=\"2\" fill=\"#FF977B\" />\n",
       "<rect width=\".96\" height=\".96\" x=\"1\" y=\"2\" fill=\"#B40080\" />\n",
       "<rect width=\".96\" height=\".96\" x=\"2\" y=\"2\" fill=\"#6F5B95\" />\n",
       "</svg>"
      ],
      "text/plain": [
       "3×3 Array{RGB{N0f8},2} with eltype RGB{FixedPointNumbers.N0f8}:\n",
       " RGB{N0f8}(0.384,0.0,0.098)  …  RGB{N0f8}(0.424,0.322,0.0)\n",
       " RGB{N0f8}(0.0,0.0,0.0)         RGB{N0f8}(0.0,0.659,0.325)\n",
       " RGB{N0f8}(1.0,0.592,0.482)     RGB{N0f8}(0.435,0.357,0.584)"
      ]
     },
     "execution_count": 103,
     "metadata": {},
     "output_type": "execute_result"
    }
   ],
   "source": [
    "Random.seed!(221021)\n",
    "rand(palette, 3, 3)"
   ]
  },
  {
   "cell_type": "markdown",
   "metadata": {},
   "source": [
    "# Plotting\n",
    "\n",
    "## Basics\n",
    "\n",
    "There are few different ways to plot in Julia(including calling PyPlot).\n",
    "\n",
    "Here we'll show you how to use `Plots.jl`."
   ]
  },
  {
   "cell_type": "code",
   "execution_count": 104,
   "metadata": {},
   "outputs": [
    {
     "ename": "LoadError",
     "evalue": "ArgumentError: Package Plots not found in current path:\n- Run `import Pkg; Pkg.add(\"Plots\")` to install the Plots package.\n",
     "output_type": "error",
     "traceback": [
      "ArgumentError: Package Plots not found in current path:\n- Run `import Pkg; Pkg.add(\"Plots\")` to install the Plots package.\n",
      "",
      "Stacktrace:",
      " [1] require(into::Module, mod::Symbol)",
      "   @ Base ./loading.jl:893",
      " [2] eval",
      "   @ ./boot.jl:360 [inlined]",
      " [3] include_string(mapexpr::typeof(REPL.softscope), mod::Module, code::String, filename::String)",
      "   @ Base ./loading.jl:1116"
     ]
    }
   ],
   "source": [
    "# Pkg.add(\"Plots\")\n",
    "using Plots"
   ]
  },
  {
   "cell_type": "markdown",
   "metadata": {},
   "source": [
    "One of the advantages to `Plots.jl` is that it allows you to seamlessly change bankends. In this notebook, we'll try out the `gr()` and `plotlyjs()` backends.\n",
    "\n",
    "First, let's generate some artificial data to plot!"
   ]
  },
  {
   "cell_type": "code",
   "execution_count": 105,
   "metadata": {},
   "outputs": [
    {
     "data": {
      "text/plain": [
       "61-element Vector{Float64}:\n",
       " 9.0\n",
       " 8.41\n",
       " 7.839999999999999\n",
       " 7.290000000000001\n",
       " 6.760000000000001\n",
       " 6.25\n",
       " 5.76\n",
       " 5.289999999999999\n",
       " 4.840000000000001\n",
       " 4.41\n",
       " 4.0\n",
       " 3.61\n",
       " 3.24\n",
       " ⋮\n",
       " 3.61\n",
       " 4.0\n",
       " 4.41\n",
       " 4.840000000000001\n",
       " 5.289999999999999\n",
       " 5.76\n",
       " 6.25\n",
       " 6.760000000000001\n",
       " 7.290000000000001\n",
       " 7.839999999999999\n",
       " 8.41\n",
       " 9.0"
      ]
     },
     "execution_count": 105,
     "metadata": {},
     "output_type": "execute_result"
    }
   ],
   "source": [
    "x = -3:0.1:3\n",
    "f(x) = x^2\n",
    "y = f.(x) # broadcast the function on a vector"
   ]
  },
  {
   "cell_type": "markdown",
   "metadata": {},
   "source": [
    "**Now let's load the GR backend**"
   ]
  },
  {
   "cell_type": "code",
   "execution_count": 106,
   "metadata": {},
   "outputs": [
    {
     "ename": "LoadError",
     "evalue": "UndefVarError: gr not defined",
     "output_type": "error",
     "traceback": [
      "UndefVarError: gr not defined",
      "",
      "Stacktrace:",
      " [1] top-level scope",
      "   @ In[106]:1",
      " [2] eval",
      "   @ ./boot.jl:360 [inlined]",
      " [3] include_string(mapexpr::typeof(REPL.softscope), mod::Module, code::String, filename::String)",
      "   @ Base ./loading.jl:1116"
     ]
    }
   ],
   "source": [
    "gr()"
   ]
  },
  {
   "cell_type": "code",
   "execution_count": 107,
   "metadata": {},
   "outputs": [
    {
     "ename": "LoadError",
     "evalue": "UndefVarError: plot not defined",
     "output_type": "error",
     "traceback": [
      "UndefVarError: plot not defined",
      "",
      "Stacktrace:",
      " [1] top-level scope",
      "   @ In[107]:1",
      " [2] eval",
      "   @ ./boot.jl:360 [inlined]",
      " [3] include_string(mapexpr::typeof(REPL.softscope), mod::Module, code::String, filename::String)",
      "   @ Base ./loading.jl:1116"
     ]
    }
   ],
   "source": [
    "plot(x, y, label = \"line\")\n",
    "scatter!(x, y, label = \"points\")"
   ]
  },
  {
   "cell_type": "markdown",
   "metadata": {},
   "source": [
    "The `!` at the end of the `scatter!` function name makes `scatter!` a mutating function, indicating that the scattered points will be added onto the pre-existing plot.\n",
    "\n",
    "In contrast, see what happens when you replace `scatter!` in the above with the non-mutating function `scatter`"
   ]
  },
  {
   "cell_type": "code",
   "execution_count": 108,
   "metadata": {},
   "outputs": [
    {
     "ename": "LoadError",
     "evalue": "UndefVarError: scatter not defined",
     "output_type": "error",
     "traceback": [
      "UndefVarError: scatter not defined",
      "",
      "Stacktrace:",
      " [1] top-level scope",
      "   @ In[108]:2",
      " [2] eval",
      "   @ ./boot.jl:360 [inlined]",
      " [3] include_string(mapexpr::typeof(REPL.softscope), mod::Module, code::String, filename::String)",
      "   @ Base ./loading.jl:1116"
     ]
    }
   ],
   "source": [
    "# plot(x, y, label = \"line\")\n",
    "scatter(x, y, label = \"points\")"
   ]
  },
  {
   "cell_type": "markdown",
   "metadata": {},
   "source": [
    "**Without changing syntax, we can try this with the `plotlyjs()` backend**"
   ]
  },
  {
   "cell_type": "code",
   "execution_count": 109,
   "metadata": {},
   "outputs": [
    {
     "ename": "LoadError",
     "evalue": "ArgumentError: Package PlotlyJS not found in current path:\n- Run `import Pkg; Pkg.add(\"PlotlyJS\")` to install the PlotlyJS package.\n",
     "output_type": "error",
     "traceback": [
      "ArgumentError: Package PlotlyJS not found in current path:\n- Run `import Pkg; Pkg.add(\"PlotlyJS\")` to install the PlotlyJS package.\n",
      "",
      "Stacktrace:",
      " [1] require(into::Module, mod::Symbol)",
      "   @ Base ./loading.jl:893",
      " [2] eval",
      "   @ ./boot.jl:360 [inlined]",
      " [3] include_string(mapexpr::typeof(REPL.softscope), mod::Module, code::String, filename::String)",
      "   @ Base ./loading.jl:1116"
     ]
    }
   ],
   "source": [
    "# Pkg.add(\"PlotlyJS\")\n",
    "using PlotlyJS\n",
    "plotlyjs()"
   ]
  },
  {
   "cell_type": "code",
   "execution_count": 110,
   "metadata": {},
   "outputs": [
    {
     "ename": "LoadError",
     "evalue": "UndefVarError: plot not defined",
     "output_type": "error",
     "traceback": [
      "UndefVarError: plot not defined",
      "",
      "Stacktrace:",
      " [1] top-level scope",
      "   @ In[110]:1",
      " [2] eval",
      "   @ ./boot.jl:360 [inlined]",
      " [3] include_string(mapexpr::typeof(REPL.softscope), mod::Module, code::String, filename::String)",
      "   @ Base ./loading.jl:1116"
     ]
    }
   ],
   "source": [
    "plot(x, y, label = \"line\")\n",
    "scatter!(x, y, label = \"points\")"
   ]
  },
  {
   "cell_type": "markdown",
   "metadata": {},
   "source": [
    "And notice how this second plot differs from the first!"
   ]
  },
  {
   "cell_type": "markdown",
   "metadata": {},
   "source": [
    "## Getting slightly fancier\n",
    "\n",
    "The syntax for adding titles and labels to your plots is pretty straight forward.\n",
    "\n",
    "This time, in the name of scientific inquiry, let's examine the relationship between the global temperature and the number of pirates between roughly 1860 and 2000."
   ]
  },
  {
   "cell_type": "code",
   "execution_count": 111,
   "metadata": {},
   "outputs": [
    {
     "data": {
      "text/plain": [
       "6-element Vector{Int64}:\n",
       " 45000\n",
       " 20000\n",
       " 15000\n",
       "  5000\n",
       "   400\n",
       "    17"
      ]
     },
     "execution_count": 111,
     "metadata": {},
     "output_type": "execute_result"
    }
   ],
   "source": [
    "globaltemperatures = [14.4,14.5,14.8, 15.2, 15.5, 15.8]\n",
    "numpirates = [45000,20000,15000,5000,400,17]"
   ]
  },
  {
   "cell_type": "code",
   "execution_count": 112,
   "metadata": {},
   "outputs": [
    {
     "ename": "LoadError",
     "evalue": "UndefVarError: plot not defined",
     "output_type": "error",
     "traceback": [
      "UndefVarError: plot not defined",
      "",
      "Stacktrace:",
      " [1] top-level scope",
      "   @ In[112]:2",
      " [2] eval",
      "   @ ./boot.jl:360 [inlined]",
      " [3] include_string(mapexpr::typeof(REPL.softscope), mod::Module, code::String, filename::String)",
      "   @ Base ./loading.jl:1116"
     ]
    }
   ],
   "source": [
    "# First, plot the data\n",
    "plot(numpirates, globaltemperatures, legend = false)\n",
    "scatter!(numpirates, globaltemperatures, legend = false)\n",
    "\n",
    "# This reverses x axis we can see how the temperature changes as time goes by\n",
    "xflip!()\n",
    "\n",
    "# Add titles and labels\n",
    "xlabel!(\"Number of Pirates [Approximate]\")\n",
    "ylabel!(\"global Temperature (C)\")\n",
    "title!(\"Influence of pirate population on global warming\")"
   ]
  },
  {
   "cell_type": "markdown",
   "metadata": {},
   "source": [
    "To create a plot with subplots, we just name each of the individual subplots and then wrap those names, along with a layout specification, in another `plot` call."
   ]
  },
  {
   "cell_type": "code",
   "execution_count": 113,
   "metadata": {},
   "outputs": [
    {
     "ename": "LoadError",
     "evalue": "UndefVarError: plot not defined",
     "output_type": "error",
     "traceback": [
      "UndefVarError: plot not defined",
      "",
      "Stacktrace:",
      " [1] top-level scope",
      "   @ In[113]:1",
      " [2] eval",
      "   @ ./boot.jl:360 [inlined]",
      " [3] include_string(mapexpr::typeof(REPL.softscope), mod::Module, code::String, filename::String)",
      "   @ Base ./loading.jl:1116"
     ]
    }
   ],
   "source": [
    "p1 = plot(x,x)\n",
    "p2 = plot(x,x.^2)\n",
    "p3 = plot(x,x.^3)\n",
    "p4 = plot(x,x.^4)\n",
    "plot(p1,p2,p3,p4,layout = (2,2), legend = false)"
   ]
  },
  {
   "cell_type": "markdown",
   "metadata": {},
   "source": [
    "# Multiple Dispatch\n",
    "\n",
    "In this notebook we'll explore **multiple dispatch**, which is a key feature of Julia.\n",
    "\n",
    "Multiple dispatch makes software:\n",
    "\n",
    "    * fast\n",
    "    * extensible\n",
    "    * programmable\n",
    "    * fun to play with\n",
    "    \n",
    "To understand and illustrate multiple dispatch in Julia, let's take a look at the `+` operator. \n",
    "\n",
    "By calling `methods()` on `+`, we can see how many existing definitions we have for `+`."
   ]
  },
  {
   "cell_type": "code",
   "execution_count": 114,
   "metadata": {},
   "outputs": [
    {
     "data": {
      "text/html": [
       "# 192 methods for generic function <b>+</b>:<ul><li> +(x::<b>T</b>, y::<b>T</b>)<i> where T<:Union{Int128, Int16, Int32, Int64, Int8, UInt128, UInt16, UInt32, UInt64, UInt8}</i> in Base at <a href=\"https://github.com/JuliaLang/julia/tree/3b76b25b648cc1fa6187b118c685819a4111a5d2/base/int.jl#L87\" target=\"_blank\">int.jl:87</a></li> <li> +(c::<b>Union{UInt16, UInt32, UInt64, UInt8}</b>, x::<b>BigInt</b>) in Base.GMP at <a href=\"https://github.com/JuliaLang/julia/tree/3b76b25b648cc1fa6187b118c685819a4111a5d2/base/gmp.jl#L528\" target=\"_blank\">gmp.jl:528</a></li> <li> +(c::<b>Union{Int16, Int32, Int64, Int8}</b>, x::<b>BigInt</b>) in Base.GMP at <a href=\"https://github.com/JuliaLang/julia/tree/3b76b25b648cc1fa6187b118c685819a4111a5d2/base/gmp.jl#L534\" target=\"_blank\">gmp.jl:534</a></li> <li> +(c::<b>Union{UInt16, UInt32, UInt64, UInt8}</b>, x::<b>BigFloat</b>) in Base.MPFR at <a href=\"https://github.com/JuliaLang/julia/tree/3b76b25b648cc1fa6187b118c685819a4111a5d2/base/mpfr.jl#L383\" target=\"_blank\">mpfr.jl:383</a></li> <li> +(c::<b>Union{Int16, Int32, Int64, Int8}</b>, x::<b>BigFloat</b>) in Base.MPFR at <a href=\"https://github.com/JuliaLang/julia/tree/3b76b25b648cc1fa6187b118c685819a4111a5d2/base/mpfr.jl#L391\" target=\"_blank\">mpfr.jl:391</a></li> <li> +(c::<b>Union{Float16, Float32, Float64}</b>, x::<b>BigFloat</b>) in Base.MPFR at <a href=\"https://github.com/JuliaLang/julia/tree/3b76b25b648cc1fa6187b118c685819a4111a5d2/base/mpfr.jl#L399\" target=\"_blank\">mpfr.jl:399</a></li> <li> +(x::<b>Union{Dates.CompoundPeriod, Dates.Period}</b>) in Dates at <a href=\"file:///Users/julia/buildbot/worker/package_macos64/build/usr/share/julia/stdlib/v1.6/Dates/src/periods.jl\" target=\"_blank\">/Applications/Julia-1.6.app/Contents/Resources/julia/share/julia/stdlib/v1.6/Dates/src/periods.jl:362</a></li> <li> +(a::<b>Union{LMS, XYZ}</b>, b::<b>Union{LMS, XYZ}</b>) in Colors at <a href=\"file:///Users/sowonjeong/.julia/packages/Colors/yDxFN/src/algorithms.jl\" target=\"_blank\">/Users/sowonjeong/.julia/packages/Colors/yDxFN/src/algorithms.jl:4</a></li> <li> +(A::<b>LinearAlgebra.UpperHessenberg</b>, B::<b>LinearAlgebra.UpperHessenberg</b>) in LinearAlgebra at <a href=\"file:///Users/julia/buildbot/worker/package_macos64/build/usr/share/julia/stdlib/v1.6/LinearAlgebra/src/hessenberg.jl\" target=\"_blank\">/Applications/Julia-1.6.app/Contents/Resources/julia/share/julia/stdlib/v1.6/LinearAlgebra/src/hessenberg.jl:101</a></li> <li> +(H::<b>LinearAlgebra.UpperHessenberg</b>, J::<b>LinearAlgebra.UniformScaling</b>) in LinearAlgebra at <a href=\"file:///Users/julia/buildbot/worker/package_macos64/build/usr/share/julia/stdlib/v1.6/LinearAlgebra/src/hessenberg.jl\" target=\"_blank\">/Applications/Julia-1.6.app/Contents/Resources/julia/share/julia/stdlib/v1.6/LinearAlgebra/src/hessenberg.jl:106</a></li> <li> +(A::<b>LinearAlgebra.UpperTriangular</b>, B::<b>LinearAlgebra.UpperTriangular</b>) in LinearAlgebra at <a href=\"file:///Users/julia/buildbot/worker/package_macos64/build/usr/share/julia/stdlib/v1.6/LinearAlgebra/src/triangular.jl\" target=\"_blank\">/Applications/Julia-1.6.app/Contents/Resources/julia/share/julia/stdlib/v1.6/LinearAlgebra/src/triangular.jl:648</a></li> <li> +(A::<b>LinearAlgebra.UpperTriangular</b>, B::<b>LinearAlgebra.UnitUpperTriangular</b>) in LinearAlgebra at <a href=\"file:///Users/julia/buildbot/worker/package_macos64/build/usr/share/julia/stdlib/v1.6/LinearAlgebra/src/triangular.jl\" target=\"_blank\">/Applications/Julia-1.6.app/Contents/Resources/julia/share/julia/stdlib/v1.6/LinearAlgebra/src/triangular.jl:650</a></li> <li> +(A::<b>LinearAlgebra.UpperTriangular</b>, B::<b>LinearAlgebra.Bidiagonal</b>) in LinearAlgebra at <a href=\"file:///Users/julia/buildbot/worker/package_macos64/build/usr/share/julia/stdlib/v1.6/LinearAlgebra/src/special.jl\" target=\"_blank\">/Applications/Julia-1.6.app/Contents/Resources/julia/share/julia/stdlib/v1.6/LinearAlgebra/src/special.jl:86</a></li> <li> +(A::<b>LinearAlgebra.Bidiagonal</b>, B::<b>LinearAlgebra.Bidiagonal</b>) in LinearAlgebra at <a href=\"file:///Users/julia/buildbot/worker/package_macos64/build/usr/share/julia/stdlib/v1.6/LinearAlgebra/src/bidiag.jl\" target=\"_blank\">/Applications/Julia-1.6.app/Contents/Resources/julia/share/julia/stdlib/v1.6/LinearAlgebra/src/bidiag.jl:354</a></li> <li> +(A::<b>LinearAlgebra.Bidiagonal</b>, B::<b>LinearAlgebra.UpperTriangular</b>) in LinearAlgebra at <a href=\"file:///Users/julia/buildbot/worker/package_macos64/build/usr/share/julia/stdlib/v1.6/LinearAlgebra/src/special.jl\" target=\"_blank\">/Applications/Julia-1.6.app/Contents/Resources/julia/share/julia/stdlib/v1.6/LinearAlgebra/src/special.jl:94</a></li> <li> +(A::<b>LinearAlgebra.Bidiagonal</b>, B::<b>LinearAlgebra.UnitUpperTriangular</b>) in LinearAlgebra at <a href=\"file:///Users/julia/buildbot/worker/package_macos64/build/usr/share/julia/stdlib/v1.6/LinearAlgebra/src/special.jl\" target=\"_blank\">/Applications/Julia-1.6.app/Contents/Resources/julia/share/julia/stdlib/v1.6/LinearAlgebra/src/special.jl:94</a></li> <li> +(A::<b>LinearAlgebra.Bidiagonal</b>, B::<b>LinearAlgebra.LowerTriangular</b>) in LinearAlgebra at <a href=\"file:///Users/julia/buildbot/worker/package_macos64/build/usr/share/julia/stdlib/v1.6/LinearAlgebra/src/special.jl\" target=\"_blank\">/Applications/Julia-1.6.app/Contents/Resources/julia/share/julia/stdlib/v1.6/LinearAlgebra/src/special.jl:94</a></li> <li> +(A::<b>LinearAlgebra.Bidiagonal</b>, B::<b>LinearAlgebra.UnitLowerTriangular</b>) in LinearAlgebra at <a href=\"file:///Users/julia/buildbot/worker/package_macos64/build/usr/share/julia/stdlib/v1.6/LinearAlgebra/src/special.jl\" target=\"_blank\">/Applications/Julia-1.6.app/Contents/Resources/julia/share/julia/stdlib/v1.6/LinearAlgebra/src/special.jl:94</a></li> <li> +(A::<b>LinearAlgebra.Bidiagonal</b>, B::<b>LinearAlgebra.Diagonal</b>) in LinearAlgebra at <a href=\"file:///Users/julia/buildbot/worker/package_macos64/build/usr/share/julia/stdlib/v1.6/LinearAlgebra/src/special.jl\" target=\"_blank\">/Applications/Julia-1.6.app/Contents/Resources/julia/share/julia/stdlib/v1.6/LinearAlgebra/src/special.jl:115</a></li> <li> +(A::<b>LinearAlgebra.Bidiagonal</b>, B::<b>LinearAlgebra.Tridiagonal</b>) in LinearAlgebra at <a href=\"file:///Users/julia/buildbot/worker/package_macos64/build/usr/share/julia/stdlib/v1.6/LinearAlgebra/src/special.jl\" target=\"_blank\">/Applications/Julia-1.6.app/Contents/Resources/julia/share/julia/stdlib/v1.6/LinearAlgebra/src/special.jl:183</a></li> <li> +(A::<b>LinearAlgebra.Bidiagonal</b>, B::<b>LinearAlgebra.SymTridiagonal</b>) in LinearAlgebra at <a href=\"file:///Users/julia/buildbot/worker/package_macos64/build/usr/share/julia/stdlib/v1.6/LinearAlgebra/src/special.jl\" target=\"_blank\">/Applications/Julia-1.6.app/Contents/Resources/julia/share/julia/stdlib/v1.6/LinearAlgebra/src/special.jl:203</a></li> <li> +(A::<b>LinearAlgebra.Bidiagonal{var\"#s814\", V} where {var\"#s814\"<:Number, V<:AbstractVector{var\"#s814\"}}</b>, B::<b>LinearAlgebra.UniformScaling</b>) in LinearAlgebra at <a href=\"file:///Users/julia/buildbot/worker/package_macos64/build/usr/share/julia/stdlib/v1.6/LinearAlgebra/src/special.jl\" target=\"_blank\">/Applications/Julia-1.6.app/Contents/Resources/julia/share/julia/stdlib/v1.6/LinearAlgebra/src/special.jl:236</a></li> <li> +(r1::<b>LinRange{T}</b>, r2::<b>LinRange{T}</b>)<i> where T</i> in Base at <a href=\"https://github.com/JuliaLang/julia/tree/3b76b25b648cc1fa6187b118c685819a4111a5d2/base/range.jl#L1110\" target=\"_blank\">range.jl:1110</a></li> <li> +(A::<b>SparseArrays.AbstractSparseMatrix{Tv, Ti} where {Tv, Ti}</b>, B::<b>LinearAlgebra.Hermitian{var\"#s814\", var\"#s813\"} where {var\"#s814\", var\"#s813\"<:(SparseArrays.AbstractSparseMatrix{Tv, Ti} where {Tv, Ti})}</b>) in SparseArrays at <a href=\"file:///Users/julia/buildbot/worker/package_macos64/build/usr/share/julia/stdlib/v1.6/SparseArrays/src/linalg.jl\" target=\"_blank\">/Applications/Julia-1.6.app/Contents/Resources/julia/share/julia/stdlib/v1.6/SparseArrays/src/linalg.jl:14</a></li> <li> +(A::<b>SparseArrays.AbstractSparseMatrix{Tv, Ti} where {Tv, Ti}</b>, B::<b>LinearAlgebra.Hermitian</b>) in SparseArrays at <a href=\"file:///Users/julia/buildbot/worker/package_macos64/build/usr/share/julia/stdlib/v1.6/SparseArrays/src/linalg.jl\" target=\"_blank\">/Applications/Julia-1.6.app/Contents/Resources/julia/share/julia/stdlib/v1.6/SparseArrays/src/linalg.jl:17</a></li> <li> +(A::<b>SparseArrays.AbstractSparseMatrix{Tv, Ti} where {Tv, Ti}</b>, B::<b>LinearAlgebra.Symmetric{var\"#s814\", var\"#s813\"} where {var\"#s814\", var\"#s813\"<:(SparseArrays.AbstractSparseMatrix{Tv, Ti} where {Tv, Ti})}</b>) in SparseArrays at <a href=\"file:///Users/julia/buildbot/worker/package_macos64/build/usr/share/julia/stdlib/v1.6/SparseArrays/src/linalg.jl\" target=\"_blank\">/Applications/Julia-1.6.app/Contents/Resources/julia/share/julia/stdlib/v1.6/SparseArrays/src/linalg.jl:14</a></li> <li> +(A::<b>SparseArrays.AbstractSparseMatrix{Tv, Ti} where {Tv, Ti}</b>, B::<b>LinearAlgebra.Symmetric</b>) in SparseArrays at <a href=\"file:///Users/julia/buildbot/worker/package_macos64/build/usr/share/julia/stdlib/v1.6/SparseArrays/src/linalg.jl\" target=\"_blank\">/Applications/Julia-1.6.app/Contents/Resources/julia/share/julia/stdlib/v1.6/SparseArrays/src/linalg.jl:17</a></li> <li> +(J::<b>LinearAlgebra.UniformScaling</b>) in LinearAlgebra at <a href=\"file:///Users/julia/buildbot/worker/package_macos64/build/usr/share/julia/stdlib/v1.6/LinearAlgebra/src/uniformscaling.jl\" target=\"_blank\">/Applications/Julia-1.6.app/Contents/Resources/julia/share/julia/stdlib/v1.6/LinearAlgebra/src/uniformscaling.jl:150</a></li> <li> +(J::<b>LinearAlgebra.UniformScaling</b>, x::<b>Number</b>) in LinearAlgebra at <a href=\"file:///Users/julia/buildbot/worker/package_macos64/build/usr/share/julia/stdlib/v1.6/LinearAlgebra/src/uniformscaling.jl\" target=\"_blank\">/Applications/Julia-1.6.app/Contents/Resources/julia/share/julia/stdlib/v1.6/LinearAlgebra/src/uniformscaling.jl:145</a></li> <li> +(J1::<b>LinearAlgebra.UniformScaling</b>, J2::<b>LinearAlgebra.UniformScaling</b>) in LinearAlgebra at <a href=\"file:///Users/julia/buildbot/worker/package_macos64/build/usr/share/julia/stdlib/v1.6/LinearAlgebra/src/uniformscaling.jl\" target=\"_blank\">/Applications/Julia-1.6.app/Contents/Resources/julia/share/julia/stdlib/v1.6/LinearAlgebra/src/uniformscaling.jl:151</a></li> <li> +(J::<b>LinearAlgebra.UniformScaling</b>, B::<b>BitMatrix</b>) in LinearAlgebra at <a href=\"file:///Users/julia/buildbot/worker/package_macos64/build/usr/share/julia/stdlib/v1.6/LinearAlgebra/src/uniformscaling.jl\" target=\"_blank\">/Applications/Julia-1.6.app/Contents/Resources/julia/share/julia/stdlib/v1.6/LinearAlgebra/src/uniformscaling.jl:153</a></li> <li> +(J::<b>LinearAlgebra.UniformScaling</b>, F::<b>LinearAlgebra.Hessenberg</b>) in LinearAlgebra at <a href=\"file:///Users/julia/buildbot/worker/package_macos64/build/usr/share/julia/stdlib/v1.6/LinearAlgebra/src/hessenberg.jl\" target=\"_blank\">/Applications/Julia-1.6.app/Contents/Resources/julia/share/julia/stdlib/v1.6/LinearAlgebra/src/hessenberg.jl:560</a></li> <li> +(A::<b>LinearAlgebra.UniformScaling</b>, B::<b>LinearAlgebra.Tridiagonal{var\"#s814\", V} where {var\"#s814\"<:Number, V<:AbstractVector{var\"#s814\"}}</b>) in LinearAlgebra at <a href=\"file:///Users/julia/buildbot/worker/package_macos64/build/usr/share/julia/stdlib/v1.6/LinearAlgebra/src/special.jl\" target=\"_blank\">/Applications/Julia-1.6.app/Contents/Resources/julia/share/julia/stdlib/v1.6/LinearAlgebra/src/special.jl:245</a></li> <li> +(A::<b>LinearAlgebra.UniformScaling</b>, B::<b>LinearAlgebra.SymTridiagonal{var\"#s814\", V} where {var\"#s814\"<:Number, V<:AbstractVector{var\"#s814\"}}</b>) in LinearAlgebra at <a href=\"file:///Users/julia/buildbot/worker/package_macos64/build/usr/share/julia/stdlib/v1.6/LinearAlgebra/src/special.jl\" target=\"_blank\">/Applications/Julia-1.6.app/Contents/Resources/julia/share/julia/stdlib/v1.6/LinearAlgebra/src/special.jl:250</a></li> <li> +(A::<b>LinearAlgebra.UniformScaling</b>, B::<b>LinearAlgebra.Bidiagonal{var\"#s814\", V} where {var\"#s814\"<:Number, V<:AbstractVector{var\"#s814\"}}</b>) in LinearAlgebra at <a href=\"file:///Users/julia/buildbot/worker/package_macos64/build/usr/share/julia/stdlib/v1.6/LinearAlgebra/src/special.jl\" target=\"_blank\">/Applications/Julia-1.6.app/Contents/Resources/julia/share/julia/stdlib/v1.6/LinearAlgebra/src/special.jl:255</a></li> <li> +(A::<b>LinearAlgebra.UniformScaling</b>, B::<b>LinearAlgebra.Diagonal{var\"#s814\", V} where {var\"#s814\"<:Number, V<:AbstractVector{var\"#s814\"}}</b>) in LinearAlgebra at <a href=\"file:///Users/julia/buildbot/worker/package_macos64/build/usr/share/julia/stdlib/v1.6/LinearAlgebra/src/special.jl\" target=\"_blank\">/Applications/Julia-1.6.app/Contents/Resources/julia/share/julia/stdlib/v1.6/LinearAlgebra/src/special.jl:260</a></li> <li> +(J::<b>LinearAlgebra.UniformScaling</b>, A::<b>AbstractMatrix{T} where T</b>) in LinearAlgebra at <a href=\"file:///Users/julia/buildbot/worker/package_macos64/build/usr/share/julia/stdlib/v1.6/LinearAlgebra/src/uniformscaling.jl\" target=\"_blank\">/Applications/Julia-1.6.app/Contents/Resources/julia/share/julia/stdlib/v1.6/LinearAlgebra/src/uniformscaling.jl:154</a></li> <li> +(y::<b>Dates.TimeType</b>, x::<b>StridedArray{var\"#s814\", N} where {var\"#s814\"<:Union{Dates.CompoundPeriod, Dates.Period}, N}</b>) in Dates at <a href=\"file:///Users/julia/buildbot/worker/package_macos64/build/usr/share/julia/stdlib/v1.6/Dates/src/deprecated.jl\" target=\"_blank\">/Applications/Julia-1.6.app/Contents/Resources/julia/share/julia/stdlib/v1.6/Dates/src/deprecated.jl:18</a></li> <li> +(x::<b>Dates.Instant</b>) in Dates at <a href=\"file:///Users/julia/buildbot/worker/package_macos64/build/usr/share/julia/stdlib/v1.6/Dates/src/arithmetic.jl\" target=\"_blank\">/Applications/Julia-1.6.app/Contents/Resources/julia/share/julia/stdlib/v1.6/Dates/src/arithmetic.jl:4</a></li> <li> +(r::<b>AbstractRange{var\"#s814\"} where var\"#s814\"<:Dates.TimeType</b>, x::<b>Dates.Period</b>) in Dates at <a href=\"file:///Users/julia/buildbot/worker/package_macos64/build/usr/share/julia/stdlib/v1.6/Dates/src/ranges.jl\" target=\"_blank\">/Applications/Julia-1.6.app/Contents/Resources/julia/share/julia/stdlib/v1.6/Dates/src/ranges.jl:63</a></li> <li> +(y::<b>AbstractFloat</b>, x::<b>Bool</b>) in Base at <a href=\"https://github.com/JuliaLang/julia/tree/3b76b25b648cc1fa6187b118c685819a4111a5d2/base/bool.jl#L102\" target=\"_blank\">bool.jl:102</a></li> <li> +(x::<b>Rational</b>, y::<b>Integer</b>) in Base at <a href=\"https://github.com/JuliaLang/julia/tree/3b76b25b648cc1fa6187b118c685819a4111a5d2/base/rational.jl#L289\" target=\"_blank\">rational.jl:289</a></li> <li> +(A::<b>Array</b>, Bs::<b>Array...</b>) in Base at <a href=\"https://github.com/JuliaLang/julia/tree/3b76b25b648cc1fa6187b118c685819a4111a5d2/base/arraymath.jl#L43\" target=\"_blank\">arraymath.jl:43</a></li> <li> +(X::<b>StridedArray{var\"#s814\", N} where {var\"#s814\"<:Union{Dates.CompoundPeriod, Dates.Period}, N}</b>, Y::<b>StridedArray{var\"#s813\", N} where {var\"#s813\"<:Union{Dates.CompoundPeriod, Dates.Period}, N}</b>) in Dates at <a href=\"file:///Users/julia/buildbot/worker/package_macos64/build/usr/share/julia/stdlib/v1.6/Dates/src/deprecated.jl\" target=\"_blank\">/Applications/Julia-1.6.app/Contents/Resources/julia/share/julia/stdlib/v1.6/Dates/src/deprecated.jl:62</a></li> <li> +(A::<b>Array</b>, B::<b>SparseArrays.AbstractSparseMatrixCSC</b>) in SparseArrays at <a href=\"file:///Users/julia/buildbot/worker/package_macos64/build/usr/share/julia/stdlib/v1.6/SparseArrays/src/sparsematrix.jl\" target=\"_blank\">/Applications/Julia-1.6.app/Contents/Resources/julia/share/julia/stdlib/v1.6/SparseArrays/src/sparsematrix.jl:1745</a></li> <li> +(x::<b>StridedArray{var\"#s814\", N} where {var\"#s814\"<:Union{Dates.CompoundPeriod, Dates.Period}, N}</b>) in Dates at <a href=\"file:///Users/julia/buildbot/worker/package_macos64/build/usr/share/julia/stdlib/v1.6/Dates/src/deprecated.jl\" target=\"_blank\">/Applications/Julia-1.6.app/Contents/Resources/julia/share/julia/stdlib/v1.6/Dates/src/deprecated.jl:55</a></li> <li> +(x::<b>StridedArray{var\"#s814\", N} where {var\"#s814\"<:Union{Dates.CompoundPeriod, Dates.Period}, N}</b>, y::<b>Dates.TimeType</b>) in Dates at <a href=\"file:///Users/julia/buildbot/worker/package_macos64/build/usr/share/julia/stdlib/v1.6/Dates/src/deprecated.jl\" target=\"_blank\">/Applications/Julia-1.6.app/Contents/Resources/julia/share/julia/stdlib/v1.6/Dates/src/deprecated.jl:10</a></li> <li> +(x::<b>AbstractIrrational</b>, y::<b>AbstractIrrational</b>) in Base at <a href=\"https://github.com/JuliaLang/julia/tree/3b76b25b648cc1fa6187b118c685819a4111a5d2/base/irrationals.jl#L156\" target=\"_blank\">irrationals.jl:156</a></li> <li> +(A::<b>LinearAlgebra.Tridiagonal</b>, B::<b>LinearAlgebra.Tridiagonal</b>) in LinearAlgebra at <a href=\"file:///Users/julia/buildbot/worker/package_macos64/build/usr/share/julia/stdlib/v1.6/LinearAlgebra/src/tridiag.jl\" target=\"_blank\">/Applications/Julia-1.6.app/Contents/Resources/julia/share/julia/stdlib/v1.6/LinearAlgebra/src/tridiag.jl:733</a></li> <li> +(A::<b>LinearAlgebra.Tridiagonal</b>, B::<b>LinearAlgebra.SymTridiagonal</b>) in LinearAlgebra at <a href=\"file:///Users/julia/buildbot/worker/package_macos64/build/usr/share/julia/stdlib/v1.6/LinearAlgebra/src/special.jl\" target=\"_blank\">/Applications/Julia-1.6.app/Contents/Resources/julia/share/julia/stdlib/v1.6/LinearAlgebra/src/special.jl:157</a></li> <li> +(A::<b>LinearAlgebra.Tridiagonal</b>, B::<b>LinearAlgebra.Diagonal</b>) in LinearAlgebra at <a href=\"file:///Users/julia/buildbot/worker/package_macos64/build/usr/share/julia/stdlib/v1.6/LinearAlgebra/src/special.jl\" target=\"_blank\">/Applications/Julia-1.6.app/Contents/Resources/julia/share/julia/stdlib/v1.6/LinearAlgebra/src/special.jl:173</a></li> <li> +(A::<b>LinearAlgebra.Tridiagonal</b>, B::<b>LinearAlgebra.Bidiagonal</b>) in LinearAlgebra at <a href=\"file:///Users/julia/buildbot/worker/package_macos64/build/usr/share/julia/stdlib/v1.6/LinearAlgebra/src/special.jl\" target=\"_blank\">/Applications/Julia-1.6.app/Contents/Resources/julia/share/julia/stdlib/v1.6/LinearAlgebra/src/special.jl:193</a></li> <li> +(A::<b>LinearAlgebra.Tridiagonal{var\"#s814\", V} where {var\"#s814\"<:Number, V<:AbstractVector{var\"#s814\"}}</b>, B::<b>LinearAlgebra.UniformScaling</b>) in LinearAlgebra at <a href=\"file:///Users/julia/buildbot/worker/package_macos64/build/usr/share/julia/stdlib/v1.6/LinearAlgebra/src/special.jl\" target=\"_blank\">/Applications/Julia-1.6.app/Contents/Resources/julia/share/julia/stdlib/v1.6/LinearAlgebra/src/special.jl:226</a></li> <li> +(A::<b>LinearAlgebra.UnitLowerTriangular</b>, B::<b>LinearAlgebra.LowerTriangular</b>) in LinearAlgebra at <a href=\"file:///Users/julia/buildbot/worker/package_macos64/build/usr/share/julia/stdlib/v1.6/LinearAlgebra/src/triangular.jl\" target=\"_blank\">/Applications/Julia-1.6.app/Contents/Resources/julia/share/julia/stdlib/v1.6/LinearAlgebra/src/triangular.jl:653</a></li> <li> +(A::<b>LinearAlgebra.UnitLowerTriangular</b>, B::<b>LinearAlgebra.UnitLowerTriangular</b>) in LinearAlgebra at <a href=\"file:///Users/julia/buildbot/worker/package_macos64/build/usr/share/julia/stdlib/v1.6/LinearAlgebra/src/triangular.jl\" target=\"_blank\">/Applications/Julia-1.6.app/Contents/Resources/julia/share/julia/stdlib/v1.6/LinearAlgebra/src/triangular.jl:655</a></li> <li> +(UL::<b>LinearAlgebra.UnitLowerTriangular</b>, J::<b>LinearAlgebra.UniformScaling</b>) in LinearAlgebra at <a href=\"file:///Users/julia/buildbot/worker/package_macos64/build/usr/share/julia/stdlib/v1.6/LinearAlgebra/src/uniformscaling.jl\" target=\"_blank\">/Applications/Julia-1.6.app/Contents/Resources/julia/share/julia/stdlib/v1.6/LinearAlgebra/src/uniformscaling.jl:182</a></li> <li> +(A::<b>LinearAlgebra.UnitLowerTriangular</b>, B::<b>LinearAlgebra.Bidiagonal</b>) in LinearAlgebra at <a href=\"file:///Users/julia/buildbot/worker/package_macos64/build/usr/share/julia/stdlib/v1.6/LinearAlgebra/src/special.jl\" target=\"_blank\">/Applications/Julia-1.6.app/Contents/Resources/julia/share/julia/stdlib/v1.6/LinearAlgebra/src/special.jl:86</a></li> <li> +(A::<b>LinearAlgebra.LowerTriangular</b>, B::<b>LinearAlgebra.LowerTriangular</b>) in LinearAlgebra at <a href=\"file:///Users/julia/buildbot/worker/package_macos64/build/usr/share/julia/stdlib/v1.6/LinearAlgebra/src/triangular.jl\" target=\"_blank\">/Applications/Julia-1.6.app/Contents/Resources/julia/share/julia/stdlib/v1.6/LinearAlgebra/src/triangular.jl:649</a></li> <li> +(A::<b>LinearAlgebra.LowerTriangular</b>, B::<b>LinearAlgebra.UnitLowerTriangular</b>) in LinearAlgebra at <a href=\"file:///Users/julia/buildbot/worker/package_macos64/build/usr/share/julia/stdlib/v1.6/LinearAlgebra/src/triangular.jl\" target=\"_blank\">/Applications/Julia-1.6.app/Contents/Resources/julia/share/julia/stdlib/v1.6/LinearAlgebra/src/triangular.jl:651</a></li> <li> +(A::<b>LinearAlgebra.LowerTriangular</b>, B::<b>LinearAlgebra.Bidiagonal</b>) in LinearAlgebra at <a href=\"file:///Users/julia/buildbot/worker/package_macos64/build/usr/share/julia/stdlib/v1.6/LinearAlgebra/src/special.jl\" target=\"_blank\">/Applications/Julia-1.6.app/Contents/Resources/julia/share/julia/stdlib/v1.6/LinearAlgebra/src/special.jl:86</a></li> <li> +(x::<b>Ptr</b>, y::<b>Integer</b>) in Base at <a href=\"https://github.com/JuliaLang/julia/tree/3b76b25b648cc1fa6187b118c685819a4111a5d2/base/pointer.jl#L159\" target=\"_blank\">pointer.jl:159</a></li> <li> +(x::<b>P</b>, y::<b>P</b>)<i> where P<:Dates.Period</i> in Dates at <a href=\"file:///Users/julia/buildbot/worker/package_macos64/build/usr/share/julia/stdlib/v1.6/Dates/src/periods.jl\" target=\"_blank\">/Applications/Julia-1.6.app/Contents/Resources/julia/share/julia/stdlib/v1.6/Dates/src/periods.jl:79</a></li> <li> +(x::<b>Dates.Period</b>, y::<b>Dates.Period</b>) in Dates at <a href=\"file:///Users/julia/buildbot/worker/package_macos64/build/usr/share/julia/stdlib/v1.6/Dates/src/periods.jl\" target=\"_blank\">/Applications/Julia-1.6.app/Contents/Resources/julia/share/julia/stdlib/v1.6/Dates/src/periods.jl:351</a></li> <li> +(y::<b>Dates.Period</b>, x::<b>Dates.CompoundPeriod</b>) in Dates at <a href=\"file:///Users/julia/buildbot/worker/package_macos64/build/usr/share/julia/stdlib/v1.6/Dates/src/periods.jl\" target=\"_blank\">/Applications/Julia-1.6.app/Contents/Resources/julia/share/julia/stdlib/v1.6/Dates/src/periods.jl:353</a></li> <li> +(y::<b>Dates.Period</b>, x::<b>Dates.TimeType</b>) in Dates at <a href=\"file:///Users/julia/buildbot/worker/package_macos64/build/usr/share/julia/stdlib/v1.6/Dates/src/arithmetic.jl\" target=\"_blank\">/Applications/Julia-1.6.app/Contents/Resources/julia/share/julia/stdlib/v1.6/Dates/src/arithmetic.jl:85</a></li> <li> +(x::<b>Dates.Period</b>, r::<b>AbstractRange{var\"#s814\"} where var\"#s814\"<:Dates.TimeType</b>) in Dates at <a href=\"file:///Users/julia/buildbot/worker/package_macos64/build/usr/share/julia/stdlib/v1.6/Dates/src/ranges.jl\" target=\"_blank\">/Applications/Julia-1.6.app/Contents/Resources/julia/share/julia/stdlib/v1.6/Dates/src/ranges.jl:62</a></li> <li> +(y::<b>Union{Dates.CompoundPeriod, Dates.Period}</b>, x::<b>AbstractArray{var\"#s814\", N} where {var\"#s814\"<:Dates.TimeType, N}</b>) in Dates at <a href=\"file:///Users/julia/buildbot/worker/package_macos64/build/usr/share/julia/stdlib/v1.6/Dates/src/deprecated.jl\" target=\"_blank\">/Applications/Julia-1.6.app/Contents/Resources/julia/share/julia/stdlib/v1.6/Dates/src/deprecated.jl:14</a></li> <li> +(index1::<b>CartesianIndex{N}</b>, index2::<b>CartesianIndex{N}</b>)<i> where N</i> in Base.IteratorsMD at <a href=\"https://github.com/JuliaLang/julia/tree/3b76b25b648cc1fa6187b118c685819a4111a5d2/base/multidimensional.jl#L114\" target=\"_blank\">multidimensional.jl:114</a></li> <li> +(x::<b>T</b>, y::<b>Integer</b>)<i> where T<:AbstractChar</i> in Base at <a href=\"https://github.com/JuliaLang/julia/tree/3b76b25b648cc1fa6187b118c685819a4111a5d2/base/char.jl#L223\" target=\"_blank\">char.jl:223</a></li> <li> +(x::<b>X</b>, y::<b>X</b>)<i> where X<:FixedPointNumbers.FixedPoint</i> in FixedPointNumbers at <a href=\"file:///Users/sowonjeong/.julia/packages/FixedPointNumbers/HAGk2/src/FixedPointNumbers.jl\" target=\"_blank\">/Users/sowonjeong/.julia/packages/FixedPointNumbers/HAGk2/src/FixedPointNumbers.jl:237</a></li> <li> +(A::<b>SparseArrays.AbstractSparseMatrixCSC</b>, B::<b>SparseArrays.AbstractSparseMatrixCSC</b>) in SparseArrays at <a href=\"file:///Users/julia/buildbot/worker/package_macos64/build/usr/share/julia/stdlib/v1.6/SparseArrays/src/sparsematrix.jl\" target=\"_blank\">/Applications/Julia-1.6.app/Contents/Resources/julia/share/julia/stdlib/v1.6/SparseArrays/src/sparsematrix.jl:1741</a></li> <li> +(x::<b>SparseArrays.AbstractSparseVector{Tv, Ti} where {Tv, Ti}</b>, y::<b>SparseArrays.AbstractSparseVector{Tv, Ti} where {Tv, Ti}</b>) in SparseArrays at <a href=\"file:///Users/julia/buildbot/worker/package_macos64/build/usr/share/julia/stdlib/v1.6/SparseArrays/src/sparsevector.jl\" target=\"_blank\">/Applications/Julia-1.6.app/Contents/Resources/julia/share/julia/stdlib/v1.6/SparseArrays/src/sparsevector.jl:1345</a></li> <li> +(A::<b>SparseArrays.AbstractSparseMatrixCSC</b>, B::<b>Array</b>) in SparseArrays at <a href=\"file:///Users/julia/buildbot/worker/package_macos64/build/usr/share/julia/stdlib/v1.6/SparseArrays/src/sparsematrix.jl\" target=\"_blank\">/Applications/Julia-1.6.app/Contents/Resources/julia/share/julia/stdlib/v1.6/SparseArrays/src/sparsematrix.jl:1744</a></li> <li> +(A::<b>SparseArrays.AbstractSparseMatrixCSC</b>, J::<b>LinearAlgebra.UniformScaling</b>) in SparseArrays at <a href=\"file:///Users/julia/buildbot/worker/package_macos64/build/usr/share/julia/stdlib/v1.6/SparseArrays/src/sparsematrix.jl\" target=\"_blank\">/Applications/Julia-1.6.app/Contents/Resources/julia/share/julia/stdlib/v1.6/SparseArrays/src/sparsematrix.jl:3791</a></li> <li> +(r1::<b>StepRangeLen{T, R, S} where S</b>, r2::<b>StepRangeLen{T, R, S} where S</b>)<i> where {R<:Base.TwicePrecision, T}</i> in Base at <a href=\"https://github.com/JuliaLang/julia/tree/3b76b25b648cc1fa6187b118c685819a4111a5d2/base/twiceprecision.jl#L574\" target=\"_blank\">twiceprecision.jl:574</a></li> <li> +(r1::<b>StepRangeLen{T, S, S1} where S1</b>, r2::<b>StepRangeLen{T, S, S1} where S1</b>)<i> where {T, S}</i> in Base at <a href=\"https://github.com/JuliaLang/julia/tree/3b76b25b648cc1fa6187b118c685819a4111a5d2/base/range.jl#L1126\" target=\"_blank\">range.jl:1126</a></li> <li> +(r1::<b>OrdinalRange</b>, r2::<b>OrdinalRange</b>) in Base at <a href=\"https://github.com/JuliaLang/julia/tree/3b76b25b648cc1fa6187b118c685819a4111a5d2/base/range.jl#L1103\" target=\"_blank\">range.jl:1103</a></li> <li> +(r1::<b>Union{LinRange, OrdinalRange, StepRangeLen}</b>, r2::<b>Union{LinRange, OrdinalRange, StepRangeLen}</b>) in Base at <a href=\"https://github.com/JuliaLang/julia/tree/3b76b25b648cc1fa6187b118c685819a4111a5d2/base/range.jl#L1119\" target=\"_blank\">range.jl:1119</a></li> <li> +(x::<b>Base.TwicePrecision</b>, y::<b>Number</b>) in Base at <a href=\"https://github.com/JuliaLang/julia/tree/3b76b25b648cc1fa6187b118c685819a4111a5d2/base/twiceprecision.jl#L267\" target=\"_blank\">twiceprecision.jl:267</a></li> <li> +(x::<b>Base.TwicePrecision{T}</b>, y::<b>Base.TwicePrecision{T}</b>)<i> where T</i> in Base at <a href=\"https://github.com/JuliaLang/julia/tree/3b76b25b648cc1fa6187b118c685819a4111a5d2/base/twiceprecision.jl#L273\" target=\"_blank\">twiceprecision.jl:273</a></li> <li> +(x::<b>Base.TwicePrecision</b>, y::<b>Base.TwicePrecision</b>) in Base at <a href=\"https://github.com/JuliaLang/julia/tree/3b76b25b648cc1fa6187b118c685819a4111a5d2/base/twiceprecision.jl#L278\" target=\"_blank\">twiceprecision.jl:278</a></li> <li> +(z::<b>Complex</b>, w::<b>Complex</b>) in Base at <a href=\"https://github.com/JuliaLang/julia/tree/3b76b25b648cc1fa6187b118c685819a4111a5d2/base/complex.jl#L275\" target=\"_blank\">complex.jl:275</a></li> <li> +(A::<b>LinearAlgebra.Hermitian</b>, B::<b>LinearAlgebra.Hermitian</b>) in LinearAlgebra at <a href=\"file:///Users/julia/buildbot/worker/package_macos64/build/usr/share/julia/stdlib/v1.6/LinearAlgebra/src/symmetric.jl\" target=\"_blank\">/Applications/Julia-1.6.app/Contents/Resources/julia/share/julia/stdlib/v1.6/LinearAlgebra/src/symmetric.jl:469</a></li> <li> +(H::<b>LinearAlgebra.Hermitian</b>, D::<b>LinearAlgebra.Diagonal{var\"#s814\", V} where {var\"#s814\"<:Real, V<:AbstractVector{var\"#s814\"}}</b>) in LinearAlgebra at <a href=\"file:///Users/julia/buildbot/worker/package_macos64/build/usr/share/julia/stdlib/v1.6/LinearAlgebra/src/diagonal.jl\" target=\"_blank\">/Applications/Julia-1.6.app/Contents/Resources/julia/share/julia/stdlib/v1.6/LinearAlgebra/src/diagonal.jl:169</a></li> <li> +(A::<b>LinearAlgebra.Hermitian</b>, J::<b>LinearAlgebra.UniformScaling{var\"#s814\"} where var\"#s814\"<:Complex</b>) in LinearAlgebra at <a href=\"file:///Users/julia/buildbot/worker/package_macos64/build/usr/share/julia/stdlib/v1.6/LinearAlgebra/src/uniformscaling.jl\" target=\"_blank\">/Applications/Julia-1.6.app/Contents/Resources/julia/share/julia/stdlib/v1.6/LinearAlgebra/src/uniformscaling.jl:196</a></li> <li> +(A::<b>LinearAlgebra.Hermitian{var\"#s812\", var\"#s811\"} where {var\"#s812\", var\"#s811\"<:(SparseArrays.AbstractSparseMatrix{Tv, Ti} where {Tv, Ti})}</b>, B::<b>SparseArrays.AbstractSparseMatrix{Tv, Ti} where {Tv, Ti}</b>) in SparseArrays at <a href=\"file:///Users/julia/buildbot/worker/package_macos64/build/usr/share/julia/stdlib/v1.6/SparseArrays/src/linalg.jl\" target=\"_blank\">/Applications/Julia-1.6.app/Contents/Resources/julia/share/julia/stdlib/v1.6/SparseArrays/src/linalg.jl:15</a></li> <li> +(A::<b>LinearAlgebra.Hermitian</b>, B::<b>SparseArrays.AbstractSparseMatrix{Tv, Ti} where {Tv, Ti}</b>) in SparseArrays at <a href=\"file:///Users/julia/buildbot/worker/package_macos64/build/usr/share/julia/stdlib/v1.6/SparseArrays/src/linalg.jl\" target=\"_blank\">/Applications/Julia-1.6.app/Contents/Resources/julia/share/julia/stdlib/v1.6/SparseArrays/src/linalg.jl:18</a></li> <li> +(A::<b>LinearAlgebra.Hermitian{var\"#s802\", var\"#s801\"} where {var\"#s802\", var\"#s801\"<:(SparseArrays.AbstractSparseMatrix{Tv, Ti} where {Tv, Ti})}</b>, B::<b>LinearAlgebra.Symmetric{var\"#s800\", var\"#s799\"} where {var\"#s800\"<:Real, var\"#s799\"<:(SparseArrays.AbstractSparseMatrix{Tv, Ti} where {Tv, Ti})}</b>) in SparseArrays at <a href=\"file:///Users/julia/buildbot/worker/package_macos64/build/usr/share/julia/stdlib/v1.6/SparseArrays/src/linalg.jl\" target=\"_blank\">/Applications/Julia-1.6.app/Contents/Resources/julia/share/julia/stdlib/v1.6/SparseArrays/src/linalg.jl:26</a></li> <li> +(A::<b>LinearAlgebra.Hermitian</b>, B::<b>LinearAlgebra.Symmetric{var\"#s814\", S} where {var\"#s814\"<:Real, S<:(AbstractMatrix{var\"#s814\"} where var\"#s814\"<:var\"#s814\")}</b>) in LinearAlgebra at <a href=\"file:///Users/julia/buildbot/worker/package_macos64/build/usr/share/julia/stdlib/v1.6/LinearAlgebra/src/symmetric.jl\" target=\"_blank\">/Applications/Julia-1.6.app/Contents/Resources/julia/share/julia/stdlib/v1.6/LinearAlgebra/src/symmetric.jl:483</a></li> <li> +(A::<b>LinearAlgebra.Hermitian{var\"#s810\", var\"#s809\"} where {var\"#s810\", var\"#s809\"<:(SparseArrays.AbstractSparseMatrix{Tv, Ti} where {Tv, Ti})}</b>, B::<b>LinearAlgebra.Symmetric{var\"#s808\", var\"#s807\"} where {var\"#s808\", var\"#s807\"<:(SparseArrays.AbstractSparseMatrix{Tv, Ti} where {Tv, Ti})}</b>) in SparseArrays at <a href=\"file:///Users/julia/buildbot/worker/package_macos64/build/usr/share/julia/stdlib/v1.6/SparseArrays/src/linalg.jl\" target=\"_blank\">/Applications/Julia-1.6.app/Contents/Resources/julia/share/julia/stdlib/v1.6/SparseArrays/src/linalg.jl:24</a></li> <li> +(A::<b>LinearAlgebra.UnitUpperTriangular</b>, B::<b>LinearAlgebra.UpperTriangular</b>) in LinearAlgebra at <a href=\"file:///Users/julia/buildbot/worker/package_macos64/build/usr/share/julia/stdlib/v1.6/LinearAlgebra/src/triangular.jl\" target=\"_blank\">/Applications/Julia-1.6.app/Contents/Resources/julia/share/julia/stdlib/v1.6/LinearAlgebra/src/triangular.jl:652</a></li> <li> +(A::<b>LinearAlgebra.UnitUpperTriangular</b>, B::<b>LinearAlgebra.UnitUpperTriangular</b>) in LinearAlgebra at <a href=\"file:///Users/julia/buildbot/worker/package_macos64/build/usr/share/julia/stdlib/v1.6/LinearAlgebra/src/triangular.jl\" target=\"_blank\">/Applications/Julia-1.6.app/Contents/Resources/julia/share/julia/stdlib/v1.6/LinearAlgebra/src/triangular.jl:654</a></li> <li> +(A::<b>LinearAlgebra.AbstractTriangular</b>, B::<b>LinearAlgebra.AbstractTriangular</b>) in LinearAlgebra at <a href=\"file:///Users/julia/buildbot/worker/package_macos64/build/usr/share/julia/stdlib/v1.6/LinearAlgebra/src/triangular.jl\" target=\"_blank\">/Applications/Julia-1.6.app/Contents/Resources/julia/share/julia/stdlib/v1.6/LinearAlgebra/src/triangular.jl:656</a></li> <li> +(UL::<b>LinearAlgebra.UnitUpperTriangular</b>, J::<b>LinearAlgebra.UniformScaling</b>) in LinearAlgebra at <a href=\"file:///Users/julia/buildbot/worker/package_macos64/build/usr/share/julia/stdlib/v1.6/LinearAlgebra/src/uniformscaling.jl\" target=\"_blank\">/Applications/Julia-1.6.app/Contents/Resources/julia/share/julia/stdlib/v1.6/LinearAlgebra/src/uniformscaling.jl:182</a></li> <li> +(A::<b>LinearAlgebra.UnitUpperTriangular</b>, B::<b>LinearAlgebra.Bidiagonal</b>) in LinearAlgebra at <a href=\"file:///Users/julia/buildbot/worker/package_macos64/build/usr/share/julia/stdlib/v1.6/LinearAlgebra/src/special.jl\" target=\"_blank\">/Applications/Julia-1.6.app/Contents/Resources/julia/share/julia/stdlib/v1.6/LinearAlgebra/src/special.jl:86</a></li> <li> +(A::<b>LinearAlgebra.SymTridiagonal</b>, B::<b>LinearAlgebra.SymTridiagonal</b>) in LinearAlgebra at <a href=\"file:///Users/julia/buildbot/worker/package_macos64/build/usr/share/julia/stdlib/v1.6/LinearAlgebra/src/tridiag.jl\" target=\"_blank\">/Applications/Julia-1.6.app/Contents/Resources/julia/share/julia/stdlib/v1.6/LinearAlgebra/src/tridiag.jl:205</a></li> <li> +(A::<b>LinearAlgebra.SymTridiagonal</b>, B::<b>LinearAlgebra.Diagonal</b>) in LinearAlgebra at <a href=\"file:///Users/julia/buildbot/worker/package_macos64/build/usr/share/julia/stdlib/v1.6/LinearAlgebra/src/special.jl\" target=\"_blank\">/Applications/Julia-1.6.app/Contents/Resources/julia/share/julia/stdlib/v1.6/LinearAlgebra/src/special.jl:145</a></li> <li> +(A::<b>LinearAlgebra.SymTridiagonal</b>, B::<b>LinearAlgebra.Tridiagonal</b>) in LinearAlgebra at <a href=\"file:///Users/julia/buildbot/worker/package_macos64/build/usr/share/julia/stdlib/v1.6/LinearAlgebra/src/special.jl\" target=\"_blank\">/Applications/Julia-1.6.app/Contents/Resources/julia/share/julia/stdlib/v1.6/LinearAlgebra/src/special.jl:159</a></li> <li> +(A::<b>LinearAlgebra.SymTridiagonal</b>, B::<b>LinearAlgebra.Bidiagonal</b>) in LinearAlgebra at <a href=\"file:///Users/julia/buildbot/worker/package_macos64/build/usr/share/julia/stdlib/v1.6/LinearAlgebra/src/special.jl\" target=\"_blank\">/Applications/Julia-1.6.app/Contents/Resources/julia/share/julia/stdlib/v1.6/LinearAlgebra/src/special.jl:213</a></li> <li> +(A::<b>LinearAlgebra.SymTridiagonal{var\"#s814\", V} where {var\"#s814\"<:Number, V<:AbstractVector{var\"#s814\"}}</b>, B::<b>LinearAlgebra.UniformScaling</b>) in LinearAlgebra at <a href=\"file:///Users/julia/buildbot/worker/package_macos64/build/usr/share/julia/stdlib/v1.6/LinearAlgebra/src/special.jl\" target=\"_blank\">/Applications/Julia-1.6.app/Contents/Resources/julia/share/julia/stdlib/v1.6/LinearAlgebra/src/special.jl:231</a></li> <li> +(x::<b>AbstractArray{var\"#s814\", N} where {var\"#s814\"<:Dates.TimeType, N}</b>, y::<b>Union{Dates.CompoundPeriod, Dates.Period}</b>) in Dates at <a href=\"file:///Users/julia/buildbot/worker/package_macos64/build/usr/share/julia/stdlib/v1.6/Dates/src/deprecated.jl\" target=\"_blank\">/Applications/Julia-1.6.app/Contents/Resources/julia/share/julia/stdlib/v1.6/Dates/src/deprecated.jl:6</a></li> <li> +(Da::<b>LinearAlgebra.Diagonal</b>, Db::<b>LinearAlgebra.Diagonal</b>) in LinearAlgebra at <a href=\"file:///Users/julia/buildbot/worker/package_macos64/build/usr/share/julia/stdlib/v1.6/LinearAlgebra/src/diagonal.jl\" target=\"_blank\">/Applications/Julia-1.6.app/Contents/Resources/julia/share/julia/stdlib/v1.6/LinearAlgebra/src/diagonal.jl:156</a></li> <li> +(D::<b>LinearAlgebra.Diagonal</b>, S::<b>LinearAlgebra.Symmetric</b>) in LinearAlgebra at <a href=\"file:///Users/julia/buildbot/worker/package_macos64/build/usr/share/julia/stdlib/v1.6/LinearAlgebra/src/diagonal.jl\" target=\"_blank\">/Applications/Julia-1.6.app/Contents/Resources/julia/share/julia/stdlib/v1.6/LinearAlgebra/src/diagonal.jl:160</a></li> <li> +(D::<b>LinearAlgebra.Diagonal{var\"#s814\", V} where {var\"#s814\"<:Real, V<:AbstractVector{var\"#s814\"}}</b>, H::<b>LinearAlgebra.Hermitian</b>) in LinearAlgebra at <a href=\"file:///Users/julia/buildbot/worker/package_macos64/build/usr/share/julia/stdlib/v1.6/LinearAlgebra/src/diagonal.jl\" target=\"_blank\">/Applications/Julia-1.6.app/Contents/Resources/julia/share/julia/stdlib/v1.6/LinearAlgebra/src/diagonal.jl:166</a></li> <li> +(A::<b>LinearAlgebra.Diagonal</b>, B::<b>LinearAlgebra.Bidiagonal</b>) in LinearAlgebra at <a href=\"file:///Users/julia/buildbot/worker/package_macos64/build/usr/share/julia/stdlib/v1.6/LinearAlgebra/src/special.jl\" target=\"_blank\">/Applications/Julia-1.6.app/Contents/Resources/julia/share/julia/stdlib/v1.6/LinearAlgebra/src/special.jl:125</a></li> <li> +(A::<b>LinearAlgebra.Diagonal</b>, B::<b>LinearAlgebra.SymTridiagonal</b>) in LinearAlgebra at <a href=\"file:///Users/julia/buildbot/worker/package_macos64/build/usr/share/julia/stdlib/v1.6/LinearAlgebra/src/special.jl\" target=\"_blank\">/Applications/Julia-1.6.app/Contents/Resources/julia/share/julia/stdlib/v1.6/LinearAlgebra/src/special.jl:135</a></li> <li> +(A::<b>LinearAlgebra.Diagonal</b>, B::<b>LinearAlgebra.Tridiagonal</b>) in LinearAlgebra at <a href=\"file:///Users/julia/buildbot/worker/package_macos64/build/usr/share/julia/stdlib/v1.6/LinearAlgebra/src/special.jl\" target=\"_blank\">/Applications/Julia-1.6.app/Contents/Resources/julia/share/julia/stdlib/v1.6/LinearAlgebra/src/special.jl:163</a></li> <li> +(A::<b>LinearAlgebra.Diagonal{var\"#s814\", V} where {var\"#s814\"<:Number, V<:AbstractVector{var\"#s814\"}}</b>, B::<b>LinearAlgebra.UniformScaling</b>) in LinearAlgebra at <a href=\"file:///Users/julia/buildbot/worker/package_macos64/build/usr/share/julia/stdlib/v1.6/LinearAlgebra/src/special.jl\" target=\"_blank\">/Applications/Julia-1.6.app/Contents/Resources/julia/share/julia/stdlib/v1.6/LinearAlgebra/src/special.jl:241</a></li> <li> +(A::<b>LinearAlgebra.Symmetric</b>, B::<b>LinearAlgebra.Symmetric</b>) in LinearAlgebra at <a href=\"file:///Users/julia/buildbot/worker/package_macos64/build/usr/share/julia/stdlib/v1.6/LinearAlgebra/src/symmetric.jl\" target=\"_blank\">/Applications/Julia-1.6.app/Contents/Resources/julia/share/julia/stdlib/v1.6/LinearAlgebra/src/symmetric.jl:469</a></li> <li> +(S::<b>LinearAlgebra.Symmetric</b>, D::<b>LinearAlgebra.Diagonal</b>) in LinearAlgebra at <a href=\"file:///Users/julia/buildbot/worker/package_macos64/build/usr/share/julia/stdlib/v1.6/LinearAlgebra/src/diagonal.jl\" target=\"_blank\">/Applications/Julia-1.6.app/Contents/Resources/julia/share/julia/stdlib/v1.6/LinearAlgebra/src/diagonal.jl:163</a></li> <li> +(A::<b>LinearAlgebra.Symmetric{var\"#s812\", var\"#s811\"} where {var\"#s812\", var\"#s811\"<:(SparseArrays.AbstractSparseMatrix{Tv, Ti} where {Tv, Ti})}</b>, B::<b>SparseArrays.AbstractSparseMatrix{Tv, Ti} where {Tv, Ti}</b>) in SparseArrays at <a href=\"file:///Users/julia/buildbot/worker/package_macos64/build/usr/share/julia/stdlib/v1.6/SparseArrays/src/linalg.jl\" target=\"_blank\">/Applications/Julia-1.6.app/Contents/Resources/julia/share/julia/stdlib/v1.6/SparseArrays/src/linalg.jl:15</a></li> <li> +(A::<b>LinearAlgebra.Symmetric</b>, B::<b>SparseArrays.AbstractSparseMatrix{Tv, Ti} where {Tv, Ti}</b>) in SparseArrays at <a href=\"file:///Users/julia/buildbot/worker/package_macos64/build/usr/share/julia/stdlib/v1.6/SparseArrays/src/linalg.jl\" target=\"_blank\">/Applications/Julia-1.6.app/Contents/Resources/julia/share/julia/stdlib/v1.6/SparseArrays/src/linalg.jl:18</a></li> <li> +(A::<b>LinearAlgebra.Symmetric{var\"#s806\", var\"#s805\"} where {var\"#s806\"<:Real, var\"#s805\"<:(SparseArrays.AbstractSparseMatrix{Tv, Ti} where {Tv, Ti})}</b>, B::<b>LinearAlgebra.Hermitian{var\"#s804\", var\"#s803\"} where {var\"#s804\", var\"#s803\"<:(SparseArrays.AbstractSparseMatrix{Tv, Ti} where {Tv, Ti})}</b>) in SparseArrays at <a href=\"file:///Users/julia/buildbot/worker/package_macos64/build/usr/share/julia/stdlib/v1.6/SparseArrays/src/linalg.jl\" target=\"_blank\">/Applications/Julia-1.6.app/Contents/Resources/julia/share/julia/stdlib/v1.6/SparseArrays/src/linalg.jl:25</a></li> <li> +(A::<b>LinearAlgebra.Symmetric{var\"#s813\", S} where {var\"#s813\"<:Real, S<:(AbstractMatrix{var\"#s814\"} where var\"#s814\"<:var\"#s813\")}</b>, B::<b>LinearAlgebra.Hermitian</b>) in LinearAlgebra at <a href=\"file:///Users/julia/buildbot/worker/package_macos64/build/usr/share/julia/stdlib/v1.6/LinearAlgebra/src/symmetric.jl\" target=\"_blank\">/Applications/Julia-1.6.app/Contents/Resources/julia/share/julia/stdlib/v1.6/LinearAlgebra/src/symmetric.jl:484</a></li> <li> +(A::<b>LinearAlgebra.Symmetric{var\"#s814\", var\"#s813\"} where {var\"#s814\", var\"#s813\"<:(SparseArrays.AbstractSparseMatrix{Tv, Ti} where {Tv, Ti})}</b>, B::<b>LinearAlgebra.Hermitian{var\"#s812\", var\"#s811\"} where {var\"#s812\", var\"#s811\"<:(SparseArrays.AbstractSparseMatrix{Tv, Ti} where {Tv, Ti})}</b>) in SparseArrays at <a href=\"file:///Users/julia/buildbot/worker/package_macos64/build/usr/share/julia/stdlib/v1.6/SparseArrays/src/linalg.jl\" target=\"_blank\">/Applications/Julia-1.6.app/Contents/Resources/julia/share/julia/stdlib/v1.6/SparseArrays/src/linalg.jl:23</a></li> <li> +(A::<b>BitArray</b>, B::<b>BitArray</b>) in Base at <a href=\"https://github.com/JuliaLang/julia/tree/3b76b25b648cc1fa6187b118c685819a4111a5d2/base/bitarray.jl#L1127\" target=\"_blank\">bitarray.jl:1127</a></li> <li> +(A::<b>AbstractArray</b>, B::<b>AbstractArray</b>) in Base at <a href=\"https://github.com/JuliaLang/julia/tree/3b76b25b648cc1fa6187b118c685819a4111a5d2/base/arraymath.jl#L37\" target=\"_blank\">arraymath.jl:37</a></li> <li> +(F::<b>LinearAlgebra.Hessenberg</b>, J::<b>LinearAlgebra.UniformScaling</b>) in LinearAlgebra at <a href=\"file:///Users/julia/buildbot/worker/package_macos64/build/usr/share/julia/stdlib/v1.6/LinearAlgebra/src/hessenberg.jl\" target=\"_blank\">/Applications/Julia-1.6.app/Contents/Resources/julia/share/julia/stdlib/v1.6/LinearAlgebra/src/hessenberg.jl:559</a></li> <li> +(x::<b>Float64</b>, y::<b>Float64</b>) in Base at <a href=\"https://github.com/JuliaLang/julia/tree/3b76b25b648cc1fa6187b118c685819a4111a5d2/base/float.jl#L326\" target=\"_blank\">float.jl:326</a></li> <li> +(B::<b>BitMatrix</b>, J::<b>LinearAlgebra.UniformScaling</b>) in LinearAlgebra at <a href=\"file:///Users/julia/buildbot/worker/package_macos64/build/usr/share/julia/stdlib/v1.6/LinearAlgebra/src/uniformscaling.jl\" target=\"_blank\">/Applications/Julia-1.6.app/Contents/Resources/julia/share/julia/stdlib/v1.6/LinearAlgebra/src/uniformscaling.jl:152</a></li> <li> +(A::<b>AbstractMatrix{T} where T</b>, J::<b>LinearAlgebra.UniformScaling</b>) in LinearAlgebra at <a href=\"file:///Users/julia/buildbot/worker/package_macos64/build/usr/share/julia/stdlib/v1.6/LinearAlgebra/src/uniformscaling.jl\" target=\"_blank\">/Applications/Julia-1.6.app/Contents/Resources/julia/share/julia/stdlib/v1.6/LinearAlgebra/src/uniformscaling.jl:215</a></li> <li> +(x::<b>AbstractArray{var\"#s77\", N} where {var\"#s77\"<:Number, N}</b>) in Base at <a href=\"https://github.com/JuliaLang/julia/tree/3b76b25b648cc1fa6187b118c685819a4111a5d2/base/abstractarraymath.jl#L97\" target=\"_blank\">abstractarraymath.jl:97</a></li> <li> +(x::<b>Float16</b>, y::<b>Float16</b>) in Base at <a href=\"https://github.com/JuliaLang/julia/tree/3b76b25b648cc1fa6187b118c685819a4111a5d2/base/float.jl#L324\" target=\"_blank\">float.jl:324</a></li> <li> +(x::<b>Rational{BigInt}</b>, y::<b>Rational{BigInt}</b>) in Base.GMP.MPQ at <a href=\"https://github.com/JuliaLang/julia/tree/3b76b25b648cc1fa6187b118c685819a4111a5d2/base/gmp.jl#L889\" target=\"_blank\">gmp.jl:889</a></li> <li> +(x::<b>Rational</b>) in Base at <a href=\"https://github.com/JuliaLang/julia/tree/3b76b25b648cc1fa6187b118c685819a4111a5d2/base/rational.jl#L268\" target=\"_blank\">rational.jl:268</a></li> <li> +(x::<b>Rational</b>, y::<b>Rational</b>) in Base at <a href=\"https://github.com/JuliaLang/julia/tree/3b76b25b648cc1fa6187b118c685819a4111a5d2/base/rational.jl#L284\" target=\"_blank\">rational.jl:284</a></li> <li> +(::<b>Missing</b>) in Base at <a href=\"https://github.com/JuliaLang/julia/tree/3b76b25b648cc1fa6187b118c685819a4111a5d2/base/missing.jl#L101\" target=\"_blank\">missing.jl:101</a></li> <li> +(::<b>Missing</b>, ::<b>Missing</b>) in Base at <a href=\"https://github.com/JuliaLang/julia/tree/3b76b25b648cc1fa6187b118c685819a4111a5d2/base/missing.jl#L115\" target=\"_blank\">missing.jl:115</a></li> <li> +(::<b>Missing</b>, ::<b>Number</b>) in Base at <a href=\"https://github.com/JuliaLang/julia/tree/3b76b25b648cc1fa6187b118c685819a4111a5d2/base/missing.jl#L116\" target=\"_blank\">missing.jl:116</a></li> <li> +(x::<b>Missing</b>, y::<b>Dates.AbstractTime</b>) in Dates at <a href=\"file:///Users/julia/buildbot/worker/package_macos64/build/usr/share/julia/stdlib/v1.6/Dates/src/arithmetic.jl\" target=\"_blank\">/Applications/Julia-1.6.app/Contents/Resources/julia/share/julia/stdlib/v1.6/Dates/src/arithmetic.jl:89</a></li> <li> +(x::<b>Float32</b>, y::<b>Float32</b>) in Base at <a href=\"https://github.com/JuliaLang/julia/tree/3b76b25b648cc1fa6187b118c685819a4111a5d2/base/float.jl#L325\" target=\"_blank\">float.jl:325</a></li> <li> +(a::<b>Pkg.Resolve.VersionWeight</b>, b::<b>Pkg.Resolve.VersionWeight</b>) in Pkg.Resolve at <a href=\"file:///Users/julia/buildbot/worker/package_macos64/build/usr/share/julia/stdlib/v1.6/Pkg/src/Resolve/versionweights.jl\" target=\"_blank\">/Applications/Julia-1.6.app/Contents/Resources/julia/share/julia/stdlib/v1.6/Pkg/src/Resolve/versionweights.jl:22</a></li> <li> +(dt::<b>Dates.DateTime</b>, y::<b>Dates.Year</b>) in Dates at <a href=\"file:///Users/julia/buildbot/worker/package_macos64/build/usr/share/julia/stdlib/v1.6/Dates/src/arithmetic.jl\" target=\"_blank\">/Applications/Julia-1.6.app/Contents/Resources/julia/share/julia/stdlib/v1.6/Dates/src/arithmetic.jl:23</a></li> <li> +(dt::<b>Dates.DateTime</b>, z::<b>Dates.Month</b>) in Dates at <a href=\"file:///Users/julia/buildbot/worker/package_macos64/build/usr/share/julia/stdlib/v1.6/Dates/src/arithmetic.jl\" target=\"_blank\">/Applications/Julia-1.6.app/Contents/Resources/julia/share/julia/stdlib/v1.6/Dates/src/arithmetic.jl:47</a></li> <li> +(x::<b>Dates.DateTime</b>, y::<b>Dates.Quarter</b>) in Dates at <a href=\"file:///Users/julia/buildbot/worker/package_macos64/build/usr/share/julia/stdlib/v1.6/Dates/src/arithmetic.jl\" target=\"_blank\">/Applications/Julia-1.6.app/Contents/Resources/julia/share/julia/stdlib/v1.6/Dates/src/arithmetic.jl:75</a></li> <li> +(x::<b>Dates.DateTime</b>, y::<b>Dates.Period</b>) in Dates at <a href=\"file:///Users/julia/buildbot/worker/package_macos64/build/usr/share/julia/stdlib/v1.6/Dates/src/arithmetic.jl\" target=\"_blank\">/Applications/Julia-1.6.app/Contents/Resources/julia/share/julia/stdlib/v1.6/Dates/src/arithmetic.jl:81</a></li> <li> +(x::<b>BigInt</b>, y::<b>BigInt</b>) in Base.GMP at <a href=\"https://github.com/JuliaLang/julia/tree/3b76b25b648cc1fa6187b118c685819a4111a5d2/base/gmp.jl#L479\" target=\"_blank\">gmp.jl:479</a></li> <li> +(a::<b>BigInt</b>, b::<b>BigInt</b>, c::<b>BigInt</b>) in Base.GMP at <a href=\"https://github.com/JuliaLang/julia/tree/3b76b25b648cc1fa6187b118c685819a4111a5d2/base/gmp.jl#L519\" target=\"_blank\">gmp.jl:519</a></li> <li> +(a::<b>BigInt</b>, b::<b>BigInt</b>, c::<b>BigInt</b>, d::<b>BigInt</b>) in Base.GMP at <a href=\"https://github.com/JuliaLang/julia/tree/3b76b25b648cc1fa6187b118c685819a4111a5d2/base/gmp.jl#L520\" target=\"_blank\">gmp.jl:520</a></li> <li> +(a::<b>BigInt</b>, b::<b>BigInt</b>, c::<b>BigInt</b>, d::<b>BigInt</b>, e::<b>BigInt</b>) in Base.GMP at <a href=\"https://github.com/JuliaLang/julia/tree/3b76b25b648cc1fa6187b118c685819a4111a5d2/base/gmp.jl#L521\" target=\"_blank\">gmp.jl:521</a></li> <li> +(x::<b>BigInt</b>, c::<b>Union{UInt16, UInt32, UInt64, UInt8}</b>) in Base.GMP at <a href=\"https://github.com/JuliaLang/julia/tree/3b76b25b648cc1fa6187b118c685819a4111a5d2/base/gmp.jl#L527\" target=\"_blank\">gmp.jl:527</a></li> <li> +(x::<b>BigInt</b>, c::<b>Union{Int16, Int32, Int64, Int8}</b>) in Base.GMP at <a href=\"https://github.com/JuliaLang/julia/tree/3b76b25b648cc1fa6187b118c685819a4111a5d2/base/gmp.jl#L533\" target=\"_blank\">gmp.jl:533</a></li> <li> +(c::<b>BigInt</b>, x::<b>BigFloat</b>) in Base.MPFR at <a href=\"https://github.com/JuliaLang/julia/tree/3b76b25b648cc1fa6187b118c685819a4111a5d2/base/mpfr.jl#L407\" target=\"_blank\">mpfr.jl:407</a></li> <li> +(a::<b>Pkg.Resolve.FieldValue</b>, b::<b>Pkg.Resolve.FieldValue</b>) in Pkg.Resolve at <a href=\"file:///Users/julia/buildbot/worker/package_macos64/build/usr/share/julia/stdlib/v1.6/Pkg/src/Resolve/fieldvalues.jl\" target=\"_blank\">/Applications/Julia-1.6.app/Contents/Resources/julia/share/julia/stdlib/v1.6/Pkg/src/Resolve/fieldvalues.jl:43</a></li> <li> +(dt::<b>Dates.Date</b>, t::<b>Dates.Time</b>) in Dates at <a href=\"file:///Users/julia/buildbot/worker/package_macos64/build/usr/share/julia/stdlib/v1.6/Dates/src/arithmetic.jl\" target=\"_blank\">/Applications/Julia-1.6.app/Contents/Resources/julia/share/julia/stdlib/v1.6/Dates/src/arithmetic.jl:19</a></li> <li> +(dt::<b>Dates.Date</b>, y::<b>Dates.Year</b>) in Dates at <a href=\"file:///Users/julia/buildbot/worker/package_macos64/build/usr/share/julia/stdlib/v1.6/Dates/src/arithmetic.jl\" target=\"_blank\">/Applications/Julia-1.6.app/Contents/Resources/julia/share/julia/stdlib/v1.6/Dates/src/arithmetic.jl:27</a></li> <li> +(dt::<b>Dates.Date</b>, z::<b>Dates.Month</b>) in Dates at <a href=\"file:///Users/julia/buildbot/worker/package_macos64/build/usr/share/julia/stdlib/v1.6/Dates/src/arithmetic.jl\" target=\"_blank\">/Applications/Julia-1.6.app/Contents/Resources/julia/share/julia/stdlib/v1.6/Dates/src/arithmetic.jl:54</a></li> <li> +(x::<b>Dates.Date</b>, y::<b>Dates.Quarter</b>) in Dates at <a href=\"file:///Users/julia/buildbot/worker/package_macos64/build/usr/share/julia/stdlib/v1.6/Dates/src/arithmetic.jl\" target=\"_blank\">/Applications/Julia-1.6.app/Contents/Resources/julia/share/julia/stdlib/v1.6/Dates/src/arithmetic.jl:73</a></li> <li> +(x::<b>Dates.Date</b>, y::<b>Dates.Week</b>) in Dates at <a href=\"file:///Users/julia/buildbot/worker/package_macos64/build/usr/share/julia/stdlib/v1.6/Dates/src/arithmetic.jl\" target=\"_blank\">/Applications/Julia-1.6.app/Contents/Resources/julia/share/julia/stdlib/v1.6/Dates/src/arithmetic.jl:77</a></li> <li> +(x::<b>Dates.Date</b>, y::<b>Dates.Day</b>) in Dates at <a href=\"file:///Users/julia/buildbot/worker/package_macos64/build/usr/share/julia/stdlib/v1.6/Dates/src/arithmetic.jl\" target=\"_blank\">/Applications/Julia-1.6.app/Contents/Resources/julia/share/julia/stdlib/v1.6/Dates/src/arithmetic.jl:79</a></li> <li> +(x::<b>Dates.CompoundPeriod</b>, y::<b>Dates.Period</b>) in Dates at <a href=\"file:///Users/julia/buildbot/worker/package_macos64/build/usr/share/julia/stdlib/v1.6/Dates/src/periods.jl\" target=\"_blank\">/Applications/Julia-1.6.app/Contents/Resources/julia/share/julia/stdlib/v1.6/Dates/src/periods.jl:352</a></li> <li> +(x::<b>Dates.CompoundPeriod</b>, y::<b>Dates.CompoundPeriod</b>) in Dates at <a href=\"file:///Users/julia/buildbot/worker/package_macos64/build/usr/share/julia/stdlib/v1.6/Dates/src/periods.jl\" target=\"_blank\">/Applications/Julia-1.6.app/Contents/Resources/julia/share/julia/stdlib/v1.6/Dates/src/periods.jl:354</a></li> <li> +(x::<b>Dates.CompoundPeriod</b>, y::<b>Dates.TimeType</b>) in Dates at <a href=\"file:///Users/julia/buildbot/worker/package_macos64/build/usr/share/julia/stdlib/v1.6/Dates/src/periods.jl\" target=\"_blank\">/Applications/Julia-1.6.app/Contents/Resources/julia/share/julia/stdlib/v1.6/Dates/src/periods.jl:382</a></li> <li> +(level::<b>Base.CoreLogging.LogLevel</b>, inc::<b>Integer</b>) in Base.CoreLogging at <a href=\"https://github.com/JuliaLang/julia/tree/3b76b25b648cc1fa6187b118c685819a4111a5d2/base/logging.jl#L131\" target=\"_blank\">logging.jl:131</a></li> <li> +(t::<b>Dates.Time</b>, dt::<b>Dates.Date</b>) in Dates at <a href=\"file:///Users/julia/buildbot/worker/package_macos64/build/usr/share/julia/stdlib/v1.6/Dates/src/arithmetic.jl\" target=\"_blank\">/Applications/Julia-1.6.app/Contents/Resources/julia/share/julia/stdlib/v1.6/Dates/src/arithmetic.jl:20</a></li> <li> +(x::<b>Dates.Time</b>, y::<b>Dates.TimePeriod</b>) in Dates at <a href=\"file:///Users/julia/buildbot/worker/package_macos64/build/usr/share/julia/stdlib/v1.6/Dates/src/arithmetic.jl\" target=\"_blank\">/Applications/Julia-1.6.app/Contents/Resources/julia/share/julia/stdlib/v1.6/Dates/src/arithmetic.jl:83</a></li> <li> +(x::<b>Dates.TimeType</b>) in Dates at <a href=\"file:///Users/julia/buildbot/worker/package_macos64/build/usr/share/julia/stdlib/v1.6/Dates/src/arithmetic.jl\" target=\"_blank\">/Applications/Julia-1.6.app/Contents/Resources/julia/share/julia/stdlib/v1.6/Dates/src/arithmetic.jl:8</a></li> <li> +(x::<b>Dates.AbstractTime</b>, y::<b>Missing</b>) in Dates at <a href=\"file:///Users/julia/buildbot/worker/package_macos64/build/usr/share/julia/stdlib/v1.6/Dates/src/arithmetic.jl\" target=\"_blank\">/Applications/Julia-1.6.app/Contents/Resources/julia/share/julia/stdlib/v1.6/Dates/src/arithmetic.jl:88</a></li> <li> +(a::<b>Dates.TimeType</b>, b::<b>Dates.Period</b>, c::<b>Dates.Period</b>) in Dates at <a href=\"file:///Users/julia/buildbot/worker/package_macos64/build/usr/share/julia/stdlib/v1.6/Dates/src/periods.jl\" target=\"_blank\">/Applications/Julia-1.6.app/Contents/Resources/julia/share/julia/stdlib/v1.6/Dates/src/periods.jl:373</a></li> <li> +(a::<b>Dates.TimeType</b>, b::<b>Dates.Period</b>, c::<b>Dates.Period</b>, d::<b>Dates.Period...</b>) in Dates at <a href=\"file:///Users/julia/buildbot/worker/package_macos64/build/usr/share/julia/stdlib/v1.6/Dates/src/periods.jl\" target=\"_blank\">/Applications/Julia-1.6.app/Contents/Resources/julia/share/julia/stdlib/v1.6/Dates/src/periods.jl:374</a></li> <li> +(x::<b>Dates.TimeType</b>, y::<b>Dates.CompoundPeriod</b>) in Dates at <a href=\"file:///Users/julia/buildbot/worker/package_macos64/build/usr/share/julia/stdlib/v1.6/Dates/src/periods.jl\" target=\"_blank\">/Applications/Julia-1.6.app/Contents/Resources/julia/share/julia/stdlib/v1.6/Dates/src/periods.jl:376</a></li> <li> +(x::<b>Bool</b>) in Base at <a href=\"https://github.com/JuliaLang/julia/tree/3b76b25b648cc1fa6187b118c685819a4111a5d2/base/bool.jl#L89\" target=\"_blank\">bool.jl:89</a></li> <li> +(x::<b>Number</b>, y::<b>Base.TwicePrecision</b>) in Base at <a href=\"https://github.com/JuliaLang/julia/tree/3b76b25b648cc1fa6187b118c685819a4111a5d2/base/twiceprecision.jl#L271\" target=\"_blank\">twiceprecision.jl:271</a></li> <li> +(::<b>Number</b>, ::<b>Missing</b>) in Base at <a href=\"https://github.com/JuliaLang/julia/tree/3b76b25b648cc1fa6187b118c685819a4111a5d2/base/missing.jl#L117\" target=\"_blank\">missing.jl:117</a></li> <li> +(x::<b>Number</b>, J::<b>LinearAlgebra.UniformScaling</b>) in LinearAlgebra at <a href=\"file:///Users/julia/buildbot/worker/package_macos64/build/usr/share/julia/stdlib/v1.6/LinearAlgebra/src/uniformscaling.jl\" target=\"_blank\">/Applications/Julia-1.6.app/Contents/Resources/julia/share/julia/stdlib/v1.6/LinearAlgebra/src/uniformscaling.jl:146</a></li> <li> +(x::<b>Integer</b>, y::<b>Ptr</b>) in Base at <a href=\"https://github.com/JuliaLang/julia/tree/3b76b25b648cc1fa6187b118c685819a4111a5d2/base/pointer.jl#L161\" target=\"_blank\">pointer.jl:161</a></li> <li> +(y::<b>Integer</b>, x::<b>Rational</b>) in Base at <a href=\"https://github.com/JuliaLang/julia/tree/3b76b25b648cc1fa6187b118c685819a4111a5d2/base/rational.jl#L296\" target=\"_blank\">rational.jl:296</a></li> <li> +(x::<b>Integer</b>, y::<b>AbstractChar</b>) in Base at <a href=\"https://github.com/JuliaLang/julia/tree/3b76b25b648cc1fa6187b118c685819a4111a5d2/base/char.jl#L224\" target=\"_blank\">char.jl:224</a></li> <li> +(x::<b>Bool</b>, y::<b>Bool</b>) in Base at <a href=\"https://github.com/JuliaLang/julia/tree/3b76b25b648cc1fa6187b118c685819a4111a5d2/base/bool.jl#L92\" target=\"_blank\">bool.jl:92</a></li> <li> +(a::<b>Integer</b>, b::<b>Integer</b>) in Base at <a href=\"https://github.com/JuliaLang/julia/tree/3b76b25b648cc1fa6187b118c685819a4111a5d2/base/int.jl#L919\" target=\"_blank\">int.jl:919</a></li> <li> +(x::<b>Bool</b>, y::<b>T</b>)<i> where T<:AbstractFloat</i> in Base at <a href=\"https://github.com/JuliaLang/julia/tree/3b76b25b648cc1fa6187b118c685819a4111a5d2/base/bool.jl#L99\" target=\"_blank\">bool.jl:99</a></li> <li> +(x::<b>Bool</b>, z::<b>Complex{Bool}</b>) in Base at <a href=\"https://github.com/JuliaLang/julia/tree/3b76b25b648cc1fa6187b118c685819a4111a5d2/base/complex.jl#L286\" target=\"_blank\">complex.jl:286</a></li> <li> +(x::<b>Real</b>, z::<b>Complex{Bool}</b>) in Base at <a href=\"https://github.com/JuliaLang/julia/tree/3b76b25b648cc1fa6187b118c685819a4111a5d2/base/complex.jl#L300\" target=\"_blank\">complex.jl:300</a></li> <li> +(x::<b>Bool</b>, z::<b>Complex</b>) in Base at <a href=\"https://github.com/JuliaLang/julia/tree/3b76b25b648cc1fa6187b118c685819a4111a5d2/base/complex.jl#L293\" target=\"_blank\">complex.jl:293</a></li> <li> +(x::<b>Real</b>, z::<b>Complex</b>) in Base at <a href=\"https://github.com/JuliaLang/julia/tree/3b76b25b648cc1fa6187b118c685819a4111a5d2/base/complex.jl#L312\" target=\"_blank\">complex.jl:312</a></li> <li> +(x::<b>BigFloat</b>, y::<b>BigFloat</b>) in Base.MPFR at <a href=\"https://github.com/JuliaLang/julia/tree/3b76b25b648cc1fa6187b118c685819a4111a5d2/base/mpfr.jl#L371\" target=\"_blank\">mpfr.jl:371</a></li> <li> +(x::<b>BigFloat</b>, c::<b>Union{UInt16, UInt32, UInt64, UInt8}</b>) in Base.MPFR at <a href=\"https://github.com/JuliaLang/julia/tree/3b76b25b648cc1fa6187b118c685819a4111a5d2/base/mpfr.jl#L378\" target=\"_blank\">mpfr.jl:378</a></li> <li> +(x::<b>BigFloat</b>, c::<b>Union{Int16, Int32, Int64, Int8}</b>) in Base.MPFR at <a href=\"https://github.com/JuliaLang/julia/tree/3b76b25b648cc1fa6187b118c685819a4111a5d2/base/mpfr.jl#L386\" target=\"_blank\">mpfr.jl:386</a></li> <li> +(x::<b>BigFloat</b>, c::<b>Union{Float16, Float32, Float64}</b>) in Base.MPFR at <a href=\"https://github.com/JuliaLang/julia/tree/3b76b25b648cc1fa6187b118c685819a4111a5d2/base/mpfr.jl#L394\" target=\"_blank\">mpfr.jl:394</a></li> <li> +(x::<b>BigFloat</b>, c::<b>BigInt</b>) in Base.MPFR at <a href=\"https://github.com/JuliaLang/julia/tree/3b76b25b648cc1fa6187b118c685819a4111a5d2/base/mpfr.jl#L402\" target=\"_blank\">mpfr.jl:402</a></li> <li> +(a::<b>BigFloat</b>, b::<b>BigFloat</b>, c::<b>BigFloat</b>) in Base.MPFR at <a href=\"https://github.com/JuliaLang/julia/tree/3b76b25b648cc1fa6187b118c685819a4111a5d2/base/mpfr.jl#L543\" target=\"_blank\">mpfr.jl:543</a></li> <li> +(a::<b>BigFloat</b>, b::<b>BigFloat</b>, c::<b>BigFloat</b>, d::<b>BigFloat</b>) in Base.MPFR at <a href=\"https://github.com/JuliaLang/julia/tree/3b76b25b648cc1fa6187b118c685819a4111a5d2/base/mpfr.jl#L549\" target=\"_blank\">mpfr.jl:549</a></li> <li> +(a::<b>BigFloat</b>, b::<b>BigFloat</b>, c::<b>BigFloat</b>, d::<b>BigFloat</b>, e::<b>BigFloat</b>) in Base.MPFR at <a href=\"https://github.com/JuliaLang/julia/tree/3b76b25b648cc1fa6187b118c685819a4111a5d2/base/mpfr.jl#L556\" target=\"_blank\">mpfr.jl:556</a></li> <li> +(z::<b>Complex{Bool}</b>, x::<b>Bool</b>) in Base at <a href=\"https://github.com/JuliaLang/julia/tree/3b76b25b648cc1fa6187b118c685819a4111a5d2/base/complex.jl#L287\" target=\"_blank\">complex.jl:287</a></li> <li> +(z::<b>Complex</b>, x::<b>Bool</b>) in Base at <a href=\"https://github.com/JuliaLang/julia/tree/3b76b25b648cc1fa6187b118c685819a4111a5d2/base/complex.jl#L294\" target=\"_blank\">complex.jl:294</a></li> <li> +(z::<b>Complex{Bool}</b>, x::<b>Real</b>) in Base at <a href=\"https://github.com/JuliaLang/julia/tree/3b76b25b648cc1fa6187b118c685819a4111a5d2/base/complex.jl#L301\" target=\"_blank\">complex.jl:301</a></li> <li> +(z::<b>Complex</b>) in Base at <a href=\"https://github.com/JuliaLang/julia/tree/3b76b25b648cc1fa6187b118c685819a4111a5d2/base/complex.jl#L273\" target=\"_blank\">complex.jl:273</a></li> <li> +(z::<b>Complex</b>, x::<b>Real</b>) in Base at <a href=\"https://github.com/JuliaLang/julia/tree/3b76b25b648cc1fa6187b118c685819a4111a5d2/base/complex.jl#L313\" target=\"_blank\">complex.jl:313</a></li> <li> +(x::<b>Number</b>) in Base at <a href=\"https://github.com/JuliaLang/julia/tree/3b76b25b648cc1fa6187b118c685819a4111a5d2/base/operators.jl#L515\" target=\"_blank\">operators.jl:515</a></li> <li> +(x::<b>T</b>, y::<b>T</b>)<i> where T<:Number</i> in Base at <a href=\"https://github.com/JuliaLang/julia/tree/3b76b25b648cc1fa6187b118c685819a4111a5d2/base/promotion.jl#L396\" target=\"_blank\">promotion.jl:396</a></li> <li> +(x::<b>Number</b>, y::<b>Number</b>) in Base at <a href=\"https://github.com/JuliaLang/julia/tree/3b76b25b648cc1fa6187b118c685819a4111a5d2/base/promotion.jl#L321\" target=\"_blank\">promotion.jl:321</a></li> <li> +(a, b, c, xs...) in Base at <a href=\"https://github.com/JuliaLang/julia/tree/3b76b25b648cc1fa6187b118c685819a4111a5d2/base/operators.jl#L560\" target=\"_blank\">operators.jl:560</a></li> </ul>"
      ],
      "text/plain": [
       "# 192 methods for generic function \"+\":\n",
       "[1] +(x::T, y::T) where T<:Union{Int128, Int16, Int32, Int64, Int8, UInt128, UInt16, UInt32, UInt64, UInt8} in Base at int.jl:87\n",
       "[2] +(c::Union{UInt16, UInt32, UInt64, UInt8}, x::BigInt) in Base.GMP at gmp.jl:528\n",
       "[3] +(c::Union{Int16, Int32, Int64, Int8}, x::BigInt) in Base.GMP at gmp.jl:534\n",
       "[4] +(c::Union{UInt16, UInt32, UInt64, UInt8}, x::BigFloat) in Base.MPFR at mpfr.jl:383\n",
       "[5] +(c::Union{Int16, Int32, Int64, Int8}, x::BigFloat) in Base.MPFR at mpfr.jl:391\n",
       "[6] +(c::Union{Float16, Float32, Float64}, x::BigFloat) in Base.MPFR at mpfr.jl:399\n",
       "[7] +(x::Union{Dates.CompoundPeriod, Dates.Period}) in Dates at /Applications/Julia-1.6.app/Contents/Resources/julia/share/julia/stdlib/v1.6/Dates/src/periods.jl:362\n",
       "[8] +(a::Union{LMS, XYZ}, b::Union{LMS, XYZ}) in Colors at /Users/sowonjeong/.julia/packages/Colors/yDxFN/src/algorithms.jl:4\n",
       "[9] +(A::LinearAlgebra.UpperHessenberg, B::LinearAlgebra.UpperHessenberg) in LinearAlgebra at /Applications/Julia-1.6.app/Contents/Resources/julia/share/julia/stdlib/v1.6/LinearAlgebra/src/hessenberg.jl:101\n",
       "[10] +(H::LinearAlgebra.UpperHessenberg, J::LinearAlgebra.UniformScaling) in LinearAlgebra at /Applications/Julia-1.6.app/Contents/Resources/julia/share/julia/stdlib/v1.6/LinearAlgebra/src/hessenberg.jl:106\n",
       "[11] +(A::LinearAlgebra.UpperTriangular, B::LinearAlgebra.UpperTriangular) in LinearAlgebra at /Applications/Julia-1.6.app/Contents/Resources/julia/share/julia/stdlib/v1.6/LinearAlgebra/src/triangular.jl:648\n",
       "[12] +(A::LinearAlgebra.UpperTriangular, B::LinearAlgebra.UnitUpperTriangular) in LinearAlgebra at /Applications/Julia-1.6.app/Contents/Resources/julia/share/julia/stdlib/v1.6/LinearAlgebra/src/triangular.jl:650\n",
       "[13] +(A::LinearAlgebra.UpperTriangular, B::LinearAlgebra.Bidiagonal) in LinearAlgebra at /Applications/Julia-1.6.app/Contents/Resources/julia/share/julia/stdlib/v1.6/LinearAlgebra/src/special.jl:86\n",
       "[14] +(A::LinearAlgebra.Bidiagonal, B::LinearAlgebra.Bidiagonal) in LinearAlgebra at /Applications/Julia-1.6.app/Contents/Resources/julia/share/julia/stdlib/v1.6/LinearAlgebra/src/bidiag.jl:354\n",
       "[15] +(A::LinearAlgebra.Bidiagonal, B::LinearAlgebra.UpperTriangular) in LinearAlgebra at /Applications/Julia-1.6.app/Contents/Resources/julia/share/julia/stdlib/v1.6/LinearAlgebra/src/special.jl:94\n",
       "[16] +(A::LinearAlgebra.Bidiagonal, B::LinearAlgebra.UnitUpperTriangular) in LinearAlgebra at /Applications/Julia-1.6.app/Contents/Resources/julia/share/julia/stdlib/v1.6/LinearAlgebra/src/special.jl:94\n",
       "[17] +(A::LinearAlgebra.Bidiagonal, B::LinearAlgebra.LowerTriangular) in LinearAlgebra at /Applications/Julia-1.6.app/Contents/Resources/julia/share/julia/stdlib/v1.6/LinearAlgebra/src/special.jl:94\n",
       "[18] +(A::LinearAlgebra.Bidiagonal, B::LinearAlgebra.UnitLowerTriangular) in LinearAlgebra at /Applications/Julia-1.6.app/Contents/Resources/julia/share/julia/stdlib/v1.6/LinearAlgebra/src/special.jl:94\n",
       "[19] +(A::LinearAlgebra.Bidiagonal, B::LinearAlgebra.Diagonal) in LinearAlgebra at /Applications/Julia-1.6.app/Contents/Resources/julia/share/julia/stdlib/v1.6/LinearAlgebra/src/special.jl:115\n",
       "[20] +(A::LinearAlgebra.Bidiagonal, B::LinearAlgebra.Tridiagonal) in LinearAlgebra at /Applications/Julia-1.6.app/Contents/Resources/julia/share/julia/stdlib/v1.6/LinearAlgebra/src/special.jl:183\n",
       "[21] +(A::LinearAlgebra.Bidiagonal, B::LinearAlgebra.SymTridiagonal) in LinearAlgebra at /Applications/Julia-1.6.app/Contents/Resources/julia/share/julia/stdlib/v1.6/LinearAlgebra/src/special.jl:203\n",
       "[22] +(A::LinearAlgebra.Bidiagonal{var\"#s814\", V} where {var\"#s814\"<:Number, V<:AbstractVector{var\"#s814\"}}, B::LinearAlgebra.UniformScaling) in LinearAlgebra at /Applications/Julia-1.6.app/Contents/Resources/julia/share/julia/stdlib/v1.6/LinearAlgebra/src/special.jl:236\n",
       "[23] +(r1::LinRange{T}, r2::LinRange{T}) where T in Base at range.jl:1110\n",
       "[24] +(A::SparseArrays.AbstractSparseMatrix{Tv, Ti} where {Tv, Ti}, B::LinearAlgebra.Hermitian{var\"#s814\", var\"#s813\"} where {var\"#s814\", var\"#s813\"<:(SparseArrays.AbstractSparseMatrix{Tv, Ti} where {Tv, Ti})}) in SparseArrays at /Applications/Julia-1.6.app/Contents/Resources/julia/share/julia/stdlib/v1.6/SparseArrays/src/linalg.jl:14\n",
       "[25] +(A::SparseArrays.AbstractSparseMatrix{Tv, Ti} where {Tv, Ti}, B::LinearAlgebra.Hermitian) in SparseArrays at /Applications/Julia-1.6.app/Contents/Resources/julia/share/julia/stdlib/v1.6/SparseArrays/src/linalg.jl:17\n",
       "[26] +(A::SparseArrays.AbstractSparseMatrix{Tv, Ti} where {Tv, Ti}, B::LinearAlgebra.Symmetric{var\"#s814\", var\"#s813\"} where {var\"#s814\", var\"#s813\"<:(SparseArrays.AbstractSparseMatrix{Tv, Ti} where {Tv, Ti})}) in SparseArrays at /Applications/Julia-1.6.app/Contents/Resources/julia/share/julia/stdlib/v1.6/SparseArrays/src/linalg.jl:14\n",
       "[27] +(A::SparseArrays.AbstractSparseMatrix{Tv, Ti} where {Tv, Ti}, B::LinearAlgebra.Symmetric) in SparseArrays at /Applications/Julia-1.6.app/Contents/Resources/julia/share/julia/stdlib/v1.6/SparseArrays/src/linalg.jl:17\n",
       "[28] +(J::LinearAlgebra.UniformScaling) in LinearAlgebra at /Applications/Julia-1.6.app/Contents/Resources/julia/share/julia/stdlib/v1.6/LinearAlgebra/src/uniformscaling.jl:150\n",
       "[29] +(J::LinearAlgebra.UniformScaling, x::Number) in LinearAlgebra at /Applications/Julia-1.6.app/Contents/Resources/julia/share/julia/stdlib/v1.6/LinearAlgebra/src/uniformscaling.jl:145\n",
       "[30] +(J1::LinearAlgebra.UniformScaling, J2::LinearAlgebra.UniformScaling) in LinearAlgebra at /Applications/Julia-1.6.app/Contents/Resources/julia/share/julia/stdlib/v1.6/LinearAlgebra/src/uniformscaling.jl:151\n",
       "[31] +(J::LinearAlgebra.UniformScaling, B::BitMatrix) in LinearAlgebra at /Applications/Julia-1.6.app/Contents/Resources/julia/share/julia/stdlib/v1.6/LinearAlgebra/src/uniformscaling.jl:153\n",
       "[32] +(J::LinearAlgebra.UniformScaling, F::LinearAlgebra.Hessenberg) in LinearAlgebra at /Applications/Julia-1.6.app/Contents/Resources/julia/share/julia/stdlib/v1.6/LinearAlgebra/src/hessenberg.jl:560\n",
       "[33] +(A::LinearAlgebra.UniformScaling, B::LinearAlgebra.Tridiagonal{var\"#s814\", V} where {var\"#s814\"<:Number, V<:AbstractVector{var\"#s814\"}}) in LinearAlgebra at /Applications/Julia-1.6.app/Contents/Resources/julia/share/julia/stdlib/v1.6/LinearAlgebra/src/special.jl:245\n",
       "[34] +(A::LinearAlgebra.UniformScaling, B::LinearAlgebra.SymTridiagonal{var\"#s814\", V} where {var\"#s814\"<:Number, V<:AbstractVector{var\"#s814\"}}) in LinearAlgebra at /Applications/Julia-1.6.app/Contents/Resources/julia/share/julia/stdlib/v1.6/LinearAlgebra/src/special.jl:250\n",
       "[35] +(A::LinearAlgebra.UniformScaling, B::LinearAlgebra.Bidiagonal{var\"#s814\", V} where {var\"#s814\"<:Number, V<:AbstractVector{var\"#s814\"}}) in LinearAlgebra at /Applications/Julia-1.6.app/Contents/Resources/julia/share/julia/stdlib/v1.6/LinearAlgebra/src/special.jl:255\n",
       "[36] +(A::LinearAlgebra.UniformScaling, B::LinearAlgebra.Diagonal{var\"#s814\", V} where {var\"#s814\"<:Number, V<:AbstractVector{var\"#s814\"}}) in LinearAlgebra at /Applications/Julia-1.6.app/Contents/Resources/julia/share/julia/stdlib/v1.6/LinearAlgebra/src/special.jl:260\n",
       "[37] +(J::LinearAlgebra.UniformScaling, A::AbstractMatrix{T} where T) in LinearAlgebra at /Applications/Julia-1.6.app/Contents/Resources/julia/share/julia/stdlib/v1.6/LinearAlgebra/src/uniformscaling.jl:154\n",
       "[38] +(y::Dates.TimeType, x::StridedArray{var\"#s814\", N} where {var\"#s814\"<:Union{Dates.CompoundPeriod, Dates.Period}, N}) in Dates at /Applications/Julia-1.6.app/Contents/Resources/julia/share/julia/stdlib/v1.6/Dates/src/deprecated.jl:18\n",
       "[39] +(x::Dates.Instant) in Dates at /Applications/Julia-1.6.app/Contents/Resources/julia/share/julia/stdlib/v1.6/Dates/src/arithmetic.jl:4\n",
       "[40] +(r::AbstractRange{var\"#s814\"} where var\"#s814\"<:Dates.TimeType, x::Dates.Period) in Dates at /Applications/Julia-1.6.app/Contents/Resources/julia/share/julia/stdlib/v1.6/Dates/src/ranges.jl:63\n",
       "[41] +(y::AbstractFloat, x::Bool) in Base at bool.jl:102\n",
       "[42] +(x::Rational, y::Integer) in Base at rational.jl:289\n",
       "[43] +(A::Array, Bs::Array...) in Base at arraymath.jl:43\n",
       "[44] +(X::StridedArray{var\"#s814\", N} where {var\"#s814\"<:Union{Dates.CompoundPeriod, Dates.Period}, N}, Y::StridedArray{var\"#s813\", N} where {var\"#s813\"<:Union{Dates.CompoundPeriod, Dates.Period}, N}) in Dates at /Applications/Julia-1.6.app/Contents/Resources/julia/share/julia/stdlib/v1.6/Dates/src/deprecated.jl:62\n",
       "[45] +(A::Array, B::SparseArrays.AbstractSparseMatrixCSC) in SparseArrays at /Applications/Julia-1.6.app/Contents/Resources/julia/share/julia/stdlib/v1.6/SparseArrays/src/sparsematrix.jl:1745\n",
       "[46] +(x::StridedArray{var\"#s814\", N} where {var\"#s814\"<:Union{Dates.CompoundPeriod, Dates.Period}, N}) in Dates at /Applications/Julia-1.6.app/Contents/Resources/julia/share/julia/stdlib/v1.6/Dates/src/deprecated.jl:55\n",
       "[47] +(x::StridedArray{var\"#s814\", N} where {var\"#s814\"<:Union{Dates.CompoundPeriod, Dates.Period}, N}, y::Dates.TimeType) in Dates at /Applications/Julia-1.6.app/Contents/Resources/julia/share/julia/stdlib/v1.6/Dates/src/deprecated.jl:10\n",
       "[48] +(x::AbstractIrrational, y::AbstractIrrational) in Base at irrationals.jl:156\n",
       "[49] +(A::LinearAlgebra.Tridiagonal, B::LinearAlgebra.Tridiagonal) in LinearAlgebra at /Applications/Julia-1.6.app/Contents/Resources/julia/share/julia/stdlib/v1.6/LinearAlgebra/src/tridiag.jl:733\n",
       "[50] +(A::LinearAlgebra.Tridiagonal, B::LinearAlgebra.SymTridiagonal) in LinearAlgebra at /Applications/Julia-1.6.app/Contents/Resources/julia/share/julia/stdlib/v1.6/LinearAlgebra/src/special.jl:157\n",
       "[51] +(A::LinearAlgebra.Tridiagonal, B::LinearAlgebra.Diagonal) in LinearAlgebra at /Applications/Julia-1.6.app/Contents/Resources/julia/share/julia/stdlib/v1.6/LinearAlgebra/src/special.jl:173\n",
       "[52] +(A::LinearAlgebra.Tridiagonal, B::LinearAlgebra.Bidiagonal) in LinearAlgebra at /Applications/Julia-1.6.app/Contents/Resources/julia/share/julia/stdlib/v1.6/LinearAlgebra/src/special.jl:193\n",
       "[53] +(A::LinearAlgebra.Tridiagonal{var\"#s814\", V} where {var\"#s814\"<:Number, V<:AbstractVector{var\"#s814\"}}, B::LinearAlgebra.UniformScaling) in LinearAlgebra at /Applications/Julia-1.6.app/Contents/Resources/julia/share/julia/stdlib/v1.6/LinearAlgebra/src/special.jl:226\n",
       "[54] +(A::LinearAlgebra.UnitLowerTriangular, B::LinearAlgebra.LowerTriangular) in LinearAlgebra at /Applications/Julia-1.6.app/Contents/Resources/julia/share/julia/stdlib/v1.6/LinearAlgebra/src/triangular.jl:653\n",
       "[55] +(A::LinearAlgebra.UnitLowerTriangular, B::LinearAlgebra.UnitLowerTriangular) in LinearAlgebra at /Applications/Julia-1.6.app/Contents/Resources/julia/share/julia/stdlib/v1.6/LinearAlgebra/src/triangular.jl:655\n",
       "[56] +(UL::LinearAlgebra.UnitLowerTriangular, J::LinearAlgebra.UniformScaling) in LinearAlgebra at /Applications/Julia-1.6.app/Contents/Resources/julia/share/julia/stdlib/v1.6/LinearAlgebra/src/uniformscaling.jl:182\n",
       "[57] +(A::LinearAlgebra.UnitLowerTriangular, B::LinearAlgebra.Bidiagonal) in LinearAlgebra at /Applications/Julia-1.6.app/Contents/Resources/julia/share/julia/stdlib/v1.6/LinearAlgebra/src/special.jl:86\n",
       "[58] +(A::LinearAlgebra.LowerTriangular, B::LinearAlgebra.LowerTriangular) in LinearAlgebra at /Applications/Julia-1.6.app/Contents/Resources/julia/share/julia/stdlib/v1.6/LinearAlgebra/src/triangular.jl:649\n",
       "[59] +(A::LinearAlgebra.LowerTriangular, B::LinearAlgebra.UnitLowerTriangular) in LinearAlgebra at /Applications/Julia-1.6.app/Contents/Resources/julia/share/julia/stdlib/v1.6/LinearAlgebra/src/triangular.jl:651\n",
       "[60] +(A::LinearAlgebra.LowerTriangular, B::LinearAlgebra.Bidiagonal) in LinearAlgebra at /Applications/Julia-1.6.app/Contents/Resources/julia/share/julia/stdlib/v1.6/LinearAlgebra/src/special.jl:86\n",
       "[61] +(x::Ptr, y::Integer) in Base at pointer.jl:159\n",
       "[62] +(x::P, y::P) where P<:Dates.Period in Dates at /Applications/Julia-1.6.app/Contents/Resources/julia/share/julia/stdlib/v1.6/Dates/src/periods.jl:79\n",
       "[63] +(x::Dates.Period, y::Dates.Period) in Dates at /Applications/Julia-1.6.app/Contents/Resources/julia/share/julia/stdlib/v1.6/Dates/src/periods.jl:351\n",
       "[64] +(y::Dates.Period, x::Dates.CompoundPeriod) in Dates at /Applications/Julia-1.6.app/Contents/Resources/julia/share/julia/stdlib/v1.6/Dates/src/periods.jl:353\n",
       "[65] +(y::Dates.Period, x::Dates.TimeType) in Dates at /Applications/Julia-1.6.app/Contents/Resources/julia/share/julia/stdlib/v1.6/Dates/src/arithmetic.jl:85\n",
       "[66] +(x::Dates.Period, r::AbstractRange{var\"#s814\"} where var\"#s814\"<:Dates.TimeType) in Dates at /Applications/Julia-1.6.app/Contents/Resources/julia/share/julia/stdlib/v1.6/Dates/src/ranges.jl:62\n",
       "[67] +(y::Union{Dates.CompoundPeriod, Dates.Period}, x::AbstractArray{var\"#s814\", N} where {var\"#s814\"<:Dates.TimeType, N}) in Dates at /Applications/Julia-1.6.app/Contents/Resources/julia/share/julia/stdlib/v1.6/Dates/src/deprecated.jl:14\n",
       "[68] +(index1::CartesianIndex{N}, index2::CartesianIndex{N}) where N in Base.IteratorsMD at multidimensional.jl:114\n",
       "[69] +(x::T, y::Integer) where T<:AbstractChar in Base at char.jl:223\n",
       "[70] +(x::X, y::X) where X<:FixedPointNumbers.FixedPoint in FixedPointNumbers at /Users/sowonjeong/.julia/packages/FixedPointNumbers/HAGk2/src/FixedPointNumbers.jl:237\n",
       "[71] +(A::SparseArrays.AbstractSparseMatrixCSC, B::SparseArrays.AbstractSparseMatrixCSC) in SparseArrays at /Applications/Julia-1.6.app/Contents/Resources/julia/share/julia/stdlib/v1.6/SparseArrays/src/sparsematrix.jl:1741\n",
       "[72] +(x::SparseArrays.AbstractSparseVector{Tv, Ti} where {Tv, Ti}, y::SparseArrays.AbstractSparseVector{Tv, Ti} where {Tv, Ti}) in SparseArrays at /Applications/Julia-1.6.app/Contents/Resources/julia/share/julia/stdlib/v1.6/SparseArrays/src/sparsevector.jl:1345\n",
       "[73] +(A::SparseArrays.AbstractSparseMatrixCSC, B::Array) in SparseArrays at /Applications/Julia-1.6.app/Contents/Resources/julia/share/julia/stdlib/v1.6/SparseArrays/src/sparsematrix.jl:1744\n",
       "[74] +(A::SparseArrays.AbstractSparseMatrixCSC, J::LinearAlgebra.UniformScaling) in SparseArrays at /Applications/Julia-1.6.app/Contents/Resources/julia/share/julia/stdlib/v1.6/SparseArrays/src/sparsematrix.jl:3791\n",
       "[75] +(r1::StepRangeLen{T, R, S} where S, r2::StepRangeLen{T, R, S} where S) where {R<:Base.TwicePrecision, T} in Base at twiceprecision.jl:574\n",
       "[76] +(r1::StepRangeLen{T, S, S1} where S1, r2::StepRangeLen{T, S, S1} where S1) where {T, S} in Base at range.jl:1126\n",
       "[77] +(r1::OrdinalRange, r2::OrdinalRange) in Base at range.jl:1103\n",
       "[78] +(r1::Union{LinRange, OrdinalRange, StepRangeLen}, r2::Union{LinRange, OrdinalRange, StepRangeLen}) in Base at range.jl:1119\n",
       "[79] +(x::Base.TwicePrecision, y::Number) in Base at twiceprecision.jl:267\n",
       "[80] +(x::Base.TwicePrecision{T}, y::Base.TwicePrecision{T}) where T in Base at twiceprecision.jl:273\n",
       "[81] +(x::Base.TwicePrecision, y::Base.TwicePrecision) in Base at twiceprecision.jl:278\n",
       "[82] +(z::Complex, w::Complex) in Base at complex.jl:275\n",
       "[83] +(A::LinearAlgebra.Hermitian, B::LinearAlgebra.Hermitian) in LinearAlgebra at /Applications/Julia-1.6.app/Contents/Resources/julia/share/julia/stdlib/v1.6/LinearAlgebra/src/symmetric.jl:469\n",
       "[84] +(H::LinearAlgebra.Hermitian, D::LinearAlgebra.Diagonal{var\"#s814\", V} where {var\"#s814\"<:Real, V<:AbstractVector{var\"#s814\"}}) in LinearAlgebra at /Applications/Julia-1.6.app/Contents/Resources/julia/share/julia/stdlib/v1.6/LinearAlgebra/src/diagonal.jl:169\n",
       "[85] +(A::LinearAlgebra.Hermitian, J::LinearAlgebra.UniformScaling{var\"#s814\"} where var\"#s814\"<:Complex) in LinearAlgebra at /Applications/Julia-1.6.app/Contents/Resources/julia/share/julia/stdlib/v1.6/LinearAlgebra/src/uniformscaling.jl:196\n",
       "[86] +(A::LinearAlgebra.Hermitian{var\"#s812\", var\"#s811\"} where {var\"#s812\", var\"#s811\"<:(SparseArrays.AbstractSparseMatrix{Tv, Ti} where {Tv, Ti})}, B::SparseArrays.AbstractSparseMatrix{Tv, Ti} where {Tv, Ti}) in SparseArrays at /Applications/Julia-1.6.app/Contents/Resources/julia/share/julia/stdlib/v1.6/SparseArrays/src/linalg.jl:15\n",
       "[87] +(A::LinearAlgebra.Hermitian, B::SparseArrays.AbstractSparseMatrix{Tv, Ti} where {Tv, Ti}) in SparseArrays at /Applications/Julia-1.6.app/Contents/Resources/julia/share/julia/stdlib/v1.6/SparseArrays/src/linalg.jl:18\n",
       "[88] +(A::LinearAlgebra.Hermitian{var\"#s802\", var\"#s801\"} where {var\"#s802\", var\"#s801\"<:(SparseArrays.AbstractSparseMatrix{Tv, Ti} where {Tv, Ti})}, B::LinearAlgebra.Symmetric{var\"#s800\", var\"#s799\"} where {var\"#s800\"<:Real, var\"#s799\"<:(SparseArrays.AbstractSparseMatrix{Tv, Ti} where {Tv, Ti})}) in SparseArrays at /Applications/Julia-1.6.app/Contents/Resources/julia/share/julia/stdlib/v1.6/SparseArrays/src/linalg.jl:26\n",
       "[89] +(A::LinearAlgebra.Hermitian, B::LinearAlgebra.Symmetric{var\"#s814\", S} where {var\"#s814\"<:Real, S<:(AbstractMatrix{var\"#s814\"} where var\"#s814\"<:var\"#s814\")}) in LinearAlgebra at /Applications/Julia-1.6.app/Contents/Resources/julia/share/julia/stdlib/v1.6/LinearAlgebra/src/symmetric.jl:483\n",
       "[90] +(A::LinearAlgebra.Hermitian{var\"#s810\", var\"#s809\"} where {var\"#s810\", var\"#s809\"<:(SparseArrays.AbstractSparseMatrix{Tv, Ti} where {Tv, Ti})}, B::LinearAlgebra.Symmetric{var\"#s808\", var\"#s807\"} where {var\"#s808\", var\"#s807\"<:(SparseArrays.AbstractSparseMatrix{Tv, Ti} where {Tv, Ti})}) in SparseArrays at /Applications/Julia-1.6.app/Contents/Resources/julia/share/julia/stdlib/v1.6/SparseArrays/src/linalg.jl:24\n",
       "[91] +(A::LinearAlgebra.UnitUpperTriangular, B::LinearAlgebra.UpperTriangular) in LinearAlgebra at /Applications/Julia-1.6.app/Contents/Resources/julia/share/julia/stdlib/v1.6/LinearAlgebra/src/triangular.jl:652\n",
       "[92] +(A::LinearAlgebra.UnitUpperTriangular, B::LinearAlgebra.UnitUpperTriangular) in LinearAlgebra at /Applications/Julia-1.6.app/Contents/Resources/julia/share/julia/stdlib/v1.6/LinearAlgebra/src/triangular.jl:654\n",
       "[93] +(A::LinearAlgebra.AbstractTriangular, B::LinearAlgebra.AbstractTriangular) in LinearAlgebra at /Applications/Julia-1.6.app/Contents/Resources/julia/share/julia/stdlib/v1.6/LinearAlgebra/src/triangular.jl:656\n",
       "[94] +(UL::LinearAlgebra.UnitUpperTriangular, J::LinearAlgebra.UniformScaling) in LinearAlgebra at /Applications/Julia-1.6.app/Contents/Resources/julia/share/julia/stdlib/v1.6/LinearAlgebra/src/uniformscaling.jl:182\n",
       "[95] +(A::LinearAlgebra.UnitUpperTriangular, B::LinearAlgebra.Bidiagonal) in LinearAlgebra at /Applications/Julia-1.6.app/Contents/Resources/julia/share/julia/stdlib/v1.6/LinearAlgebra/src/special.jl:86\n",
       "[96] +(A::LinearAlgebra.SymTridiagonal, B::LinearAlgebra.SymTridiagonal) in LinearAlgebra at /Applications/Julia-1.6.app/Contents/Resources/julia/share/julia/stdlib/v1.6/LinearAlgebra/src/tridiag.jl:205\n",
       "[97] +(A::LinearAlgebra.SymTridiagonal, B::LinearAlgebra.Diagonal) in LinearAlgebra at /Applications/Julia-1.6.app/Contents/Resources/julia/share/julia/stdlib/v1.6/LinearAlgebra/src/special.jl:145\n",
       "[98] +(A::LinearAlgebra.SymTridiagonal, B::LinearAlgebra.Tridiagonal) in LinearAlgebra at /Applications/Julia-1.6.app/Contents/Resources/julia/share/julia/stdlib/v1.6/LinearAlgebra/src/special.jl:159\n",
       "[99] +(A::LinearAlgebra.SymTridiagonal, B::LinearAlgebra.Bidiagonal) in LinearAlgebra at /Applications/Julia-1.6.app/Contents/Resources/julia/share/julia/stdlib/v1.6/LinearAlgebra/src/special.jl:213\n",
       "[100] +(A::LinearAlgebra.SymTridiagonal{var\"#s814\", V} where {var\"#s814\"<:Number, V<:AbstractVector{var\"#s814\"}}, B::LinearAlgebra.UniformScaling) in LinearAlgebra at /Applications/Julia-1.6.app/Contents/Resources/julia/share/julia/stdlib/v1.6/LinearAlgebra/src/special.jl:231\n",
       "[101] +(x::AbstractArray{var\"#s814\", N} where {var\"#s814\"<:Dates.TimeType, N}, y::Union{Dates.CompoundPeriod, Dates.Period}) in Dates at /Applications/Julia-1.6.app/Contents/Resources/julia/share/julia/stdlib/v1.6/Dates/src/deprecated.jl:6\n",
       "[102] +(Da::LinearAlgebra.Diagonal, Db::LinearAlgebra.Diagonal) in LinearAlgebra at /Applications/Julia-1.6.app/Contents/Resources/julia/share/julia/stdlib/v1.6/LinearAlgebra/src/diagonal.jl:156\n",
       "[103] +(D::LinearAlgebra.Diagonal, S::LinearAlgebra.Symmetric) in LinearAlgebra at /Applications/Julia-1.6.app/Contents/Resources/julia/share/julia/stdlib/v1.6/LinearAlgebra/src/diagonal.jl:160\n",
       "[104] +(D::LinearAlgebra.Diagonal{var\"#s814\", V} where {var\"#s814\"<:Real, V<:AbstractVector{var\"#s814\"}}, H::LinearAlgebra.Hermitian) in LinearAlgebra at /Applications/Julia-1.6.app/Contents/Resources/julia/share/julia/stdlib/v1.6/LinearAlgebra/src/diagonal.jl:166\n",
       "[105] +(A::LinearAlgebra.Diagonal, B::LinearAlgebra.Bidiagonal) in LinearAlgebra at /Applications/Julia-1.6.app/Contents/Resources/julia/share/julia/stdlib/v1.6/LinearAlgebra/src/special.jl:125\n",
       "[106] +(A::LinearAlgebra.Diagonal, B::LinearAlgebra.SymTridiagonal) in LinearAlgebra at /Applications/Julia-1.6.app/Contents/Resources/julia/share/julia/stdlib/v1.6/LinearAlgebra/src/special.jl:135\n",
       "[107] +(A::LinearAlgebra.Diagonal, B::LinearAlgebra.Tridiagonal) in LinearAlgebra at /Applications/Julia-1.6.app/Contents/Resources/julia/share/julia/stdlib/v1.6/LinearAlgebra/src/special.jl:163\n",
       "[108] +(A::LinearAlgebra.Diagonal{var\"#s814\", V} where {var\"#s814\"<:Number, V<:AbstractVector{var\"#s814\"}}, B::LinearAlgebra.UniformScaling) in LinearAlgebra at /Applications/Julia-1.6.app/Contents/Resources/julia/share/julia/stdlib/v1.6/LinearAlgebra/src/special.jl:241\n",
       "[109] +(A::LinearAlgebra.Symmetric, B::LinearAlgebra.Symmetric) in LinearAlgebra at /Applications/Julia-1.6.app/Contents/Resources/julia/share/julia/stdlib/v1.6/LinearAlgebra/src/symmetric.jl:469\n",
       "[110] +(S::LinearAlgebra.Symmetric, D::LinearAlgebra.Diagonal) in LinearAlgebra at /Applications/Julia-1.6.app/Contents/Resources/julia/share/julia/stdlib/v1.6/LinearAlgebra/src/diagonal.jl:163\n",
       "[111] +(A::LinearAlgebra.Symmetric{var\"#s812\", var\"#s811\"} where {var\"#s812\", var\"#s811\"<:(SparseArrays.AbstractSparseMatrix{Tv, Ti} where {Tv, Ti})}, B::SparseArrays.AbstractSparseMatrix{Tv, Ti} where {Tv, Ti}) in SparseArrays at /Applications/Julia-1.6.app/Contents/Resources/julia/share/julia/stdlib/v1.6/SparseArrays/src/linalg.jl:15\n",
       "[112] +(A::LinearAlgebra.Symmetric, B::SparseArrays.AbstractSparseMatrix{Tv, Ti} where {Tv, Ti}) in SparseArrays at /Applications/Julia-1.6.app/Contents/Resources/julia/share/julia/stdlib/v1.6/SparseArrays/src/linalg.jl:18\n",
       "[113] +(A::LinearAlgebra.Symmetric{var\"#s806\", var\"#s805\"} where {var\"#s806\"<:Real, var\"#s805\"<:(SparseArrays.AbstractSparseMatrix{Tv, Ti} where {Tv, Ti})}, B::LinearAlgebra.Hermitian{var\"#s804\", var\"#s803\"} where {var\"#s804\", var\"#s803\"<:(SparseArrays.AbstractSparseMatrix{Tv, Ti} where {Tv, Ti})}) in SparseArrays at /Applications/Julia-1.6.app/Contents/Resources/julia/share/julia/stdlib/v1.6/SparseArrays/src/linalg.jl:25\n",
       "[114] +(A::LinearAlgebra.Symmetric{var\"#s813\", S} where {var\"#s813\"<:Real, S<:(AbstractMatrix{var\"#s814\"} where var\"#s814\"<:var\"#s813\")}, B::LinearAlgebra.Hermitian) in LinearAlgebra at /Applications/Julia-1.6.app/Contents/Resources/julia/share/julia/stdlib/v1.6/LinearAlgebra/src/symmetric.jl:484\n",
       "[115] +(A::LinearAlgebra.Symmetric{var\"#s814\", var\"#s813\"} where {var\"#s814\", var\"#s813\"<:(SparseArrays.AbstractSparseMatrix{Tv, Ti} where {Tv, Ti})}, B::LinearAlgebra.Hermitian{var\"#s812\", var\"#s811\"} where {var\"#s812\", var\"#s811\"<:(SparseArrays.AbstractSparseMatrix{Tv, Ti} where {Tv, Ti})}) in SparseArrays at /Applications/Julia-1.6.app/Contents/Resources/julia/share/julia/stdlib/v1.6/SparseArrays/src/linalg.jl:23\n",
       "[116] +(A::BitArray, B::BitArray) in Base at bitarray.jl:1127\n",
       "[117] +(A::AbstractArray, B::AbstractArray) in Base at arraymath.jl:37\n",
       "[118] +(F::LinearAlgebra.Hessenberg, J::LinearAlgebra.UniformScaling) in LinearAlgebra at /Applications/Julia-1.6.app/Contents/Resources/julia/share/julia/stdlib/v1.6/LinearAlgebra/src/hessenberg.jl:559\n",
       "[119] +(x::Float64, y::Float64) in Base at float.jl:326\n",
       "[120] +(B::BitMatrix, J::LinearAlgebra.UniformScaling) in LinearAlgebra at /Applications/Julia-1.6.app/Contents/Resources/julia/share/julia/stdlib/v1.6/LinearAlgebra/src/uniformscaling.jl:152\n",
       "[121] +(A::AbstractMatrix{T} where T, J::LinearAlgebra.UniformScaling) in LinearAlgebra at /Applications/Julia-1.6.app/Contents/Resources/julia/share/julia/stdlib/v1.6/LinearAlgebra/src/uniformscaling.jl:215\n",
       "[122] +(x::AbstractArray{var\"#s77\", N} where {var\"#s77\"<:Number, N}) in Base at abstractarraymath.jl:97\n",
       "[123] +(x::Float16, y::Float16) in Base at float.jl:324\n",
       "[124] +(x::Rational{BigInt}, y::Rational{BigInt}) in Base.GMP.MPQ at gmp.jl:889\n",
       "[125] +(x::Rational) in Base at rational.jl:268\n",
       "[126] +(x::Rational, y::Rational) in Base at rational.jl:284\n",
       "[127] +(::Missing) in Base at missing.jl:101\n",
       "[128] +(::Missing, ::Missing) in Base at missing.jl:115\n",
       "[129] +(::Missing, ::Number) in Base at missing.jl:116\n",
       "[130] +(x::Missing, y::Dates.AbstractTime) in Dates at /Applications/Julia-1.6.app/Contents/Resources/julia/share/julia/stdlib/v1.6/Dates/src/arithmetic.jl:89\n",
       "[131] +(x::Float32, y::Float32) in Base at float.jl:325\n",
       "[132] +(a::Pkg.Resolve.VersionWeight, b::Pkg.Resolve.VersionWeight) in Pkg.Resolve at /Applications/Julia-1.6.app/Contents/Resources/julia/share/julia/stdlib/v1.6/Pkg/src/Resolve/versionweights.jl:22\n",
       "[133] +(dt::Dates.DateTime, y::Dates.Year) in Dates at /Applications/Julia-1.6.app/Contents/Resources/julia/share/julia/stdlib/v1.6/Dates/src/arithmetic.jl:23\n",
       "[134] +(dt::Dates.DateTime, z::Dates.Month) in Dates at /Applications/Julia-1.6.app/Contents/Resources/julia/share/julia/stdlib/v1.6/Dates/src/arithmetic.jl:47\n",
       "[135] +(x::Dates.DateTime, y::Dates.Quarter) in Dates at /Applications/Julia-1.6.app/Contents/Resources/julia/share/julia/stdlib/v1.6/Dates/src/arithmetic.jl:75\n",
       "[136] +(x::Dates.DateTime, y::Dates.Period) in Dates at /Applications/Julia-1.6.app/Contents/Resources/julia/share/julia/stdlib/v1.6/Dates/src/arithmetic.jl:81\n",
       "[137] +(x::BigInt, y::BigInt) in Base.GMP at gmp.jl:479\n",
       "[138] +(a::BigInt, b::BigInt, c::BigInt) in Base.GMP at gmp.jl:519\n",
       "[139] +(a::BigInt, b::BigInt, c::BigInt, d::BigInt) in Base.GMP at gmp.jl:520\n",
       "[140] +(a::BigInt, b::BigInt, c::BigInt, d::BigInt, e::BigInt) in Base.GMP at gmp.jl:521\n",
       "[141] +(x::BigInt, c::Union{UInt16, UInt32, UInt64, UInt8}) in Base.GMP at gmp.jl:527\n",
       "[142] +(x::BigInt, c::Union{Int16, Int32, Int64, Int8}) in Base.GMP at gmp.jl:533\n",
       "[143] +(c::BigInt, x::BigFloat) in Base.MPFR at mpfr.jl:407\n",
       "[144] +(a::Pkg.Resolve.FieldValue, b::Pkg.Resolve.FieldValue) in Pkg.Resolve at /Applications/Julia-1.6.app/Contents/Resources/julia/share/julia/stdlib/v1.6/Pkg/src/Resolve/fieldvalues.jl:43\n",
       "[145] +(dt::Dates.Date, t::Dates.Time) in Dates at /Applications/Julia-1.6.app/Contents/Resources/julia/share/julia/stdlib/v1.6/Dates/src/arithmetic.jl:19\n",
       "[146] +(dt::Dates.Date, y::Dates.Year) in Dates at /Applications/Julia-1.6.app/Contents/Resources/julia/share/julia/stdlib/v1.6/Dates/src/arithmetic.jl:27\n",
       "[147] +(dt::Dates.Date, z::Dates.Month) in Dates at /Applications/Julia-1.6.app/Contents/Resources/julia/share/julia/stdlib/v1.6/Dates/src/arithmetic.jl:54\n",
       "[148] +(x::Dates.Date, y::Dates.Quarter) in Dates at /Applications/Julia-1.6.app/Contents/Resources/julia/share/julia/stdlib/v1.6/Dates/src/arithmetic.jl:73\n",
       "[149] +(x::Dates.Date, y::Dates.Week) in Dates at /Applications/Julia-1.6.app/Contents/Resources/julia/share/julia/stdlib/v1.6/Dates/src/arithmetic.jl:77\n",
       "[150] +(x::Dates.Date, y::Dates.Day) in Dates at /Applications/Julia-1.6.app/Contents/Resources/julia/share/julia/stdlib/v1.6/Dates/src/arithmetic.jl:79\n",
       "[151] +(x::Dates.CompoundPeriod, y::Dates.Period) in Dates at /Applications/Julia-1.6.app/Contents/Resources/julia/share/julia/stdlib/v1.6/Dates/src/periods.jl:352\n",
       "[152] +(x::Dates.CompoundPeriod, y::Dates.CompoundPeriod) in Dates at /Applications/Julia-1.6.app/Contents/Resources/julia/share/julia/stdlib/v1.6/Dates/src/periods.jl:354\n",
       "[153] +(x::Dates.CompoundPeriod, y::Dates.TimeType) in Dates at /Applications/Julia-1.6.app/Contents/Resources/julia/share/julia/stdlib/v1.6/Dates/src/periods.jl:382\n",
       "[154] +(level::Base.CoreLogging.LogLevel, inc::Integer) in Base.CoreLogging at logging.jl:131\n",
       "[155] +(t::Dates.Time, dt::Dates.Date) in Dates at /Applications/Julia-1.6.app/Contents/Resources/julia/share/julia/stdlib/v1.6/Dates/src/arithmetic.jl:20\n",
       "[156] +(x::Dates.Time, y::Dates.TimePeriod) in Dates at /Applications/Julia-1.6.app/Contents/Resources/julia/share/julia/stdlib/v1.6/Dates/src/arithmetic.jl:83\n",
       "[157] +(x::Dates.TimeType) in Dates at /Applications/Julia-1.6.app/Contents/Resources/julia/share/julia/stdlib/v1.6/Dates/src/arithmetic.jl:8\n",
       "[158] +(x::Dates.AbstractTime, y::Missing) in Dates at /Applications/Julia-1.6.app/Contents/Resources/julia/share/julia/stdlib/v1.6/Dates/src/arithmetic.jl:88\n",
       "[159] +(a::Dates.TimeType, b::Dates.Period, c::Dates.Period) in Dates at /Applications/Julia-1.6.app/Contents/Resources/julia/share/julia/stdlib/v1.6/Dates/src/periods.jl:373\n",
       "[160] +(a::Dates.TimeType, b::Dates.Period, c::Dates.Period, d::Dates.Period...) in Dates at /Applications/Julia-1.6.app/Contents/Resources/julia/share/julia/stdlib/v1.6/Dates/src/periods.jl:374\n",
       "[161] +(x::Dates.TimeType, y::Dates.CompoundPeriod) in Dates at /Applications/Julia-1.6.app/Contents/Resources/julia/share/julia/stdlib/v1.6/Dates/src/periods.jl:376\n",
       "[162] +(x::Bool) in Base at bool.jl:89\n",
       "[163] +(x::Number, y::Base.TwicePrecision) in Base at twiceprecision.jl:271\n",
       "[164] +(::Number, ::Missing) in Base at missing.jl:117\n",
       "[165] +(x::Number, J::LinearAlgebra.UniformScaling) in LinearAlgebra at /Applications/Julia-1.6.app/Contents/Resources/julia/share/julia/stdlib/v1.6/LinearAlgebra/src/uniformscaling.jl:146\n",
       "[166] +(x::Integer, y::Ptr) in Base at pointer.jl:161\n",
       "[167] +(y::Integer, x::Rational) in Base at rational.jl:296\n",
       "[168] +(x::Integer, y::AbstractChar) in Base at char.jl:224\n",
       "[169] +(x::Bool, y::Bool) in Base at bool.jl:92\n",
       "[170] +(a::Integer, b::Integer) in Base at int.jl:919\n",
       "[171] +(x::Bool, y::T) where T<:AbstractFloat in Base at bool.jl:99\n",
       "[172] +(x::Bool, z::Complex{Bool}) in Base at complex.jl:286\n",
       "[173] +(x::Real, z::Complex{Bool}) in Base at complex.jl:300\n",
       "[174] +(x::Bool, z::Complex) in Base at complex.jl:293\n",
       "[175] +(x::Real, z::Complex) in Base at complex.jl:312\n",
       "[176] +(x::BigFloat, y::BigFloat) in Base.MPFR at mpfr.jl:371\n",
       "[177] +(x::BigFloat, c::Union{UInt16, UInt32, UInt64, UInt8}) in Base.MPFR at mpfr.jl:378\n",
       "[178] +(x::BigFloat, c::Union{Int16, Int32, Int64, Int8}) in Base.MPFR at mpfr.jl:386\n",
       "[179] +(x::BigFloat, c::Union{Float16, Float32, Float64}) in Base.MPFR at mpfr.jl:394\n",
       "[180] +(x::BigFloat, c::BigInt) in Base.MPFR at mpfr.jl:402\n",
       "[181] +(a::BigFloat, b::BigFloat, c::BigFloat) in Base.MPFR at mpfr.jl:543\n",
       "[182] +(a::BigFloat, b::BigFloat, c::BigFloat, d::BigFloat) in Base.MPFR at mpfr.jl:549\n",
       "[183] +(a::BigFloat, b::BigFloat, c::BigFloat, d::BigFloat, e::BigFloat) in Base.MPFR at mpfr.jl:556\n",
       "[184] +(z::Complex{Bool}, x::Bool) in Base at complex.jl:287\n",
       "[185] +(z::Complex, x::Bool) in Base at complex.jl:294\n",
       "[186] +(z::Complex{Bool}, x::Real) in Base at complex.jl:301\n",
       "[187] +(z::Complex) in Base at complex.jl:273\n",
       "[188] +(z::Complex, x::Real) in Base at complex.jl:313\n",
       "[189] +(x::Number) in Base at operators.jl:515\n",
       "[190] +(x::T, y::T) where T<:Number in Base at promotion.jl:396\n",
       "[191] +(x::Number, y::Number) in Base at promotion.jl:321\n",
       "[192] +(a, b, c, xs...) in Base at operators.jl:560"
      ]
     },
     "execution_count": 114,
     "metadata": {},
     "output_type": "execute_result"
    }
   ],
   "source": [
    "methods(+)"
   ]
  },
  {
   "cell_type": "markdown",
   "metadata": {},
   "source": [
    "We can use the `@which` macro to learn which method we are using when we call `+`.\n",
    "\n",
    "Different methods are used in each of the next three examples:"
   ]
  },
  {
   "cell_type": "code",
   "execution_count": 115,
   "metadata": {},
   "outputs": [
    {
     "data": {
      "text/html": [
       "+(x::<b>T</b>, y::<b>T</b>)<i> where T<:Union{Int128, Int16, Int32, Int64, Int8, UInt128, UInt16, UInt32, UInt64, UInt8}</i> in Base at <a href=\"https://github.com/JuliaLang/julia/tree/3b76b25b648cc1fa6187b118c685819a4111a5d2/base/int.jl#L87\" target=\"_blank\">int.jl:87</a>"
      ],
      "text/plain": [
       "+(x::T, y::T) where T<:Union{Int128, Int16, Int32, Int64, Int8, UInt128, UInt16, UInt32, UInt64, UInt8} in Base at int.jl:87"
      ]
     },
     "execution_count": 115,
     "metadata": {},
     "output_type": "execute_result"
    }
   ],
   "source": [
    "@which 3+3"
   ]
  },
  {
   "cell_type": "code",
   "execution_count": 116,
   "metadata": {},
   "outputs": [
    {
     "data": {
      "text/html": [
       "+(x::<b>Float64</b>, y::<b>Float64</b>) in Base at <a href=\"https://github.com/JuliaLang/julia/tree/3b76b25b648cc1fa6187b118c685819a4111a5d2/base/float.jl#L326\" target=\"_blank\">float.jl:326</a>"
      ],
      "text/plain": [
       "+(x::Float64, y::Float64) in Base at float.jl:326"
      ]
     },
     "execution_count": 116,
     "metadata": {},
     "output_type": "execute_result"
    }
   ],
   "source": [
    "@which 3.0+3.0"
   ]
  },
  {
   "cell_type": "code",
   "execution_count": 117,
   "metadata": {},
   "outputs": [
    {
     "data": {
      "text/html": [
       "+(x::<b>Number</b>, y::<b>Number</b>) in Base at <a href=\"https://github.com/JuliaLang/julia/tree/3b76b25b648cc1fa6187b118c685819a4111a5d2/base/promotion.jl#L321\" target=\"_blank\">promotion.jl:321</a>"
      ],
      "text/plain": [
       "+(x::Number, y::Number) in Base at promotion.jl:321"
      ]
     },
     "execution_count": 117,
     "metadata": {},
     "output_type": "execute_result"
    }
   ],
   "source": [
    "@which 3+3.0"
   ]
  },
  {
   "cell_type": "markdown",
   "metadata": {},
   "source": [
    "Furthermore, we can extend `+` by defining new methods for it.\n",
    "First we need to import `+` from `Base`."
   ]
  },
  {
   "cell_type": "code",
   "execution_count": 118,
   "metadata": {},
   "outputs": [],
   "source": [
    "import Base: +"
   ]
  },
  {
   "cell_type": "markdown",
   "metadata": {},
   "source": [
    "Let's say we want to be able to concatenate strings using `+`. Without extension this doesn't work."
   ]
  },
  {
   "cell_type": "code",
   "execution_count": 119,
   "metadata": {},
   "outputs": [
    {
     "ename": "LoadError",
     "evalue": "MethodError: no method matching +(::String, ::String)\n\u001b[0mClosest candidates are:\n\u001b[0m  +(::Any, ::Any, \u001b[91m::Any\u001b[39m, \u001b[91m::Any...\u001b[39m) at operators.jl:560",
     "output_type": "error",
     "traceback": [
      "MethodError: no method matching +(::String, ::String)\n\u001b[0mClosest candidates are:\n\u001b[0m  +(::Any, ::Any, \u001b[91m::Any\u001b[39m, \u001b[91m::Any...\u001b[39m) at operators.jl:560",
      "",
      "Stacktrace:",
      " [1] top-level scope",
      "   @ In[119]:1",
      " [2] eval",
      "   @ ./boot.jl:360 [inlined]",
      " [3] include_string(mapexpr::typeof(REPL.softscope), mod::Module, code::String, filename::String)",
      "   @ Base ./loading.jl:1116"
     ]
    }
   ],
   "source": [
    "\"hello \" + \"world!\""
   ]
  },
  {
   "cell_type": "code",
   "execution_count": 120,
   "metadata": {},
   "outputs": [
    {
     "ename": "LoadError",
     "evalue": "no unique matching method found for the specified argument types",
     "output_type": "error",
     "traceback": [
      "no unique matching method found for the specified argument types",
      "",
      "Stacktrace:",
      " [1] error(s::String)",
      "   @ Base ./error.jl:33",
      " [2] which(tt::Type)",
      "   @ Base ./reflection.jl:1249",
      " [3] which(f::Any, t::Any)",
      "   @ Base ./reflection.jl:1238",
      " [4] top-level scope",
      "   @ In[120]:1",
      " [5] eval",
      "   @ ./boot.jl:360 [inlined]",
      " [6] include_string(mapexpr::typeof(REPL.softscope), mod::Module, code::String, filename::String)",
      "   @ Base ./loading.jl:1116"
     ]
    }
   ],
   "source": [
    "@which \"hello \" + \"world!\""
   ]
  },
  {
   "cell_type": "markdown",
   "metadata": {},
   "source": [
    "So we add a method for `+` that takes two strings as inputs and concetenates them."
   ]
  },
  {
   "cell_type": "code",
   "execution_count": 121,
   "metadata": {},
   "outputs": [
    {
     "data": {
      "text/plain": [
       "+ (generic function with 193 methods)"
      ]
     },
     "execution_count": 121,
     "metadata": {},
     "output_type": "execute_result"
    }
   ],
   "source": [
    "+(x::String , y::String)  = string(x,y)"
   ]
  },
  {
   "cell_type": "code",
   "execution_count": 122,
   "metadata": {},
   "outputs": [
    {
     "data": {
      "text/plain": [
       "\"hello world!\""
      ]
     },
     "execution_count": 122,
     "metadata": {},
     "output_type": "execute_result"
    }
   ],
   "source": [
    "\"hello \" + \"world!\""
   ]
  },
  {
   "cell_type": "code",
   "execution_count": 123,
   "metadata": {},
   "outputs": [
    {
     "data": {
      "text/html": [
       "+(x::<b>String</b>, y::<b>String</b>) in Main at In[121]:1"
      ],
      "text/plain": [
       "+(x::String, y::String) in Main at In[121]:1"
      ]
     },
     "execution_count": 123,
     "metadata": {},
     "output_type": "execute_result"
    }
   ],
   "source": [
    "@which \"hello \" + \"world!\""
   ]
  },
  {
   "cell_type": "markdown",
   "metadata": {},
   "source": [
    "Let's do one more example!"
   ]
  },
  {
   "cell_type": "code",
   "execution_count": 124,
   "metadata": {},
   "outputs": [
    {
     "data": {
      "text/plain": [
       "foo (generic function with 4 methods)"
      ]
     },
     "execution_count": 124,
     "metadata": {},
     "output_type": "execute_result"
    }
   ],
   "source": [
    "foo(x,y) = println(\"duck-typed foo!\")\n",
    "foo(x::Int, y::Float64) = println(\"foo with an integer and a float!\")\n",
    "foo(x::Float64, y::Float64) = println(\"foo with two floats!\")\n",
    "foo(x::Int, y::Int) = println(\"foo with two integers!\")"
   ]
  },
  {
   "cell_type": "code",
   "execution_count": 125,
   "metadata": {},
   "outputs": [
    {
     "name": "stdout",
     "output_type": "stream",
     "text": [
      "foo with two integers!\n"
     ]
    }
   ],
   "source": [
    "foo(1,1)"
   ]
  },
  {
   "cell_type": "code",
   "execution_count": 126,
   "metadata": {},
   "outputs": [
    {
     "name": "stdout",
     "output_type": "stream",
     "text": [
      "foo with two floats!\n"
     ]
    }
   ],
   "source": [
    "foo(1.,1.)"
   ]
  },
  {
   "cell_type": "code",
   "execution_count": 127,
   "metadata": {},
   "outputs": [
    {
     "name": "stdout",
     "output_type": "stream",
     "text": [
      "foo with an integer and a float!\n"
     ]
    }
   ],
   "source": [
    "foo(1,1.)"
   ]
  },
  {
   "cell_type": "code",
   "execution_count": 128,
   "metadata": {},
   "outputs": [
    {
     "name": "stdout",
     "output_type": "stream",
     "text": [
      "duck-typed foo!\n"
     ]
    }
   ],
   "source": [
    "foo(1.,1)"
   ]
  },
  {
   "cell_type": "code",
   "execution_count": 129,
   "metadata": {},
   "outputs": [
    {
     "name": "stdout",
     "output_type": "stream",
     "text": [
      "duck-typed foo!\n"
     ]
    }
   ],
   "source": [
    "foo(true, false)"
   ]
  },
  {
   "cell_type": "markdown",
   "metadata": {},
   "source": [
    "# Basic Linear Algebra\n",
    "\n",
    "Author: Andreas Noack Jensen (MIT)  (http://www.econ.ku.dk/phdstudent/noack/)(with edits from Jane Herriman)\n",
    "\n",
    "Julia's syntax is very similar to other languages but there are some important differences. Define a matrix of random normal variates."
   ]
  },
  {
   "cell_type": "code",
   "execution_count": 130,
   "metadata": {},
   "outputs": [
    {
     "data": {
      "text/plain": [
       "3×3 Matrix{Int64}:\n",
       " 1  4  2\n",
       " 4  2  2\n",
       " 2  3  4"
      ]
     },
     "execution_count": 130,
     "metadata": {},
     "output_type": "execute_result"
    }
   ],
   "source": [
    "A = rand(1:4,3,3)"
   ]
  },
  {
   "cell_type": "code",
   "execution_count": 131,
   "metadata": {},
   "outputs": [
    {
     "data": {
      "text/plain": [
       "3×6 Matrix{Int64}:\n",
       " 1  4  2  1  4  2\n",
       " 4  2  2  4  2  2\n",
       " 2  3  4  2  3  4"
      ]
     },
     "execution_count": 131,
     "metadata": {},
     "output_type": "execute_result"
    }
   ],
   "source": [
    "B = A # declare a \"pointer\"\n",
    "C = copy(A)\n",
    "[B C]"
   ]
  },
  {
   "cell_type": "code",
   "execution_count": 132,
   "metadata": {},
   "outputs": [
    {
     "data": {
      "text/plain": [
       "3×6 Matrix{Int64}:\n",
       " 17  4  2  1  4  2\n",
       "  4  2  2  4  2  2\n",
       "  2  3  4  2  3  4"
      ]
     },
     "execution_count": 132,
     "metadata": {},
     "output_type": "execute_result"
    }
   ],
   "source": [
    "A[1] = 17\n",
    "[B C] # B an A are referneces to the same memory"
   ]
  },
  {
   "cell_type": "markdown",
   "metadata": {},
   "source": [
    "and a vector of ones"
   ]
  },
  {
   "cell_type": "code",
   "execution_count": 133,
   "metadata": {},
   "outputs": [
    {
     "data": {
      "text/plain": [
       "3-element Vector{Float64}:\n",
       " 1.0\n",
       " 1.0\n",
       " 1.0"
      ]
     },
     "execution_count": 133,
     "metadata": {},
     "output_type": "execute_result"
    }
   ],
   "source": [
    "x = ones(3)"
   ]
  },
  {
   "cell_type": "markdown",
   "metadata": {},
   "source": [
    "Notice that A has type Array{Float64,2} but x has type Array{Float64,1}. Julia defiens the aliases Vecor{Type} = Array{Type,1} and Matrix{Type} = Array{Type,2}.\n",
    "\n",
    "Many of the basic operations are the same as in other languages."
   ]
  },
  {
   "cell_type": "code",
   "execution_count": 134,
   "metadata": {},
   "outputs": [
    {
     "data": {
      "text/plain": [
       "3-element Vector{Float64}:\n",
       " 23.0\n",
       "  8.0\n",
       "  9.0"
      ]
     },
     "execution_count": 134,
     "metadata": {},
     "output_type": "execute_result"
    }
   ],
   "source": [
    "# Multiplication\n",
    "b = A*x"
   ]
  },
  {
   "cell_type": "markdown",
   "metadata": {},
   "source": [
    "** Transposition**\n",
    "\n",
    "As in other languages `A'` is the conjugate transpose whereas `A,'` is just the transpose"
   ]
  },
  {
   "cell_type": "code",
   "execution_count": 135,
   "metadata": {},
   "outputs": [
    {
     "data": {
      "text/plain": [
       "3×3 Matrix{Int64}:\n",
       " 34  8  4\n",
       "  8  4  5\n",
       "  4  5  8"
      ]
     },
     "execution_count": 135,
     "metadata": {},
     "output_type": "execute_result"
    }
   ],
   "source": [
    "Asym = A+A'"
   ]
  },
  {
   "cell_type": "markdown",
   "metadata": {},
   "source": [
    "** Transposed multiplication **\n",
    "Julia allows us to write this without *"
   ]
  },
  {
   "cell_type": "code",
   "execution_count": 136,
   "metadata": {},
   "outputs": [
    {
     "data": {
      "text/plain": [
       "3×3 Matrix{Int64}:\n",
       " 309  82  50\n",
       "  82  29  24\n",
       "  50  24  24"
      ]
     },
     "execution_count": 136,
     "metadata": {},
     "output_type": "execute_result"
    }
   ],
   "source": [
    "Apd = A'A"
   ]
  },
  {
   "cell_type": "markdown",
   "metadata": {},
   "source": [
    "** Solving linear systems **\n",
    "\n",
    "The problem $Ax = b$ for a square A is solved by the `\\` function."
   ]
  },
  {
   "cell_type": "code",
   "execution_count": 137,
   "metadata": {},
   "outputs": [
    {
     "data": {
      "text/plain": [
       "3-element Vector{Float64}:\n",
       " 1.0000000000000022\n",
       " 0.9999999999999858\n",
       " 1.0000000000000095"
      ]
     },
     "execution_count": 137,
     "metadata": {},
     "output_type": "execute_result"
    }
   ],
   "source": [
    "A\\b"
   ]
  },
  {
   "cell_type": "markdown",
   "metadata": {},
   "source": [
    "** Overdetermined systems **\n",
    "When A is tall the `\\` function calculates the least squares solution."
   ]
  },
  {
   "cell_type": "code",
   "execution_count": 138,
   "metadata": {},
   "outputs": [
    {
     "data": {
      "text/plain": [
       "3×2 Matrix{Int64}:\n",
       " 17  4\n",
       "  4  2\n",
       "  2  3"
      ]
     },
     "metadata": {},
     "output_type": "display_data"
    },
    {
     "data": {
      "text/plain": [
       "2-element Vector{Float64}:\n",
       " 0.7684398748323645\n",
       " 2.4823424228877973"
      ]
     },
     "execution_count": 138,
     "metadata": {},
     "output_type": "execute_result"
    }
   ],
   "source": [
    "# Keel all rows and only the first 2 columns of `A` to generate `Atall`\n",
    "Atall = A[:,1:2]\n",
    "display(Atall)\n",
    "Atall\\b"
   ]
  },
  {
   "cell_type": "markdown",
   "metadata": {},
   "source": [
    "The `\\` function also works for rank deficient least squares problems. In this case, the least squares solution is not unique and Julia returns the solution with smallest norm."
   ]
  },
  {
   "cell_type": "code",
   "execution_count": 139,
   "metadata": {},
   "outputs": [
    {
     "data": {
      "text/plain": [
       "3×3 Matrix{Float64}:\n",
       "  0.165177   0.772092  -0.435176\n",
       " -1.4074    -0.67505    0.0620806\n",
       " -1.17769   -0.472755  -1.91103"
      ]
     },
     "execution_count": 139,
     "metadata": {},
     "output_type": "execute_result"
    }
   ],
   "source": [
    "A = randn(3,3)"
   ]
  },
  {
   "cell_type": "code",
   "execution_count": 140,
   "metadata": {},
   "outputs": [
    {
     "data": {
      "text/plain": [
       "2-element Vector{Float64}:\n",
       " -2.6596834004236194\n",
       " -2.6596834004236194"
      ]
     },
     "execution_count": 140,
     "metadata": {},
     "output_type": "execute_result"
    }
   ],
   "source": [
    "[A[:,1] A[:,1]]\\b"
   ]
  },
  {
   "cell_type": "markdown",
   "metadata": {},
   "source": [
    "** Underdetermined systems **\n",
    "when A is short the `\\` function returns the minimum norm solution."
   ]
  },
  {
   "cell_type": "code",
   "execution_count": 141,
   "metadata": {},
   "outputs": [
    {
     "data": {
      "text/plain": [
       "2×3 Matrix{Float64}:\n",
       "  0.165177   0.772092  -0.435176\n",
       " -1.4074    -0.67505    0.0620806"
      ]
     },
     "metadata": {},
     "output_type": "display_data"
    },
    {
     "data": {
      "text/plain": [
       "3-element Vector{Float64}:\n",
       " -17.554498181084522\n",
       "  23.033022903962813\n",
       " -18.649902141949582"
      ]
     },
     "execution_count": 141,
     "metadata": {},
     "output_type": "execute_result"
    }
   ],
   "source": [
    "Ashort = A[1:2,:]\n",
    "display(Ashort)\n",
    "Ashort\\b[1:2]"
   ]
  },
  {
   "cell_type": "markdown",
   "metadata": {},
   "source": [
    "# Factorizations and other function\n",
    "\n",
    "## Outline\n",
    "\n",
    "* Factorizations(Julia Innovation: Matrix Factorization Objects)\n",
    "* Special matrix Structures (Matrices know if they are triangular, tridiagonal, etc.)\n",
    "* Generic linear algebra(increasingly important and totally outside the scope of LAPACK)"
   ]
  },
  {
   "cell_type": "markdown",
   "metadata": {},
   "source": [
    "## Factorization\n",
    "\n",
    "The `\\` function hides how the problem is actually solved. Depending on the dimension of `A`, different methods are chosen to solve the problem. An intermediate step in the solution is to calculate a factorization of the matrix `A`. Basically, a factorization of `A` is a way of expressing `A` as a product of traiangular, unitary and permutation matrices. Julia defines a `Factorization` abstract type and several composite subtypes for actually storing factorization. A `Factorization` object should be thought of as a representation of the matrix `A`.\n",
    "\n",
    "**LU**\n",
    "\n",
    "When `A` is square, a linear system is solved by factorizing the matrix `PA=LU` where `P` is a permutation matrix, `L` is lower triangular unit diagonal and `U` is upper trianglur. Julia allows computing the LU factorization and defines a composite factorization type for storing it. "
   ]
  },
  {
   "cell_type": "code",
   "execution_count": 142,
   "metadata": {},
   "outputs": [
    {
     "data": {
      "text/plain": [
       "3×3 Matrix{Float64}:\n",
       "  0.229881  -0.882567   -0.526281\n",
       " -0.272343   0.231285   -2.34243\n",
       " -0.36102   -0.0849324  -1.82461"
      ]
     },
     "execution_count": 142,
     "metadata": {},
     "output_type": "execute_result"
    }
   ],
   "source": [
    "Random.seed!(221021)\n",
    "A = randn(3,3)"
   ]
  },
  {
   "cell_type": "code",
   "execution_count": 143,
   "metadata": {},
   "outputs": [],
   "source": [
    "# Pkg.add(\"LinearAlgebra\")\n",
    "using LinearAlgebra"
   ]
  },
  {
   "cell_type": "code",
   "execution_count": 144,
   "metadata": {},
   "outputs": [
    {
     "data": {
      "text/plain": [
       "LU{Float64, Matrix{Float64}}\n",
       "L factor:\n",
       "3×3 Matrix{Float64}:\n",
       "  1.0        0.0       0.0\n",
       " -0.636756   1.0       0.0\n",
       "  0.754371  -0.315332  1.0\n",
       "U factor:\n",
       "3×3 Matrix{Float64}:\n",
       " -0.36102  -0.0849324  -1.82461\n",
       "  0.0      -0.936648   -1.68811\n",
       "  0.0       0.0        -1.49831"
      ]
     },
     "execution_count": 144,
     "metadata": {},
     "output_type": "execute_result"
    }
   ],
   "source": [
    "D =  lu(A)"
   ]
  },
  {
   "cell_type": "code",
   "execution_count": 145,
   "metadata": {},
   "outputs": [
    {
     "data": {
      "text/plain": [
       "2.799697895164745"
      ]
     },
     "metadata": {},
     "output_type": "display_data"
    },
    {
     "data": {
      "text/plain": [
       "1.1443916996305594e-16"
      ]
     },
     "metadata": {},
     "output_type": "display_data"
    }
   ],
   "source": [
    "# Pivoting is on by default, so we cannot assume A == LU\n",
    "display(norm(D.L*D.U-A))\n",
    "display(norm(D.L*D.U-A[D.p,:]))"
   ]
  },
  {
   "cell_type": "code",
   "execution_count": 146,
   "metadata": {},
   "outputs": [],
   "source": [
    "# l,u = lu(A, NoPivot())\n",
    "# norm(l*u - A)"
   ]
  },
  {
   "cell_type": "markdown",
   "metadata": {},
   "source": [
    "We can therefore compute the solution of $Ax = b$ from the factorization."
   ]
  },
  {
   "cell_type": "code",
   "execution_count": 147,
   "metadata": {},
   "outputs": [
    {
     "data": {
      "text/plain": [
       "3-element Vector{Float64}:\n",
       " -1.1789665979523476\n",
       " -2.3834848962237136\n",
       " -2.270559795147759"
      ]
     },
     "execution_count": 147,
     "metadata": {},
     "output_type": "execute_result"
    }
   ],
   "source": [
    "# First what is b given our solution, x?\n",
    "x = ones(3)\n",
    "b = A*x"
   ]
  },
  {
   "cell_type": "code",
   "execution_count": 148,
   "metadata": {},
   "outputs": [],
   "source": [
    "# Now prove that you can solve for x\n",
    "\n",
    "# PA = LU\n",
    "# A = P'LU\n",
    "# P'LUx = Ax = b\n",
    "# LUx = Pb\n",
    "# UX = L\\Pb\n",
    "# x = U\\L\\Pb"
   ]
  },
  {
   "cell_type": "code",
   "execution_count": 149,
   "metadata": {},
   "outputs": [
    {
     "data": {
      "text/plain": [
       "3-element Vector{Float64}:\n",
       " 1.0000000000000007\n",
       " 1.0000000000000004\n",
       " 0.9999999999999999"
      ]
     },
     "execution_count": 149,
     "metadata": {},
     "output_type": "execute_result"
    }
   ],
   "source": [
    "D.U\\(D.L\\(D.P)b)"
   ]
  },
  {
   "cell_type": "markdown",
   "metadata": {},
   "source": [
    "However, more importantly the `LU` type allows dispatch and we can solve the system by "
   ]
  },
  {
   "cell_type": "code",
   "execution_count": 150,
   "metadata": {},
   "outputs": [
    {
     "data": {
      "text/plain": [
       "3-element Vector{Float64}:\n",
       " 1.0000000000000007\n",
       " 1.0000000000000004\n",
       " 0.9999999999999999"
      ]
     },
     "execution_count": 150,
     "metadata": {},
     "output_type": "execute_result"
    }
   ],
   "source": [
    "D\\b"
   ]
  },
  {
   "cell_type": "markdown",
   "metadata": {},
   "source": [
    "This could be useful if the same left-hand-side is used for several right-hand-sides. The factorization can also be used for calculating the determinant because $det(A) = det(PLU) = det(P)det(U) = \\pm \\prod u_ii$ because U is triangular and the sign is determined from $det(P)$."
   ]
  },
  {
   "cell_type": "code",
   "execution_count": 151,
   "metadata": {},
   "outputs": [
    {
     "data": {
      "text/plain": [
       "-0.5066516277609219"
      ]
     },
     "execution_count": 151,
     "metadata": {},
     "output_type": "execute_result"
    }
   ],
   "source": [
    "det(A)"
   ]
  },
  {
   "cell_type": "code",
   "execution_count": 152,
   "metadata": {},
   "outputs": [
    {
     "data": {
      "text/plain": [
       "-0.5066516277609219"
      ]
     },
     "execution_count": 152,
     "metadata": {},
     "output_type": "execute_result"
    }
   ],
   "source": [
    "det(D)"
   ]
  },
  {
   "cell_type": "markdown",
   "metadata": {},
   "source": [
    "**QR**\n",
    "\n",
    "When `A` is tall, Julia computes the least square solution $\\hat{x}$ that minimizes $\\|Ax-b\\|_2$. This can be done by factorizaing $A = QR$ where $Q$ is unitary/orthogonal and $R = \\begin{pmatrix}\n",
    "R_0\\\\\n",
    "0\n",
    "\\end{pmatrix}$ and $R_0$ is upper triangular. With the QR factorization the minimum norm can be expressed \n",
    "$$ \\|Ax-b\\| = \\|QRx-b\\| = \\|Q(Rx-Q'b)\\| = \\|Rx-Q'b\\| = \\Big\\|\\begin{pmatrix}\n",
    "R_0x-Q'_0b\\\\\n",
    "Q'_1b\n",
    "\\end{pmatrix}\\Big\\| = \\|R_0x-Q'_0b\\|+\\|Q'_1b\\|$$\n",
    "and the problem therefore reduces to solving the square problem $R_0x = Q'_0b$ for $x$. We can QR factorize the submatrix of the two first columns of A by"
   ]
  },
  {
   "cell_type": "code",
   "execution_count": 153,
   "metadata": {},
   "outputs": [
    {
     "data": {
      "text/plain": [
       "LinearAlgebra.QRCompactWY{Float64, Matrix{Float64}}\n",
       "Q factor:\n",
       "3×3 LinearAlgebra.QRCompactWYQ{Float64, Matrix{Float64}}:\n",
       " -0.453149  -0.85084    -0.265946\n",
       "  0.53685   -0.0223055  -0.843383\n",
       "  0.711652  -0.524951    0.466881\n",
       "R factor:\n",
       "2×2 Matrix{Float64}:\n",
       " -0.507298  0.463657\n",
       "  0.0       0.79035"
      ]
     },
     "execution_count": 153,
     "metadata": {},
     "output_type": "execute_result"
    }
   ],
   "source": [
    "Aqr = qr(A[:,1:2])"
   ]
  },
  {
   "cell_type": "markdown",
   "metadata": {},
   "source": [
    "Another feature of QR factorization is that `Q` types for storing the unitary matrices Q. They can be extracted from `QR` types by:"
   ]
  },
  {
   "cell_type": "code",
   "execution_count": 154,
   "metadata": {},
   "outputs": [
    {
     "data": {
      "text/plain": [
       "3×3 LinearAlgebra.QRCompactWYQ{Float64, Matrix{Float64}}:\n",
       " -0.453149  -0.85084    -0.265946\n",
       "  0.53685   -0.0223055  -0.843383\n",
       "  0.711652  -0.524951    0.466881"
      ]
     },
     "execution_count": 154,
     "metadata": {},
     "output_type": "execute_result"
    }
   ],
   "source": [
    "Aqr.Q"
   ]
  },
  {
   "cell_type": "markdown",
   "metadata": {},
   "source": [
    "Similary, the upper triangular matrix R can be extracted by:"
   ]
  },
  {
   "cell_type": "code",
   "execution_count": 155,
   "metadata": {},
   "outputs": [
    {
     "data": {
      "text/plain": [
       "2×2 Matrix{Float64}:\n",
       " -0.507298  0.463657\n",
       "  0.0       0.79035"
      ]
     },
     "execution_count": 155,
     "metadata": {},
     "output_type": "execute_result"
    }
   ],
   "source": [
    "Aqr.R"
   ]
  },
  {
   "cell_type": "markdown",
   "metadata": {},
   "source": [
    "Even though the matrix `Aqr.Q` is printed as 3x3 matrix in the factorization object, in practice it can represent the thin version as well. Hence both"
   ]
  },
  {
   "cell_type": "code",
   "execution_count": 156,
   "metadata": {},
   "outputs": [
    {
     "data": {
      "text/plain": [
       "3-element Vector{Float64}:\n",
       " -1.303988817058087\n",
       "  0.5145441975327589\n",
       "  0.18670145626860954"
      ]
     },
     "execution_count": 156,
     "metadata": {},
     "output_type": "execute_result"
    }
   ],
   "source": [
    "Aqr.Q*ones(2)"
   ]
  },
  {
   "cell_type": "code",
   "execution_count": 157,
   "metadata": {},
   "outputs": [
    {
     "data": {
      "text/plain": [
       "3-element Vector{Float64}:\n",
       " -1.5699347105865629\n",
       " -0.32883881483100463\n",
       "  0.653582464847417"
      ]
     },
     "execution_count": 157,
     "metadata": {},
     "output_type": "execute_result"
    }
   ],
   "source": [
    "Aqr.Q*ones(3)"
   ]
  },
  {
   "cell_type": "markdown",
   "metadata": {},
   "source": [
    "The matrix has a compact internal representation, so indexing is only meaningful if you know how the factorizaion stores the data."
   ]
  },
  {
   "cell_type": "code",
   "execution_count": 158,
   "metadata": {},
   "outputs": [
    {
     "data": {
      "text/plain": [
       "-0.45314853327754867"
      ]
     },
     "execution_count": 158,
     "metadata": {},
     "output_type": "execute_result"
    }
   ],
   "source": [
    "Aqr.Q[1]"
   ]
  },
  {
   "cell_type": "code",
   "execution_count": 159,
   "metadata": {},
   "outputs": [
    {
     "data": {
      "text/plain": [
       "2-element Vector{Float64}:\n",
       " 7.254279096164987\n",
       " 2.8445752496105574"
      ]
     },
     "execution_count": 159,
     "metadata": {},
     "output_type": "execute_result"
    }
   ],
   "source": [
    "Aqr\\b"
   ]
  },
  {
   "cell_type": "markdown",
   "metadata": {},
   "source": [
    "It should be noted that this is *not* the way `A[:,1:2]\\b` is solved. Instead Julia defaults to QR factorizations with pivoting in order to be able to handle rank deficient problems. Pivoting is enabled with a keyword"
   ]
  },
  {
   "cell_type": "code",
   "execution_count": 160,
   "metadata": {},
   "outputs": [
    {
     "ename": "LoadError",
     "evalue": "UndefVarError: ColumnNorm not defined",
     "output_type": "error",
     "traceback": [
      "UndefVarError: ColumnNorm not defined",
      "",
      "Stacktrace:",
      " [1] top-level scope",
      "   @ In[160]:1",
      " [2] eval",
      "   @ ./boot.jl:360 [inlined]",
      " [3] include_string(mapexpr::typeof(REPL.softscope), mod::Module, code::String, filename::String)",
      "   @ Base ./loading.jl:1116"
     ]
    }
   ],
   "source": [
    "Aqrp = qr([A[:,1] A[:,1]],pivot == ColumnNorm())"
   ]
  },
  {
   "cell_type": "markdown",
   "metadata": {},
   "source": [
    "**Eigendecompositions and SVD(s)**\n",
    "\n",
    "The results from eigendecompositions and singular value decompositions are also stored in `Factorization` types. This also includes Hessenberg and Shcur factorizations.\n",
    "\n",
    "The eigendecomposition can be computed"
   ]
  },
  {
   "cell_type": "code",
   "execution_count": 161,
   "metadata": {},
   "outputs": [
    {
     "data": {
      "text/plain": [
       "3×3 Matrix{Float64}:\n",
       "  0.459763  -1.15491  -0.887301\n",
       " -1.15491    0.46257  -2.42736\n",
       " -0.887301  -2.42736  -3.64922"
      ]
     },
     "execution_count": 161,
     "metadata": {},
     "output_type": "execute_result"
    }
   ],
   "source": [
    "Asym = A+A'"
   ]
  },
  {
   "cell_type": "code",
   "execution_count": 168,
   "metadata": {},
   "outputs": [],
   "source": [
    "using LinearAlgebra"
   ]
  },
  {
   "cell_type": "code",
   "execution_count": 173,
   "metadata": {},
   "outputs": [
    {
     "data": {
      "text/plain": [
       "Eigen{Float64, Float64, Matrix{Float64}, Vector{Float64}}\n",
       "values:\n",
       "3-element Vector{Float64}:\n",
       " -5.078860770555328\n",
       "  0.39888420420891957\n",
       "  1.9530933862840583\n",
       "vectors:\n",
       "3×3 Matrix{Float64}:\n",
       " 0.229579  -0.849919   0.474269\n",
       " 0.430264  -0.348459  -0.832736\n",
       " 0.873021   0.395239   0.285691"
      ]
     },
     "execution_count": 173,
     "metadata": {},
     "output_type": "execute_result"
    }
   ],
   "source": [
    "AsymEig = eigen(Asym)"
   ]
  },
  {
   "cell_type": "code",
   "execution_count": 176,
   "metadata": {},
   "outputs": [
    {
     "data": {
      "text/plain": [
       "3-element Vector{Float64}:\n",
       " -5.078860770555328\n",
       "  0.39888420420891957\n",
       "  1.9530933862840583"
      ]
     },
     "execution_count": 176,
     "metadata": {},
     "output_type": "execute_result"
    }
   ],
   "source": [
    "AsymEig.values"
   ]
  },
  {
   "cell_type": "code",
   "execution_count": 180,
   "metadata": {},
   "outputs": [
    {
     "data": {
      "text/plain": [
       "3×3 Matrix{Float64}:\n",
       " 0.229579  -0.849919   0.474269\n",
       " 0.430264  -0.348459  -0.832736\n",
       " 0.873021   0.395239   0.285691"
      ]
     },
     "execution_count": 180,
     "metadata": {},
     "output_type": "execute_result"
    }
   ],
   "source": [
    "AsymEig.vectors"
   ]
  },
  {
   "cell_type": "markdown",
   "metadata": {},
   "source": [
    "Once again, when the factorization is stored in a type, we can dispatch on it and write specialized methods that exploit the properties of the factorization, e.g. that $A^{-1} = (V \\Lambda V^{-1}) = V\\Lambda^{-1}V^{-1}$"
   ]
  },
  {
   "cell_type": "code",
   "execution_count": 181,
   "metadata": {},
   "outputs": [
    {
     "data": {
      "text/plain": [
       "3×3 Matrix{Float64}:\n",
       " 1.0           1.33227e-15  8.88178e-16\n",
       " 0.0           1.0          8.88178e-16\n",
       " 5.55112e-16  -5.55112e-16  1.0"
      ]
     },
     "execution_count": 181,
     "metadata": {},
     "output_type": "execute_result"
    }
   ],
   "source": [
    "inv(AsymEig)*Asym"
   ]
  },
  {
   "cell_type": "markdown",
   "metadata": {},
   "source": [
    "The `svd` computes the singular value decomposition."
   ]
  },
  {
   "cell_type": "code",
   "execution_count": 183,
   "metadata": {},
   "outputs": [
    {
     "data": {
      "text/plain": [
       "SVD{Float64, Float64, Matrix{Float64}}\n",
       "U factor:\n",
       "3×2 Matrix{Float64}:\n",
       " -0.945986   -0.185427\n",
       "  0.32149    -0.430522\n",
       "  0.0418903  -0.883327\n",
       "singular values:\n",
       "2-element Vector{Float64}:\n",
       " 0.9606104260736998\n",
       " 0.41738331773285237\n",
       "Vt factor:\n",
       "2×2 Matrix{Float64}:\n",
       " -0.333271  0.942831\n",
       "  0.942831  0.333271"
      ]
     },
     "execution_count": 183,
     "metadata": {},
     "output_type": "execute_result"
    }
   ],
   "source": [
    "Asvd = svd(A[:,1:2])"
   ]
  },
  {
   "cell_type": "code",
   "execution_count": 184,
   "metadata": {},
   "outputs": [
    {
     "data": {
      "text/plain": [
       "2-element Vector{Float64}:\n",
       " 7.254279096164987\n",
       " 2.8445752496105565"
      ]
     },
     "execution_count": 184,
     "metadata": {},
     "output_type": "execute_result"
    }
   ],
   "source": [
    "Asvd\\b"
   ]
  },
  {
   "cell_type": "markdown",
   "metadata": {},
   "source": [
    "## Spcial matrix Structures\n",
    "\n",
    "The structure of matrices is very important in linear algebra. This structure can be made explicit in Julia through composite types. Examples are `Diagonal`, `Triangular`, `Symmetric`, `Hermitian`, `Tridiagonal` and `SymTridiagonal`. Specialized methods are written for the special matrix types to take advantage of their structure. Below some examples are shown."
   ]
  },
  {
   "cell_type": "code",
   "execution_count": 185,
   "metadata": {},
   "outputs": [
    {
     "data": {
      "text/plain": [
       "3×3 Matrix{Float64}:\n",
       "  0.229881  -0.882567   -0.526281\n",
       " -0.272343   0.231285   -2.34243\n",
       " -0.36102   -0.0849324  -1.82461"
      ]
     },
     "execution_count": 185,
     "metadata": {},
     "output_type": "execute_result"
    }
   ],
   "source": [
    "A"
   ]
  },
  {
   "cell_type": "code",
   "execution_count": 186,
   "metadata": {},
   "outputs": [
    {
     "data": {
      "text/plain": [
       "3×3 Diagonal{Float64, Vector{Float64}}:\n",
       " 0.229881   ⋅          ⋅ \n",
       "  ⋅        0.231285    ⋅ \n",
       "  ⋅         ⋅        -1.82461"
      ]
     },
     "execution_count": 186,
     "metadata": {},
     "output_type": "execute_result"
    }
   ],
   "source": [
    "Diagonal(diag(A)) # input: vector"
   ]
  },
  {
   "cell_type": "code",
   "execution_count": 187,
   "metadata": {},
   "outputs": [
    {
     "data": {
      "text/plain": [
       "3×3 Diagonal{Float64, Vector{Float64}}:\n",
       " 0.229881   ⋅          ⋅ \n",
       "  ⋅        0.231285    ⋅ \n",
       "  ⋅         ⋅        -1.82461"
      ]
     },
     "execution_count": 187,
     "metadata": {},
     "output_type": "execute_result"
    }
   ],
   "source": [
    "Diagonal(A) # input: matrix"
   ]
  },
  {
   "cell_type": "code",
   "execution_count": 188,
   "metadata": {},
   "outputs": [
    {
     "data": {
      "text/plain": [
       "3×3 LowerTriangular{Float64, Matrix{Float64}}:\n",
       "  0.229881    ⋅           ⋅ \n",
       " -0.272343   0.231285     ⋅ \n",
       " -0.36102   -0.0849324  -1.82461"
      ]
     },
     "execution_count": 188,
     "metadata": {},
     "output_type": "execute_result"
    }
   ],
   "source": [
    "LowerTriangular(tril(A))\n",
    "LowerTriangular(A)"
   ]
  },
  {
   "cell_type": "code",
   "execution_count": 189,
   "metadata": {},
   "outputs": [
    {
     "data": {
      "text/plain": [
       "3×3 Symmetric{Float64, Matrix{Float64}}:\n",
       "  0.459763  -1.15491  -0.887301\n",
       " -1.15491    0.46257  -2.42736\n",
       " -0.887301  -2.42736  -3.64922"
      ]
     },
     "execution_count": 189,
     "metadata": {},
     "output_type": "execute_result"
    }
   ],
   "source": [
    "Symmetric(Asym)"
   ]
  },
  {
   "cell_type": "code",
   "execution_count": 191,
   "metadata": {},
   "outputs": [
    {
     "data": {
      "text/plain": [
       "3×3 SymTridiagonal{Float64, Vector{Float64}}:\n",
       "  0.459763  -1.15491    ⋅ \n",
       " -1.15491    0.46257  -2.42736\n",
       "   ⋅        -2.42736  -3.64922"
      ]
     },
     "execution_count": 191,
     "metadata": {},
     "output_type": "execute_result"
    }
   ],
   "source": [
    "SymTridiagonal(diag(Asym), diag(Asym,1))"
   ]
  },
  {
   "cell_type": "markdown",
   "metadata": {},
   "source": [
    "**Symmetric eigenproblems**\n",
    "\n",
    "Whether or not Julia is able to detect if a matrix is symmetric/Hermitian can have a big influence on how fast an eigenvalue problem is solved. Sometimes it is known that a matrix is symmetric or Hermitian but due to floating point errors this is not detected by the `eigvals` function. In following example `Asym1` and `Asym2` are almost identical, but unless Julia is told that `Asym2` is symmetric, the elapsed time for the computation is very different. "
   ]
  },
  {
   "cell_type": "code",
   "execution_count": 197,
   "metadata": {},
   "outputs": [
    {
     "name": "stdout",
     "output_type": "stream",
     "text": [
      "Is Asym1 symmetric? true\n",
      "Is Asym2 symmetric? false\n"
     ]
    }
   ],
   "source": [
    "n = 1000;\n",
    "Random.seed!(1021);\n",
    "A = randn(n,n);\n",
    "Asym1 = A+A'\n",
    "Asym2 = copy(Asym1); Asym2[1,2] += 5eps();\n",
    "println(\"Is Asym1 symmetric? \", issymmetric(Asym1))\n",
    "println(\"Is Asym2 symmetric? \", issymmetric(Asym2))"
   ]
  },
  {
   "cell_type": "code",
   "execution_count": 198,
   "metadata": {},
   "outputs": [
    {
     "name": "stdout",
     "output_type": "stream",
     "text": [
      "  0.085767 seconds (11 allocations: 7.989 MiB)\n"
     ]
    }
   ],
   "source": [
    "@time eigvals(Asym1);"
   ]
  },
  {
   "cell_type": "code",
   "execution_count": 199,
   "metadata": {},
   "outputs": [
    {
     "name": "stdout",
     "output_type": "stream",
     "text": [
      "  0.644671 seconds (13 allocations: 7.920 MiB)\n"
     ]
    }
   ],
   "source": [
    "@time eigvals(Asym2);"
   ]
  },
  {
   "cell_type": "code",
   "execution_count": 200,
   "metadata": {},
   "outputs": [
    {
     "name": "stdout",
     "output_type": "stream",
     "text": [
      "  0.083106 seconds (12 allocations: 7.989 MiB)\n"
     ]
    }
   ],
   "source": [
    "@time eigvals(Symmetric(Asym2));"
   ]
  },
  {
   "cell_type": "markdown",
   "metadata": {},
   "source": [
    "## Generic linear algebra\n",
    "\n",
    "The usual way of adding support of numerical linear algebra is by wrapping BLAS and LAPACK subroutines. For matrices with elements of `Float32`, `Float64`, `Complex{Float32}`, `Complex{Float64}` this is also what Julia does. For a long time Julia has also had support for multiplication of general element types. \n",
    "Hence, when multiplying integer matrices, the outpus is also an integer."
   ]
  },
  {
   "cell_type": "code",
   "execution_count": 201,
   "metadata": {},
   "outputs": [
    {
     "data": {
      "text/plain": [
       "3×3 Matrix{Int64}:\n",
       " 33  53  47\n",
       " 48  89  89\n",
       " 40  70  66"
      ]
     },
     "execution_count": 201,
     "metadata": {},
     "output_type": "execute_result"
    }
   ],
   "source": [
    "rand(1:10,3,3)*rand(1:10,3,3)"
   ]
  },
  {
   "cell_type": "markdown",
   "metadata": {},
   "source": [
    "Recently, more generic linear algebra methods have been added and Julia now supports generic `LU` and `QR` factorizations. Generic eigenvalue and SVD methods have been written more recently.\n",
    "\n",
    "In general, `LU` factorizations can be computed whenever the matrix element type is closed under the operations `+`,`-`,`*` and `\\`. Of course the matrix also has to have full rank. The generic `LU` method in Julia applies pivoting and therefore the element hype also has to support `<` and `abs`. Hence it is possible to slove systems of equations of e.g. rational numbers which the following example shows. "
   ]
  },
  {
   "cell_type": "markdown",
   "metadata": {},
   "source": [
    "**Example 1: Rational linear system of equations**\n",
    "\n",
    "Julia has rational numbers built in. The following example shows how a linear system of equations can be solved without promoting to floating point element types. Overflow can easily become a problem when working with rational nubmers so we use `BigInt`s."
   ]
  },
  {
   "cell_type": "code",
   "execution_count": 202,
   "metadata": {},
   "outputs": [
    {
     "data": {
      "text/plain": [
       "3×3 Matrix{Rational{BigInt}}:\n",
       " 2//5  3//10  7//10\n",
       " 3//5  1//1   7//10\n",
       " 1//2  4//5   3//10"
      ]
     },
     "execution_count": 202,
     "metadata": {},
     "output_type": "execute_result"
    }
   ],
   "source": [
    "Ar = convert(Matrix{Rational{BigInt}}, rand(1:10,3,3))/10"
   ]
  },
  {
   "cell_type": "code",
   "execution_count": 204,
   "metadata": {},
   "outputs": [
    {
     "data": {
      "text/plain": [
       "3-element Vector{Rational{BigInt}}:\n",
       "  7//5\n",
       " 23//10\n",
       "  8//5"
      ]
     },
     "execution_count": 204,
     "metadata": {},
     "output_type": "execute_result"
    }
   ],
   "source": [
    "x = ones(Int,3)\n",
    "b = Ar*x"
   ]
  },
  {
   "cell_type": "code",
   "execution_count": 205,
   "metadata": {},
   "outputs": [
    {
     "data": {
      "text/plain": [
       "3-element Vector{Rational{BigInt}}:\n",
       " 1//1\n",
       " 1//1\n",
       " 1//1"
      ]
     },
     "execution_count": 205,
     "metadata": {},
     "output_type": "execute_result"
    }
   ],
   "source": [
    "Ar\\b"
   ]
  },
  {
   "cell_type": "code",
   "execution_count": 206,
   "metadata": {},
   "outputs": [
    {
     "data": {
      "text/plain": [
       "LU{Rational{BigInt}, Matrix{Rational{BigInt}}}\n",
       "L factor:\n",
       "3×3 Matrix{Rational{BigInt}}:\n",
       " 1//1  0//1   0//1\n",
       " 2//3  1//1   0//1\n",
       " 5//6  1//11  1//1\n",
       "U factor:\n",
       "3×3 Matrix{Rational{BigInt}}:\n",
       " 3//5    1//1     7//10\n",
       " 0//1  -11//30    7//30\n",
       " 0//1    0//1   -67//220"
      ]
     },
     "execution_count": 206,
     "metadata": {},
     "output_type": "execute_result"
    }
   ],
   "source": [
    "lu(Ar)"
   ]
  },
  {
   "cell_type": "markdown",
   "metadata": {},
   "source": [
    "**Example 2: Rational matrix from eigenstructure**\n",
    "\n",
    "The next example shows how rational matrix arithmetic can be used for calculating a matrix given rational eigenvalues and eigenvectors. I have found this convenient when giving examples of linear dynamic systems."
   ]
  },
  {
   "cell_type": "code",
   "execution_count": 210,
   "metadata": {},
   "outputs": [
    {
     "data": {
      "text/plain": [
       "3×3 Matrix{Rational{Int64}}:\n",
       " 1//1  -1//2  -1//4\n",
       " 0//1   1//2  -1//4\n",
       " 0//1   0//1   1//4"
      ]
     },
     "execution_count": 210,
     "metadata": {},
     "output_type": "execute_result"
    }
   ],
   "source": [
    "λ1, λ2, λ3 = 1//1,1//2,1//4\n",
    "v1, v2, v3= [1,0,0],[1,1,0], [1,1,1]\n",
    "V, Λ = [v1 v2 v3], Diagonal([λ1, λ2, λ3])\n",
    "A = V*Λ/V"
   ]
  },
  {
   "cell_type": "code",
   "execution_count": null,
   "metadata": {},
   "outputs": [],
   "source": []
  }
 ],
 "metadata": {
  "kernelspec": {
   "display_name": "Julia 1.6.7",
   "language": "julia",
   "name": "julia-1.6"
  },
  "language_info": {
   "file_extension": ".jl",
   "mimetype": "application/julia",
   "name": "julia",
   "version": "1.6.7"
  }
 },
 "nbformat": 4,
 "nbformat_minor": 5
}
