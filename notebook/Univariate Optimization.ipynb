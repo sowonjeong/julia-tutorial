{
 "cells": [
  {
   "cell_type": "markdown",
   "metadata": {},
   "source": [
    "# Implement Univariate optimization"
   ]
  },
  {
   "cell_type": "markdown",
   "metadata": {},
   "source": [
    "## Newton's Methods"
   ]
  },
  {
   "cell_type": "code",
   "execution_count": 22,
   "metadata": {},
   "outputs": [
    {
     "data": {
      "text/plain": [
       "newton (generic function with 2 methods)"
      ]
     },
     "execution_count": 22,
     "metadata": {},
     "output_type": "execute_result"
    }
   ],
   "source": [
    "function newton(f, df, x, stop = 100) # denote f' as df\n",
    "     xnew, xold = x, Inf\n",
    "     fn, fo = f(xnew), Inf\n",
    "\n",
    "     tol = 1e-14\n",
    "     n = 1\n",
    "\n",
    "     while (n < stop) && (abs(xnew - xold) > tol) && ( abs(fn - fo) > tol )\n",
    "       x = xnew - f(xnew)/df(xnew) # update step\n",
    "       xnew, xold = x, xnew\n",
    "           fn, fo = f(xnew), fn\n",
    "       n = n + 1\n",
    "     end\n",
    "\n",
    "     if n == stop\n",
    "        error(\"Did not converge in \",stop,\" steps\")\n",
    "         else\n",
    "       xnew, n\n",
    "         end\n",
    "end"
   ]
  },
  {
   "cell_type": "markdown",
   "metadata": {},
   "source": [
    "Let's test with $f(x) = x^2-17$"
   ]
  },
  {
   "cell_type": "code",
   "execution_count": 27,
   "metadata": {},
   "outputs": [
    {
     "data": {
      "text/plain": [
       "(4.123105625617661, 6)"
      ]
     },
     "execution_count": 27,
     "metadata": {},
     "output_type": "execute_result"
    }
   ],
   "source": [
    "f(x) = x^2 - 17\n",
    "df(x) = 2x\n",
    "xhat, n = newton(f,df,4)"
   ]
  },
  {
   "cell_type": "code",
   "execution_count": 28,
   "metadata": {},
   "outputs": [
    {
     "name": "stdout",
     "output_type": "stream",
     "text": [
      "0.0"
     ]
    }
   ],
   "source": [
    "err = abs(xhat-sqrt(17))\n",
    "print(err)"
   ]
  },
  {
   "cell_type": "markdown",
   "metadata": {},
   "source": [
    "Let's test with g(x) = 10 - x + esin(x)"
   ]
  },
  {
   "cell_type": "code",
   "execution_count": 32,
   "metadata": {},
   "outputs": [
    {
     "data": {
      "text/plain": [
       "dg (generic function with 1 method)"
      ]
     },
     "execution_count": 32,
     "metadata": {},
     "output_type": "execute_result"
    }
   ],
   "source": [
    "g(x) = 10 - x + ℯ*sin(x) #\\euler tab\n",
    "dg(x) = -1 + ℯ*sin(x)+ℯ*cos(x)"
   ]
  },
  {
   "cell_type": "code",
   "execution_count": 33,
   "metadata": {},
   "outputs": [
    {
     "data": {
      "text/plain": [
       "(9.579933542259601, 67)"
      ]
     },
     "execution_count": 33,
     "metadata": {},
     "output_type": "execute_result"
    }
   ],
   "source": [
    "yhat , m = newton(g, dg, 1)"
   ]
  },
  {
   "cell_type": "markdown",
   "metadata": {},
   "source": [
    "## Method of Bisection"
   ]
  },
  {
   "cell_type": "code",
   "execution_count": null,
   "metadata": {},
   "outputs": [],
   "source": [
    "import Pkg\n",
    "using Plots"
   ]
  },
  {
   "cell_type": "code",
   "execution_count": 13,
   "metadata": {},
   "outputs": [
    {
     "data": {
      "text/plain": [
       "bisection (generic function with 1 method)"
      ]
     },
     "execution_count": 13,
     "metadata": {},
     "output_type": "execute_result"
    }
   ],
   "source": [
    "function bisection(f,a,b,tol)\n",
    "    mid_val = Vector{Float64}()\n",
    "    if sign(f(a)) == sign(f(b))\n",
    "        error(\"function has the same at given endpoints\")\n",
    "    end\n",
    "    \n",
    "    mid = (a+b)/2\n",
    "    mid_val = append!(mid_val, mid)\n",
    "    \n",
    "    while(abs(f(mid))) > tol\n",
    "        \n",
    "        sign(f(mid)) == sign(f(a)) ? a=mid : b=mid\n",
    "        \n",
    "        mid = (a+b)/2\n",
    "        mid_val = append!(mid_val, mid)\n",
    "    end\n",
    "    \n",
    "    return mid, mid_val\n",
    "    \n",
    "end"
   ]
  },
  {
   "cell_type": "code",
   "execution_count": 34,
   "metadata": {},
   "outputs": [
    {
     "name": "stdout",
     "output_type": "stream",
     "text": [
      "3.771899566018533e-7"
     ]
    }
   ],
   "source": [
    "xhat, xs = bisection(f,4,5,1e-5)\n",
    "err = abs(xhat-sqrt(17))\n",
    "print(err)"
   ]
  },
  {
   "cell_type": "code",
   "execution_count": 35,
   "metadata": {},
   "outputs": [
    {
     "data": {
      "text/plain": [
       "19-element Vector{Float64}:\n",
       " 4.5\n",
       " 4.25\n",
       " 4.125\n",
       " 4.0625\n",
       " 4.09375\n",
       " 4.109375\n",
       " 4.1171875\n",
       " 4.12109375\n",
       " 4.123046875\n",
       " 4.1240234375\n",
       " 4.12353515625\n",
       " 4.123291015625\n",
       " 4.1231689453125\n",
       " 4.12310791015625\n",
       " 4.123077392578125\n",
       " 4.1230926513671875\n",
       " 4.123100280761719\n",
       " 4.123104095458984\n",
       " 4.123106002807617"
      ]
     },
     "execution_count": 35,
     "metadata": {},
     "output_type": "execute_result"
    }
   ],
   "source": [
    "xs"
   ]
  },
  {
   "cell_type": "code",
   "execution_count": 43,
   "metadata": {},
   "outputs": [],
   "source": [
    "yhat , ys = bisection(g, 1,75,1e-5);"
   ]
  },
  {
   "cell_type": "code",
   "execution_count": 44,
   "metadata": {},
   "outputs": [
    {
     "data": {
      "text/plain": [
       "9.579933047294617"
      ]
     },
     "execution_count": 44,
     "metadata": {},
     "output_type": "execute_result"
    }
   ],
   "source": [
    "yhat"
   ]
  },
  {
   "cell_type": "code",
   "execution_count": 45,
   "metadata": {},
   "outputs": [
    {
     "data": {
      "text/plain": [
       "24-element Vector{Float64}:\n",
       " 38.0\n",
       " 19.5\n",
       " 10.25\n",
       "  5.625\n",
       "  7.9375\n",
       "  9.09375\n",
       "  9.671875\n",
       "  9.3828125\n",
       "  9.52734375\n",
       "  9.599609375\n",
       "  9.5634765625\n",
       "  9.58154296875\n",
       "  9.572509765625\n",
       "  9.5770263671875\n",
       "  9.57928466796875\n",
       "  9.580413818359375\n",
       "  9.579849243164062\n",
       "  9.580131530761719\n",
       "  9.57999038696289\n",
       "  9.579919815063477\n",
       "  9.579955101013184\n",
       "  9.57993745803833\n",
       "  9.579928636550903\n",
       "  9.579933047294617"
      ]
     },
     "execution_count": 45,
     "metadata": {},
     "output_type": "execute_result"
    }
   ],
   "source": [
    "ys"
   ]
  },
  {
   "cell_type": "markdown",
   "metadata": {},
   "source": [
    "# Optimization package in Julia"
   ]
  },
  {
   "cell_type": "code",
   "execution_count": 8,
   "metadata": {},
   "outputs": [],
   "source": [
    "import Pkg\n",
    "# Pkg.add(\"Optim\")"
   ]
  },
  {
   "cell_type": "code",
   "execution_count": 9,
   "metadata": {},
   "outputs": [
    {
     "data": {
      "text/plain": [
       "Results of Optimization Algorithm\n",
       " * Algorithm: Brent's Method\n",
       " * Search Interval: [0.000000, 6.283185]\n",
       " * Minimizer: 3.926991e+00\n",
       " * Minimum: -1.414214e+00\n",
       " * Iterations: 11\n",
       " * Convergence: max(|x - x_upper|, |x - x_lower|) <= 2*(1.5e-08*|x|+2.2e-16): true\n",
       " * Objective Function Calls: 12"
      ]
     },
     "execution_count": 9,
     "metadata": {},
     "output_type": "execute_result"
    }
   ],
   "source": [
    "using Optim\n",
    "f(x) = sin(x) + cos(x)\n",
    "Optim.optimize(f, 0.0, 2π) # \\pi tab"
   ]
  },
  {
   "cell_type": "markdown",
   "metadata": {},
   "source": [
    "Note that built-in optimizer gives the minimum using **Brent's method**. "
   ]
  }
 ],
 "metadata": {
  "kernelspec": {
   "display_name": "Julia 1.6.7",
   "language": "julia",
   "name": "julia-1.6"
  },
  "language_info": {
   "file_extension": ".jl",
   "mimetype": "application/julia",
   "name": "julia",
   "version": "1.6.7"
  }
 },
 "nbformat": 4,
 "nbformat_minor": 2
}
